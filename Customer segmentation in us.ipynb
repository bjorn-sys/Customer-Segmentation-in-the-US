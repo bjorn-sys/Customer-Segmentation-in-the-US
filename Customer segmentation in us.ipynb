{
 "cells": [
  {
   "cell_type": "markdown",
   "id": "0de3367a",
   "metadata": {},
   "source": [
    "# Customer-Segmentation-in-the-US\n",
    "\n",
    "# FEATURES AND MEANING #\n",
    "\n",
    "ACTBUS \tTotal value of actively managed business(es), 2019 dollars\n",
    "\n",
    "AGE \tAge of reference person\n",
    "\n",
    "AGECL \tAge group of the reference person\n",
    "\n",
    "ANNUIT \tAmount R would receive if they cashed in annuities, 2019 dollars\n",
    "\n",
    "ANYPEN \tPension exists for either reference person or spouse\n",
    "\n",
    "ASSET \tTotal value of assets held by household, 2019 dollars\n",
    "\n",
    "ASSETCAT \tAsset percentile groups\n",
    "\n",
    "BCALL \tInformation used for borrowing decisions\n",
    "\n",
    "BDONT \tInformation used for borrowing decisions\n",
    "\n",
    "BFINPLAN \tInformation used for borrowing decisions\n",
    "\n",
    "BFINPRO \tInformation used for borrowing decisions\n",
    "\n",
    "BFRIENDWORK \tInformation used for borrowing decisions\n",
    "\n",
    "BINTERNET \tInformation used for borrowing decisions\n",
    "\n",
    "BMAGZNEWS \tInformation used for borrowing decisions\n",
    "\n",
    "BMAILADTV \tInformation used for borrowing decisions\n",
    "\n",
    "BNKRUPLAST5 \tHousehold has declared bankruptcy in the past 5 years\n",
    "\n",
    "BOND \tTotal value of directly held bonds held by household, 2019 dollars\n",
    "\n",
    "BOTHER \tInformation used for borrowing decisions\n",
    "\n",
    "BPLANCJ \tEither reference person or spouse/partner has both types of pension plan on a current job\n",
    "\n",
    "BSELF \tInformation used for borrowing decisions\n",
    "\n",
    "BSHOPGRDL \tShopping for borrowing and credit\n",
    "\n",
    "BSHOPMODR \tShopping for borrowing and credit\n",
    "\n",
    "BSHOPNONE \tShopping for borrowing and credit\n",
    "\n",
    "BUS \tTotal value of business(es) in which the household has either an active or nonactive interest, 2019 dollars\n",
    "\n",
    "BUSSEFARMINC \tIncome from business, sole proprietorship, and farm, 2019 dollars\n",
    "\n",
    "BUSVEH \tHousehold has vehicle(s) owned by business\n",
    "\n",
    "\n",
    "CALL \tTotal value of call accounts held by household, 2019 dollars\n",
    "\n",
    "CANTMANG \tWhy no checking account\n",
    "\n",
    "CASEID \tCase ID (numeric)\n",
    "\n",
    "CASHLI \tTotal cash value of whole life insurance held by household, 2019 dollars\n",
    "\n",
    "CCBAL \tTotal value of credit card balances held by household, 2019 dollars\n",
    "\n",
    "CDS \tTotal value of certificates of deposit held by household, 2019 dollars\n",
    "\n",
    "CHECKING \tTotal value of checking accounts held by household, 2019 dollars\n",
    "\n",
    "CKCONNECTN \tWhy chose main checking account institution\n",
    "\n",
    "\n",
    "CKCONVPAYRL \tWhy chose main checking account institution\n",
    "\n",
    "CKLOCATION \tWhy chose main checking account institution\n",
    "\n",
    "CKLONGTIME \tWhy chose main checking account institution\n",
    "\n",
    "CKLOWFEEBAL \tWhy chose main checking account institution\n",
    "\n",
    "CKMANYSVCS \tWhy chose main checking account institution\n",
    "\n",
    "CKOTHCHOOSE \tWhy chose main checking account institution\n",
    "\n",
    "CKPERSONAL \tWhy chose main checking account institution\n",
    "\n",
    "CKRECOMFRND \tWhy chose main checking account institution\n",
    "\n",
    "CKSAFETY \tWhy chose main checking account institution\n",
    "\n",
    "COMUTF \tamount in combination and other mutual funds, 2019 dollars\n",
    "\n",
    "CONSPAY \ttotal monthly consumer debt payments, 2019 dollars\n",
    "\n",
    "CPI_DEFL \tDeflator Value\n",
    "\n",
    "CREDIT \tWhy no checking account\n",
    "\n",
    "CURRPEN \tcurrent value in pension, 2019 dollars\n",
    "\n",
    "DBPLANCJ \tEither reference person or spouse/partner has a defined benefit pension on a current job\n",
    "\n",
    "DBPLANT \tEither reference person or spouse/partner has DB plan on current job or some type of pension from a past job to be received in the future\n",
    "\n",
    "DCPLANCJ \tEither reference person or spouse/partner has any type of account-based plan on a current job\n",
    "\n",
    "DEBT \tTotal value of debt held by household, 2019 dollars\n",
    "\n",
    "DEBT2INC \tRatio of total debt to total income\n",
    "\n",
    "DEQ \tTotal value of equity in directly held stocks, stock mutual funds, and combination mutual funds held by household, 2019 dollars\n",
    "\n",
    "DONTLIKE \tWhy no checking account\n",
    "\n",
    "DONTWANT \tWhy no checking account\n",
    "\n",
    "DONTWRIT \tWhy no checking account\n",
    "\n",
    "\n",
    "EDCL \tEducation category of reference person\n",
    "\n",
    "EDN_INST \tTotal value of education loans held by household, 2019 dollars\n",
    "\n",
    "EDUC \tHighest completed grade by reference person\n",
    "\n",
    "EHCHKG \tpeople w/o checking accounts\n",
    "\n",
    "EMERGBORR \tRespondent would borrow money in a hypothetical financial emergency\n",
    "\n",
    "EMERGCUT \tRespondent would cut back spending in a hypothetical financial emergency\n",
    "\n",
    "EMERGPSTP \tRespondent would postpone payments in a hypothetical financial emergency\n",
    "\n",
    "EMERGSAV \tRespondent would spend out of savings in a hypothetical financial emergency\n",
    "\n",
    "EQUITINC \tratio of equity to normal income\n",
    "\n",
    "EQUITY \tTotal value of financial assets held by household that are invested in stock, 2019 dollars\n",
    "\n",
    "EXPENSHILO \tHouseholds overall expenses over last 12 months\n",
    "\n",
    "FAMSTRUCT \tFamily structure of household\n",
    "\n",
    "FARMBUS_KG \tcapital gains on farm businesses, 2019 dollars\n",
    "\n",
    "FARMBUS \tcompute value of business part of farm net of outstanding mortgages, 2019 dollars\n",
    "\n",
    "FEARDENIAL \tHousehold feared being denied credit in the past 5 years\n",
    "\n",
    "FIN \tTotal value of financial assets held by household, 2019 dollars\n",
    "\n",
    "FINLIT \tNumber of financial literacy questions answered correctly\n",
    "\n",
    "FOODAWAY \tTotal amount spent on food away from home, annualized, 2019 dollars\n",
    "\n",
    "FOODDELV \tTotal amount spent on food delivered to home, annualized, 2019 dollars\n",
    "\n",
    "FOODHOME \tTotal amount spent on food at home, annualized, 2019 dollars\n",
    "\n",
    "FORECLLAST5 \tRespondent had a foreclosure in the last five years\n",
    "\n",
    "FUTPEN \tfuture pensions (accumulated in an account for the R/S), 2019 dollars\n",
    "\n",
    "GBMUTF \tamount in government bond mutual funds, 2019 dollars\n",
    "\n",
    "GOVTBND \tUS government and government agency bonds and bills, 2019 dollars\n",
    "\n",
    "HBORRALT \tRespondent would borrow money from alternative sources in a hypothetical financial emergency\n",
    "\n",
    "HBORRCC \tRespondent would borrow money using a credit card in a hypothetical financial emergency\n",
    "\n",
    "HBORRFF \tRespondent would borrow money from friends or family in a hypothetical financial emergency\n",
    "4\n",
    "HBORRFIN \tRespondent would borrow money from financial services in a hypothetical financial emergency\n",
    "\n",
    "HBROK \thave a brokerage account\n",
    "\n",
    "HBUS \tHave active or non-actively managed business(es)\n",
    "\n",
    "HCUTENT \tRespondent would postpone payments for entertainment in a hypothetical financial emergency\n",
    "\n",
    "HCUTFOOD \tRespondent would cut back on food purchases in a hypothetical financial emergency\n",
    "\n",
    "HCUTOTH \tRespondent would postpone other payments in a hypothetical financial emergency\n",
    "\n",
    "HDEBT \tHousehold has any debt\n",
    "\n",
    "HELOC_YN \tCurrently borrowing on home equity line of credit\n",
    "\n",
    "HELOC \tTotal value of home equity lines of credit secured by the primary residence held by the household, 2019 dollars\n",
    "\n",
    "HHSEX \tGender of household reference person\n",
    "\n",
    "HLIQ \tHousehold has any checking, savings, money market or call accounts\n",
    "\n",
    "HMORT2 \tHave junior lien mortgage not used for purchase of primary residence\n",
    "\n",
    "HOMEEQ \tTotal value of equity in primary residence of household, 2019 dollars\n",
    "\n",
    "HOUSECL \tHome-ownership category of household\n",
    "\n",
    "HOUSES \tTotal value of primary residence of household, 2019 dollars\n",
    "HPAYDAY \tHousehold had a payday loan within the past year\n",
    "HPRIM_MORT \tHave first lien mortgage on primary residence\n",
    "HPSTPLN \tRespondent would postpone payments on loans in a hypothetical financial emergency\n",
    "HPSTPOTH \tRespondent would postpone other payments in a hypothetical financial emergency\n",
    "HPSTPPAY \tRespondent would postpone payments for purchases in a hypothetical financial emergency\n",
    "HSAVFIN \tRespondent would spend out of financial sources in a hypothetical financial emergency\n",
    "HSAVNFIN \tRespondent would spend out of non-financial sources in a hypothetical financial emergency\n",
    "HSEC_MORT \tHave junior lien mortgage on primary residence\n",
    "HSTOCKS \thave stocks?\n",
    "HTRAD \ttraded in the past year\n",
    "ICALL \tInformation used for investing decisions\n",
    "IDONT \tInformation used for investing decisions\n",
    "IFINPLAN \tInformation used for investing decisions\n",
    "IFINPRO \tInformation used for investing decisions\n",
    "IFRIENDWORK \tInformation used for investing decisions\n",
    "IINTERNET \tInformation used for investing decisions\n",
    "IMAGZNEWS \tInformation used for investing decisions\n",
    "IMAILADTV \tInformation used for investing decisions\n",
    "INCCAT \tIncome percentile groups\n",
    "INCOME \tTotal amount of income of household, 2019 dollars\n",
    "INCPCTLECAT \tAlternate income percentile groups\n",
    "INCQRTCAT \tIncome quartile groups\n",
    "INDCAT \tIndustry classifications for reference person\n",
    "INSTALL \tTotal value of installment loans held by household, 2019 dollars\n",
    "INTDIVINC \tInterest (taxable and nontaxable) and dividend income, 2019 dollars\n",
    "INTERNET \tDo business with financial institution via the Internet\n",
    "IOTHER \tInformation used for investing decisions\n",
    "IRAKH \tTotal value of IRA/Keogh accounts, 2019 dollars\n",
    "ISELF \tInformation used for investing decisions\n",
    "ISHOPGRDL \tShopping for saving and investments\n",
    "ISHOPMODR \tShopping for saving and investments\n",
    "ISHOPNONE \tShopping for saving and investments\n",
    "KGBUS \tUnrealized capital gains or losses on businesses, 2019 dollars\n",
    "KGHOUSE \tUnrealized capital gains or losses on the primary residence, 2019 dollars\n",
    "KGINC \tCapital gain or loss income, 2019 dollars\n",
    "KGINC \tCapital gain or loss income, 2019 dollars\n",
    "KGORE \tUnrealized capital gains or losses on other real estate, 2019 dollars\n",
    "KGSTMF \tUnrealized capital gains or losses on stocks and mutual funds, 2019 dollars\n",
    "KGTOTAL \tTotal unrealized capital gains or losses for the household, 2019 dollars\n",
    "KIDS \tTotal number of children in household\n",
    "KNOWL \tRespondent's knowledge of personal finances\n",
    "LATE \tHousehold had any late debt payments in last year\n",
    "LATE60 \tHousehold had any debt payments more than 60 days past due in last year\n",
    "LEASE \thave leased vehicle\n",
    "LEVRATIO \tRatio of total debt to total assets\n",
    "LF \tLabor force participation of reference person\n",
    "LIFECL \tLife cycle of reference person\n",
    "LIQ \tTotal value of all types of transactions accounts, 2019 dollars\n",
    "LLOAN1 \tTotal balance of household loans where the lender is a commercial bank, 2019 dollars\n",
    "LLOAN10 \tTotal balance of household loans where the lender is a store and/or a credit card, 2019 dollars\n",
    "LLOAN11 \tTotal balance of household loans where the lender is a pension, 2019 dollars\n",
    "LLOAN12 \tTotal balance of household loans where the lender is other, unclassifiable, or foreign, 2019 dollars\n",
    "LLOAN2 \tTotal balance of household loans where the lender is saving and loan, 2019 dollars\n",
    "LLOAN3 \tTotal balance of household loans where the lender is credit union, 2019 dollars\n",
    "LLOAN4 \tTotal balance of household loans where the lender is finance, loan or leasing company, or inc debt consolidator, 2019 dollars\n",
    "LLOAN5 \tTotal balance of household loans where the lender is a brokerage and/or life insurance company, 2019 dollars\n",
    "LLOAN6 \tTotal balance of household loans where the lender is a real estate company, 2019 dollars\n",
    "LLOAN7 \tTotal balance of household loans where the lender is an individual, 2019 dollars\n",
    "LLOAN8 \tTotal balance of household loans where the lender is an other non-financial, 2019 dollars\n",
    "LLOAN9 \tTotal balance of household loans where the lender is government, 2019 dollars\n",
    "MARRIED \tMarital status of reference person\n",
    "MINBAL \tWhy no checking account\n",
    "MMA \tTotal value of money market deposit and money market mutual fund accounts, 2019 dollars\n",
    "MMDA \tmoney market deposit accounts, 2019 dollars\n",
    "MMMF \tmoney market mutual funds, 2019 dollars\n",
    "MORT1 \tAmount owed on mortgage 1, 2019 dollars\n",
    "MORT2 \tAmount owed on mortgage 2, 2019 dollars\n",
    "MORT3 \tAmount owed on mortgage 3, 2019 dollars\n",
    "MORTBND \tmortgage-backed bonds, 2019 dollars\n",
    "MORTPAY \ttotal monthly mortgage payments, 2019 dollars\n",
    "MRTHEL \tTotal value of debt secured by the primary residence held by household, 2019 dollars\n",
    "NBUSVEH \tTotal number of business vehicles held by household\n",
    "NETWORTH \tTotal net worth of household, 2019 dollars\n",
    "NEWCAR1 \tnumber of car/truck/SUV with model year no older than two years before the survey\n",
    "NEWCAR2 \tnumber of car/truck/SUV with model year no older than one year before the survey\n",
    "NFIN \tTotal value of non-financial assets held by household, 2019 dollars\n",
    "\n",
    "\n",
    "NH_MORT \tTotal value of mortgages and home equity loans secured by the primary residence held by household, 2019 dollars\n",
    "\n",
    "\n",
    "\n",
    "NHNFIN \ttotal non-financial assets excluding principal residences, 2019 dollars\n",
    "\n",
    "\n",
    "NINCCAT \tNormal income percentile groups\n",
    "NINCPCTLECAT \tAlternate Normal income percentile groups\n",
    "NINCQRTCAT \tNormal income quartile groups\n",
    "NLEASE \tnumber of leased vehicles\n",
    "NMMF \tTotal value of directly held pooled investment funds held by household, 2019 dollars\n",
    "NNRESRE \tTotal value of net equity in nonresidential real estate held by household, 2019 dollars\n",
    "NOCCBAL \tHousehold does not carry a balance on credit cards\n",
    "NOCHK \tHousehold has no checking account\n",
    "NOFINRISK \tRespondent not willing to take financial risk\n",
    "NOMONEY \tWhy no checking account\n",
    "NONACTBUS \tValue of non-actively managed business(es), 2019 dollars\n",
    "NORMINC \tHousehold normal income, 2019 dollars\n",
    "NOTXBND \ttax-exempt bonds (state and local bonds), 2019 dollars\n",
    "NOWN \tnumber of owned vehicles\n",
    "NSTOCKS \tnumber different companies in which hold stock\n",
    "NTRAD \tnumber of trades per year\n",
    "NVEHIC \ttotal number of vehicles (owned and leased)\n",
    "NWCAT \tNet worth percentile groups\n",
    "NWPCTLECAT \tAlternate net worth percentile groups\n",
    "OBMUTF \tamount in other bond mutual funds, 2019 dollars\n",
    "OBND \tcorporate and foreign bonds, 2019 dollars\n",
    "OCCAT1 \tOccupation categories for reference person\n",
    "OCCAT2 \tOccupation classification for reference person\n",
    "ODEBT \tTotal value of other debts held by household, 2019 dollars\n",
    "OMUTF \tamount in other mutual funds, 2019 dollars\n",
    "ORESRE \tTotal value of other residential real estate held by household, 2019 dollars\n",
    "OTH_INST \tTotal value of other installment loans held by household, 2019 dollars\n",
    "OTHER \tWhy no checking account\n",
    "OTHFIN \tTotal value of other financial assets, 2019 dollars\n",
    "OTHLOC \tTotal value of other lines of credit held by household, 2019 dollars\n",
    "OTHMA \tTotal value of other managed assets held by household, 2019 dollars\n",
    "OTHNFIN \tTotal value of other non-financial assets held by household, 2019 dollars\n",
    "OWN \thave an owned vehicle\n",
    "PAYEDU1 \tpayments on first education loan, 2019 dollars\n",
    "PAYEDU2 \tpayments on second education loan, 2019 dollars\n",
    "PAYEDU3 \tpayments on third education loan, 2019 dollars\n",
    "PAYEDU4 \tpayments on fourth education loan, 2019 dollars\n",
    "PAYEDU5 \tpayments on fifth education loan, 2019 dollars\n",
    "PAYEDU6 \tpayments on sixth education loan, 2019 dollars\n",
    "PAYEDU7 \tpayments on seventh education loan, 2019 dollars\n",
    "PAYHI1 \tpayments on first home improvement loan, 2019 dollars\n",
    "PAYHI2 \tpayments on second home improvement loan, 2019 dollars\n",
    "PAYILN1 \tpayments on first installment loan, 2019 dollars\n",
    "PAYILN2 \tpayments on second installment loan, 2019 dollars\n",
    "PAYILN3 \tpayments on third installment loan, 2019 dollars\n",
    "PAYILN4 \tpayments on fourth installment loan, 2019 dollars\n",
    "PAYILN5 \tpayments on fifth installment loan, 2019 dollars\n",
    "PAYILN6 \tpayments on sixth installment loan, 2019 dollars\n",
    "PAYILN7 \tpayments on seventh installment loan, 2019 dollars\n",
    "PAYINS \tpayments on loans against insurance policies, 2019 dollars\n",
    "PAYLC1 \tpayments on first land contract, 2019 dollars\n",
    "PAYLC2 \tpayments on second land contract, 2019 dollars\n",
    "PAYLCO \tpayments on other land contracts, 2019 dollars\n",
    "PAYLOC1 \tpayments on first line of credit, 2019 dollars\n",
    "PAYLOC2 \tpayments on second line of credit, 2019 dollars\n",
    "PAYLOC3 \tpayments on third line of credit, 2019 dollars\n",
    "PAYLOCO \tpayments on other lines of credit, 2019 dollars\n",
    "PAYMARG \tpayments on margin loans, 2019 dollars\n",
    "PAYMORT1 \tpayments on first mortgage, 2019 dollars\n",
    "PAYMORT2 \tpayments on second mortgage, 2019 dollars\n",
    "PAYMORT3 \tpayments on third mortgage, 2019 dollars\n",
    "PAYMORTO \tpayments on other loans, 2019 dollars\n",
    "PAYORE1 \tpayments on first other residential property, 2019 dollars\n",
    "PAYORE2 \tpayments on second other residential property, 2019 dollars\n",
    "PAYORE3 \tpayments on third other residential property, 2019 dollars\n",
    "PAYOREV \tpayments on remaining other residential properties, 2019 dollars\n",
    "PAYPEN1 \tpayments on loan against first pension plan not previously reported, 2019 dollars\n",
    "PAYPEN2 \tpayments on loan against second pension plan not previously reported, 2019 dollars\n",
    "PAYPEN3 \tpayments on loan against third pension plan not previously reported, 2019 dollars\n",
    "PAYPEN4 \tpayments on loan against fourth pension plan not previously reported, 2019 dollars\n",
    "PAYPEN5 \tpayments on loan against fifth pension plan not previously reported, 2019 dollars\n",
    "PAYPEN6 \tpayments on loan against sixth pension plan not previously reported, 2019 dollars\n",
    "PAYVEH1 \tpayments on first vehicle, 2019 dollars\n",
    "PAYVEH2 \tpayments on second vehicle, 2019 dollars\n",
    "PAYVEH3 \tpayments on third vehicle, 2019 dollars\n",
    "PAYVEH4 \tpayments on fourth vehicle, 2019 dollars\n",
    "PAYVEHM \tpayments on remaining vehicles, 2019 dollars\n",
    "PAYVEO1 \tpayment on first other vehicle, 2019 dollars\n",
    "PAYVEO2 \tpayment on second other vehicle, 2019 dollars\n",
    "PAYVEOM \tpayment on remaining other vehicles, 2019 dollars\n",
    "PENACCTWD \tWithdrawals from IRAs and tax-deferred pension accounts, 2019 dollars\n",
    "PIR40 \tHousehold has a PIR higher than 40%\n",
    "PIRCONS \tratio of monthly non-mortgage non-revolving consumer debt payments to monthly income\n",
    "PIRMORT \tratio of monthly mortgage payments to monthly income\n",
    "PIRREV \tratio of monthly revolving debt payments to monthly income\n",
    "PIRTOTAL \tRatio of monthly debt payments to monthly income\n",
    "PLOAN1 \tTotal value of aggregate loan balance by loan purpose\n",
    "PLOAN2 \tTotal value of aggregate loan balance by loan purpose\n",
    "PLOAN3 \tTotal value of aggregate loan balance by loan purpose\n",
    "PLOAN4 \tTotal value of aggregate loan balance by loan purpose\n",
    "PLOAN5 \tTotal value of aggregate loan balance by loan purpose\n",
    "PLOAN6 \tTotal value of aggregate loan balance by loan purpose\n",
    "PLOAN7 \tTotal value of aggregate loan balance by loan purpose\n",
    "PLOAN8 \tTotal value of aggregate loan balance by loan purpose\n",
    "PREPAID \tAmount in prepaid card accounts, 2019 dollars\n",
    "PURCH1 \tFirst lien on primary residence used for purchase of primary residence\n",
    "PURCH2 \tJunior lien on primary residence used for purchase of primary residence\n",
    "RACE \tRace/ethnicity of respondent\n",
    "RACECL \tClass of race of respondent\n",
    "RACECL4 \tAlternate class of race of respondent\n",
    "REFIN_EVER \tRefinanced first lien mortgage on primary residence\n",
    "RENT \tMonthly rent, 2019 dollars\n",
    "RESDBT \tTotal value of debt for other residential property held by households, 2019 dollars\n",
    "RETEQ \tTotal value of equity in quasi-liquid retirement assets, 2019 dollars\n",
    "RETQLIQ \tTotal value of quasi-liquid held by household, 2019 dollars\n",
    "REVPAY \ttotal monthly revolving debt payments, 2019 dollars\n",
    "SAVBND \tTotal value of savings bonds held by household, 2019 dollars\n",
    "SAVED \tIndicator of whether the household saved over the past 12 months\n",
    "SAVING \tTotal value of savings accounts held by household, 2019 dollars\n",
    "SAVRES1 \tReason for saving\n",
    "SAVRES2 \tReason for saving\n",
    "SAVRES3 \tReason for saving\n",
    "SAVRES4 \tReason for saving\n",
    "SAVRES5 \tReason for saving\n",
    "SAVRES6 \tReason for saving\n",
    "SAVRES7 \tReason for saving\n",
    "SAVRES8 \tReason for saving\n",
    "SAVRES9 \tReason for saving\n",
    "SPENDLESS \tR would spend less if assets depreciated in value\n",
    "SPENDMOR \tR would spend more if assets appreciated in value\n",
    "SSRETINC \tSocial security and pension income, 2019 dollars\n",
    "STMUTF \tamount in stock mutual funds, 2019 dollars\n",
    "STOCKS \tTotal value of directly held stocks held by household, 2019 dollars\n",
    "SVCCHG \tWhy no checking account\n",
    "TFBMUTF \tamount in tax-free bond mutual funds, 2019 dollars\n",
    "THRIFT \tTotal value of account-type pension plans from R and spouse's current job, 2019 dollars\n",
    "TPAY \tTotal value of monthly debt payments, 2019 dollars\n",
    "TRANSFOTHINC \tUnemployment, alimony/child support, TANF/food stamps/SSI, and other income, 2019 dollars\n",
    "TRUSTS \tAmount R would receive if they cashed in trusts, 2019 dollars\n",
    "TURNDOWN \tHousehold has been turned down for credit in the past 5 years\n",
    "TURNFEAR \tHousehold has been turned down for credit or feared being denied credit in the past 5 years\n",
    "VEH_INST \tTotal value of vehicle loans held by household, 2019 dollars\n",
    "VEHIC \tTotal value of all vehicles held by household, 2019 dollars\n",
    "VLEASE \tTotal value of leased vehicles held by household, 2019 dollars\n",
    "WAGEINC \tWage and salary income, 2019 dollars\n",
    "WGT \tSample weight\n",
    "WHYNOCKG \tReason household does not have a checking account\n",
    "WILSH \tWilshire index of stock prices\n",
    "WSAVED \tspent more/same/less than income in past year\n",
    "X1 \tCase ID with implicate number\n",
    "XX1 \tCase ID\n",
    "Y1 \tCase ID with implicate number\n",
    "YEAR \tSurvey Year\n",
    "YESFINRISK \tRespondent willing to take financial risk\n",
    "YY1"
   ]
  },
  {
   "cell_type": "markdown",
   "id": "1ff8d89a",
   "metadata": {},
   "source": [
    "*IMPORTING THE LIBRARIES*"
   ]
  },
  {
   "cell_type": "code",
   "execution_count": null,
   "id": "5854a27d",
   "metadata": {},
   "outputs": [],
   "source": [
    "import pandas as pd\n",
    "import numpy as np\n",
    "import seaborn as sns\n",
    "import matplotlib.pyplot as plt\n",
    "from sklearn.decomposition import PCA\n",
    "from sklearn.metrics import silhouette_score as ss\n",
    "from sklearn.cluster import KMeans\n",
    "import plotly.express as px\n",
    "from scipy.stats.mstats import trimmed_var\n",
    "from sklearn.pipeline import make_pipeline\n",
    "from sklearn.preprocessing import StandardScaler\n"
   ]
  },
  {
   "cell_type": "markdown",
   "id": "c05f2ffe",
   "metadata": {},
   "source": [
    "*READING IN THE DATASET*"
   ]
  },
  {
   "cell_type": "code",
   "execution_count": 158,
   "id": "377d3a6a",
   "metadata": {},
   "outputs": [
    {
     "data": {
      "text/html": [
       "<div>\n",
       "<style scoped>\n",
       "    .dataframe tbody tr th:only-of-type {\n",
       "        vertical-align: middle;\n",
       "    }\n",
       "\n",
       "    .dataframe tbody tr th {\n",
       "        vertical-align: top;\n",
       "    }\n",
       "\n",
       "    .dataframe thead th {\n",
       "        text-align: right;\n",
       "    }\n",
       "</style>\n",
       "<table border=\"1\" class=\"dataframe\">\n",
       "  <thead>\n",
       "    <tr style=\"text-align: right;\">\n",
       "      <th></th>\n",
       "      <th>YY1</th>\n",
       "      <th>Y1</th>\n",
       "      <th>WGT</th>\n",
       "      <th>HHSEX</th>\n",
       "      <th>AGE</th>\n",
       "      <th>AGECL</th>\n",
       "      <th>EDUC</th>\n",
       "      <th>EDCL</th>\n",
       "      <th>MARRIED</th>\n",
       "      <th>KIDS</th>\n",
       "      <th>...</th>\n",
       "      <th>NWCAT</th>\n",
       "      <th>INCCAT</th>\n",
       "      <th>ASSETCAT</th>\n",
       "      <th>NINCCAT</th>\n",
       "      <th>NINC2CAT</th>\n",
       "      <th>NWPCTLECAT</th>\n",
       "      <th>INCPCTLECAT</th>\n",
       "      <th>NINCPCTLECAT</th>\n",
       "      <th>INCQRTCAT</th>\n",
       "      <th>NINCQRTCAT</th>\n",
       "    </tr>\n",
       "  </thead>\n",
       "  <tbody>\n",
       "    <tr>\n",
       "      <th>0</th>\n",
       "      <td>1</td>\n",
       "      <td>11</td>\n",
       "      <td>3027.956120</td>\n",
       "      <td>2</td>\n",
       "      <td>70</td>\n",
       "      <td>5</td>\n",
       "      <td>9</td>\n",
       "      <td>3</td>\n",
       "      <td>2</td>\n",
       "      <td>2</td>\n",
       "      <td>...</td>\n",
       "      <td>4</td>\n",
       "      <td>2</td>\n",
       "      <td>4</td>\n",
       "      <td>2</td>\n",
       "      <td>1</td>\n",
       "      <td>8</td>\n",
       "      <td>3</td>\n",
       "      <td>3</td>\n",
       "      <td>2</td>\n",
       "      <td>1</td>\n",
       "    </tr>\n",
       "    <tr>\n",
       "      <th>1</th>\n",
       "      <td>1</td>\n",
       "      <td>12</td>\n",
       "      <td>3054.900065</td>\n",
       "      <td>2</td>\n",
       "      <td>70</td>\n",
       "      <td>5</td>\n",
       "      <td>9</td>\n",
       "      <td>3</td>\n",
       "      <td>2</td>\n",
       "      <td>2</td>\n",
       "      <td>...</td>\n",
       "      <td>4</td>\n",
       "      <td>2</td>\n",
       "      <td>5</td>\n",
       "      <td>2</td>\n",
       "      <td>1</td>\n",
       "      <td>8</td>\n",
       "      <td>3</td>\n",
       "      <td>3</td>\n",
       "      <td>2</td>\n",
       "      <td>1</td>\n",
       "    </tr>\n",
       "    <tr>\n",
       "      <th>2</th>\n",
       "      <td>1</td>\n",
       "      <td>13</td>\n",
       "      <td>3163.637766</td>\n",
       "      <td>2</td>\n",
       "      <td>70</td>\n",
       "      <td>5</td>\n",
       "      <td>9</td>\n",
       "      <td>3</td>\n",
       "      <td>2</td>\n",
       "      <td>2</td>\n",
       "      <td>...</td>\n",
       "      <td>4</td>\n",
       "      <td>2</td>\n",
       "      <td>4</td>\n",
       "      <td>2</td>\n",
       "      <td>1</td>\n",
       "      <td>8</td>\n",
       "      <td>3</td>\n",
       "      <td>3</td>\n",
       "      <td>1</td>\n",
       "      <td>1</td>\n",
       "    </tr>\n",
       "    <tr>\n",
       "      <th>3</th>\n",
       "      <td>1</td>\n",
       "      <td>14</td>\n",
       "      <td>3166.228463</td>\n",
       "      <td>2</td>\n",
       "      <td>70</td>\n",
       "      <td>5</td>\n",
       "      <td>9</td>\n",
       "      <td>3</td>\n",
       "      <td>2</td>\n",
       "      <td>2</td>\n",
       "      <td>...</td>\n",
       "      <td>3</td>\n",
       "      <td>2</td>\n",
       "      <td>4</td>\n",
       "      <td>1</td>\n",
       "      <td>1</td>\n",
       "      <td>6</td>\n",
       "      <td>3</td>\n",
       "      <td>2</td>\n",
       "      <td>1</td>\n",
       "      <td>1</td>\n",
       "    </tr>\n",
       "    <tr>\n",
       "      <th>4</th>\n",
       "      <td>1</td>\n",
       "      <td>15</td>\n",
       "      <td>3235.624715</td>\n",
       "      <td>2</td>\n",
       "      <td>70</td>\n",
       "      <td>5</td>\n",
       "      <td>9</td>\n",
       "      <td>3</td>\n",
       "      <td>2</td>\n",
       "      <td>2</td>\n",
       "      <td>...</td>\n",
       "      <td>3</td>\n",
       "      <td>2</td>\n",
       "      <td>4</td>\n",
       "      <td>2</td>\n",
       "      <td>1</td>\n",
       "      <td>8</td>\n",
       "      <td>3</td>\n",
       "      <td>3</td>\n",
       "      <td>1</td>\n",
       "      <td>1</td>\n",
       "    </tr>\n",
       "    <tr>\n",
       "      <th>...</th>\n",
       "      <td>...</td>\n",
       "      <td>...</td>\n",
       "      <td>...</td>\n",
       "      <td>...</td>\n",
       "      <td>...</td>\n",
       "      <td>...</td>\n",
       "      <td>...</td>\n",
       "      <td>...</td>\n",
       "      <td>...</td>\n",
       "      <td>...</td>\n",
       "      <td>...</td>\n",
       "      <td>...</td>\n",
       "      <td>...</td>\n",
       "      <td>...</td>\n",
       "      <td>...</td>\n",
       "      <td>...</td>\n",
       "      <td>...</td>\n",
       "      <td>...</td>\n",
       "      <td>...</td>\n",
       "      <td>...</td>\n",
       "      <td>...</td>\n",
       "    </tr>\n",
       "    <tr>\n",
       "      <th>22970</th>\n",
       "      <td>4603</td>\n",
       "      <td>46031</td>\n",
       "      <td>1705.225499</td>\n",
       "      <td>2</td>\n",
       "      <td>40</td>\n",
       "      <td>2</td>\n",
       "      <td>8</td>\n",
       "      <td>2</td>\n",
       "      <td>2</td>\n",
       "      <td>2</td>\n",
       "      <td>...</td>\n",
       "      <td>1</td>\n",
       "      <td>2</td>\n",
       "      <td>1</td>\n",
       "      <td>2</td>\n",
       "      <td>1</td>\n",
       "      <td>1</td>\n",
       "      <td>3</td>\n",
       "      <td>3</td>\n",
       "      <td>2</td>\n",
       "      <td>1</td>\n",
       "    </tr>\n",
       "    <tr>\n",
       "      <th>22971</th>\n",
       "      <td>4603</td>\n",
       "      <td>46032</td>\n",
       "      <td>1713.918975</td>\n",
       "      <td>2</td>\n",
       "      <td>40</td>\n",
       "      <td>2</td>\n",
       "      <td>8</td>\n",
       "      <td>2</td>\n",
       "      <td>2</td>\n",
       "      <td>2</td>\n",
       "      <td>...</td>\n",
       "      <td>1</td>\n",
       "      <td>2</td>\n",
       "      <td>1</td>\n",
       "      <td>1</td>\n",
       "      <td>1</td>\n",
       "      <td>1</td>\n",
       "      <td>3</td>\n",
       "      <td>2</td>\n",
       "      <td>1</td>\n",
       "      <td>1</td>\n",
       "    </tr>\n",
       "    <tr>\n",
       "      <th>22972</th>\n",
       "      <td>4603</td>\n",
       "      <td>46033</td>\n",
       "      <td>1689.140933</td>\n",
       "      <td>2</td>\n",
       "      <td>40</td>\n",
       "      <td>2</td>\n",
       "      <td>8</td>\n",
       "      <td>2</td>\n",
       "      <td>2</td>\n",
       "      <td>2</td>\n",
       "      <td>...</td>\n",
       "      <td>1</td>\n",
       "      <td>2</td>\n",
       "      <td>1</td>\n",
       "      <td>2</td>\n",
       "      <td>1</td>\n",
       "      <td>1</td>\n",
       "      <td>3</td>\n",
       "      <td>3</td>\n",
       "      <td>2</td>\n",
       "      <td>1</td>\n",
       "    </tr>\n",
       "    <tr>\n",
       "      <th>22973</th>\n",
       "      <td>4603</td>\n",
       "      <td>46034</td>\n",
       "      <td>1714.060239</td>\n",
       "      <td>2</td>\n",
       "      <td>40</td>\n",
       "      <td>2</td>\n",
       "      <td>8</td>\n",
       "      <td>2</td>\n",
       "      <td>2</td>\n",
       "      <td>2</td>\n",
       "      <td>...</td>\n",
       "      <td>1</td>\n",
       "      <td>2</td>\n",
       "      <td>1</td>\n",
       "      <td>2</td>\n",
       "      <td>1</td>\n",
       "      <td>1</td>\n",
       "      <td>3</td>\n",
       "      <td>3</td>\n",
       "      <td>2</td>\n",
       "      <td>1</td>\n",
       "    </tr>\n",
       "    <tr>\n",
       "      <th>22974</th>\n",
       "      <td>4603</td>\n",
       "      <td>46035</td>\n",
       "      <td>1692.039491</td>\n",
       "      <td>2</td>\n",
       "      <td>40</td>\n",
       "      <td>2</td>\n",
       "      <td>8</td>\n",
       "      <td>2</td>\n",
       "      <td>2</td>\n",
       "      <td>2</td>\n",
       "      <td>...</td>\n",
       "      <td>1</td>\n",
       "      <td>2</td>\n",
       "      <td>1</td>\n",
       "      <td>2</td>\n",
       "      <td>1</td>\n",
       "      <td>1</td>\n",
       "      <td>3</td>\n",
       "      <td>3</td>\n",
       "      <td>1</td>\n",
       "      <td>1</td>\n",
       "    </tr>\n",
       "  </tbody>\n",
       "</table>\n",
       "<p>22975 rows × 357 columns</p>\n",
       "</div>"
      ],
      "text/plain": [
       "        YY1     Y1          WGT  HHSEX  AGE  AGECL  EDUC  EDCL  MARRIED  KIDS  \\\n",
       "0         1     11  3027.956120      2   70      5     9     3        2     2   \n",
       "1         1     12  3054.900065      2   70      5     9     3        2     2   \n",
       "2         1     13  3163.637766      2   70      5     9     3        2     2   \n",
       "3         1     14  3166.228463      2   70      5     9     3        2     2   \n",
       "4         1     15  3235.624715      2   70      5     9     3        2     2   \n",
       "...     ...    ...          ...    ...  ...    ...   ...   ...      ...   ...   \n",
       "22970  4603  46031  1705.225499      2   40      2     8     2        2     2   \n",
       "22971  4603  46032  1713.918975      2   40      2     8     2        2     2   \n",
       "22972  4603  46033  1689.140933      2   40      2     8     2        2     2   \n",
       "22973  4603  46034  1714.060239      2   40      2     8     2        2     2   \n",
       "22974  4603  46035  1692.039491      2   40      2     8     2        2     2   \n",
       "\n",
       "       ...  NWCAT  INCCAT  ASSETCAT  NINCCAT  NINC2CAT  NWPCTLECAT  \\\n",
       "0      ...      4       2         4        2         1           8   \n",
       "1      ...      4       2         5        2         1           8   \n",
       "2      ...      4       2         4        2         1           8   \n",
       "3      ...      3       2         4        1         1           6   \n",
       "4      ...      3       2         4        2         1           8   \n",
       "...    ...    ...     ...       ...      ...       ...         ...   \n",
       "22970  ...      1       2         1        2         1           1   \n",
       "22971  ...      1       2         1        1         1           1   \n",
       "22972  ...      1       2         1        2         1           1   \n",
       "22973  ...      1       2         1        2         1           1   \n",
       "22974  ...      1       2         1        2         1           1   \n",
       "\n",
       "       INCPCTLECAT  NINCPCTLECAT  INCQRTCAT  NINCQRTCAT  \n",
       "0                3             3          2           1  \n",
       "1                3             3          2           1  \n",
       "2                3             3          1           1  \n",
       "3                3             2          1           1  \n",
       "4                3             3          1           1  \n",
       "...            ...           ...        ...         ...  \n",
       "22970            3             3          2           1  \n",
       "22971            3             2          1           1  \n",
       "22972            3             3          2           1  \n",
       "22973            3             3          2           1  \n",
       "22974            3             3          1           1  \n",
       "\n",
       "[22975 rows x 357 columns]"
      ]
     },
     "execution_count": 158,
     "metadata": {},
     "output_type": "execute_result"
    }
   ],
   "source": [
    "df = pd.read_csv(r'C:\\Users\\USER\\Desktop\\PROJECTS\\SCFP2022.csv')\n",
    "df\n"
   ]
  },
  {
   "cell_type": "markdown",
   "id": "5bed9b69",
   "metadata": {},
   "source": [
    "*A SUBSET OF DATA POINT WITH CREDIT TURN FEAR DATA POINTS*"
   ]
  },
  {
   "cell_type": "code",
   "execution_count": 159,
   "id": "40e4f6e9",
   "metadata": {},
   "outputs": [
    {
     "name": "stdout",
     "output_type": "stream",
     "text": [
      "the shape of the data : (3839, 357)\n"
     ]
    },
    {
     "data": {
      "text/html": [
       "<div>\n",
       "<style scoped>\n",
       "    .dataframe tbody tr th:only-of-type {\n",
       "        vertical-align: middle;\n",
       "    }\n",
       "\n",
       "    .dataframe tbody tr th {\n",
       "        vertical-align: top;\n",
       "    }\n",
       "\n",
       "    .dataframe thead th {\n",
       "        text-align: right;\n",
       "    }\n",
       "</style>\n",
       "<table border=\"1\" class=\"dataframe\">\n",
       "  <thead>\n",
       "    <tr style=\"text-align: right;\">\n",
       "      <th></th>\n",
       "      <th>YY1</th>\n",
       "      <th>Y1</th>\n",
       "      <th>WGT</th>\n",
       "      <th>HHSEX</th>\n",
       "      <th>AGE</th>\n",
       "      <th>AGECL</th>\n",
       "      <th>EDUC</th>\n",
       "      <th>EDCL</th>\n",
       "      <th>MARRIED</th>\n",
       "      <th>KIDS</th>\n",
       "      <th>...</th>\n",
       "      <th>NWCAT</th>\n",
       "      <th>INCCAT</th>\n",
       "      <th>ASSETCAT</th>\n",
       "      <th>NINCCAT</th>\n",
       "      <th>NINC2CAT</th>\n",
       "      <th>NWPCTLECAT</th>\n",
       "      <th>INCPCTLECAT</th>\n",
       "      <th>NINCPCTLECAT</th>\n",
       "      <th>INCQRTCAT</th>\n",
       "      <th>NINCQRTCAT</th>\n",
       "    </tr>\n",
       "  </thead>\n",
       "  <tbody>\n",
       "    <tr>\n",
       "      <th>20</th>\n",
       "      <td>5</td>\n",
       "      <td>51</td>\n",
       "      <td>7191.481109</td>\n",
       "      <td>2</td>\n",
       "      <td>19</td>\n",
       "      <td>1</td>\n",
       "      <td>8</td>\n",
       "      <td>2</td>\n",
       "      <td>1</td>\n",
       "      <td>0</td>\n",
       "      <td>...</td>\n",
       "      <td>1</td>\n",
       "      <td>3</td>\n",
       "      <td>1</td>\n",
       "      <td>2</td>\n",
       "      <td>1</td>\n",
       "      <td>2</td>\n",
       "      <td>5</td>\n",
       "      <td>4</td>\n",
       "      <td>2</td>\n",
       "      <td>2</td>\n",
       "    </tr>\n",
       "    <tr>\n",
       "      <th>21</th>\n",
       "      <td>5</td>\n",
       "      <td>52</td>\n",
       "      <td>7352.487205</td>\n",
       "      <td>2</td>\n",
       "      <td>19</td>\n",
       "      <td>1</td>\n",
       "      <td>8</td>\n",
       "      <td>2</td>\n",
       "      <td>1</td>\n",
       "      <td>0</td>\n",
       "      <td>...</td>\n",
       "      <td>1</td>\n",
       "      <td>3</td>\n",
       "      <td>1</td>\n",
       "      <td>2</td>\n",
       "      <td>1</td>\n",
       "      <td>2</td>\n",
       "      <td>5</td>\n",
       "      <td>4</td>\n",
       "      <td>2</td>\n",
       "      <td>2</td>\n",
       "    </tr>\n",
       "    <tr>\n",
       "      <th>22</th>\n",
       "      <td>5</td>\n",
       "      <td>53</td>\n",
       "      <td>7270.703541</td>\n",
       "      <td>2</td>\n",
       "      <td>19</td>\n",
       "      <td>1</td>\n",
       "      <td>8</td>\n",
       "      <td>2</td>\n",
       "      <td>1</td>\n",
       "      <td>0</td>\n",
       "      <td>...</td>\n",
       "      <td>1</td>\n",
       "      <td>3</td>\n",
       "      <td>1</td>\n",
       "      <td>3</td>\n",
       "      <td>1</td>\n",
       "      <td>2</td>\n",
       "      <td>5</td>\n",
       "      <td>5</td>\n",
       "      <td>2</td>\n",
       "      <td>2</td>\n",
       "    </tr>\n",
       "    <tr>\n",
       "      <th>23</th>\n",
       "      <td>5</td>\n",
       "      <td>54</td>\n",
       "      <td>7383.866597</td>\n",
       "      <td>2</td>\n",
       "      <td>19</td>\n",
       "      <td>1</td>\n",
       "      <td>8</td>\n",
       "      <td>2</td>\n",
       "      <td>1</td>\n",
       "      <td>0</td>\n",
       "      <td>...</td>\n",
       "      <td>1</td>\n",
       "      <td>3</td>\n",
       "      <td>1</td>\n",
       "      <td>3</td>\n",
       "      <td>1</td>\n",
       "      <td>2</td>\n",
       "      <td>5</td>\n",
       "      <td>5</td>\n",
       "      <td>2</td>\n",
       "      <td>2</td>\n",
       "    </tr>\n",
       "    <tr>\n",
       "      <th>24</th>\n",
       "      <td>5</td>\n",
       "      <td>55</td>\n",
       "      <td>7330.537669</td>\n",
       "      <td>2</td>\n",
       "      <td>19</td>\n",
       "      <td>1</td>\n",
       "      <td>8</td>\n",
       "      <td>2</td>\n",
       "      <td>1</td>\n",
       "      <td>0</td>\n",
       "      <td>...</td>\n",
       "      <td>1</td>\n",
       "      <td>3</td>\n",
       "      <td>1</td>\n",
       "      <td>2</td>\n",
       "      <td>1</td>\n",
       "      <td>2</td>\n",
       "      <td>5</td>\n",
       "      <td>4</td>\n",
       "      <td>2</td>\n",
       "      <td>2</td>\n",
       "    </tr>\n",
       "  </tbody>\n",
       "</table>\n",
       "<p>5 rows × 357 columns</p>\n",
       "</div>"
      ],
      "text/plain": [
       "    YY1  Y1          WGT  HHSEX  AGE  AGECL  EDUC  EDCL  MARRIED  KIDS  ...  \\\n",
       "20    5  51  7191.481109      2   19      1     8     2        1     0  ...   \n",
       "21    5  52  7352.487205      2   19      1     8     2        1     0  ...   \n",
       "22    5  53  7270.703541      2   19      1     8     2        1     0  ...   \n",
       "23    5  54  7383.866597      2   19      1     8     2        1     0  ...   \n",
       "24    5  55  7330.537669      2   19      1     8     2        1     0  ...   \n",
       "\n",
       "    NWCAT  INCCAT  ASSETCAT  NINCCAT  NINC2CAT  NWPCTLECAT  INCPCTLECAT  \\\n",
       "20      1       3         1        2         1           2            5   \n",
       "21      1       3         1        2         1           2            5   \n",
       "22      1       3         1        3         1           2            5   \n",
       "23      1       3         1        3         1           2            5   \n",
       "24      1       3         1        2         1           2            5   \n",
       "\n",
       "    NINCPCTLECAT  INCQRTCAT  NINCQRTCAT  \n",
       "20             4          2           2  \n",
       "21             4          2           2  \n",
       "22             5          2           2  \n",
       "23             5          2           2  \n",
       "24             4          2           2  \n",
       "\n",
       "[5 rows x 357 columns]"
      ]
     },
     "execution_count": 159,
     "metadata": {},
     "output_type": "execute_result"
    }
   ],
   "source": [
    "mask = df['TURNFEAR'] == 1\n",
    "df_fear = df[mask]\n",
    "print('the shape of the data :', df_fear.shape)\n",
    "df_fear.head()\n"
   ]
  },
  {
   "cell_type": "code",
   "execution_count": 160,
   "id": "ccc499f0",
   "metadata": {},
   "outputs": [
    {
     "data": {
      "text/plain": [
       "array([1, 4, 2, 3, 5, 6], dtype=int64)"
      ]
     },
     "execution_count": 160,
     "metadata": {},
     "output_type": "execute_result"
    }
   ],
   "source": [
    "df_fear['AGECL'].unique()\n"
   ]
  },
  {
   "cell_type": "markdown",
   "id": "580a6f2a",
   "metadata": {},
   "source": [
    "*AGE GROUPS*"
   ]
  },
  {
   "cell_type": "code",
   "execution_count": 161,
   "id": "f2a8d178",
   "metadata": {},
   "outputs": [
    {
     "name": "stderr",
     "output_type": "stream",
     "text": [
      "C:\\Users\\USER\\AppData\\Local\\Temp\\ipykernel_1428\\3517037946.py:9: SettingWithCopyWarning:\n",
      "\n",
      "\n",
      "A value is trying to be set on a copy of a slice from a DataFrame.\n",
      "Try using .loc[row_indexer,col_indexer] = value instead\n",
      "\n",
      "See the caveats in the documentation: https://pandas.pydata.org/pandas-docs/stable/user_guide/indexing.html#returning-a-view-versus-a-copy\n",
      "\n"
     ]
    }
   ],
   "source": [
    "agecl_dict = {\n",
    "    1:'under 35',\n",
    "    2:'35 - 44',\n",
    "    3:'45 - 54',\n",
    "    4: '55 - 64',\n",
    "    5: '65 - 74',\n",
    "    6: '75 or older'\n",
    "}\n",
    "df_fear['AGECL'] = df_fear['AGECL'].replace(agecl_dict)\n"
   ]
  },
  {
   "cell_type": "markdown",
   "id": "e0bb0b60",
   "metadata": {},
   "source": [
    "*COUNT OF AGE GROUP VALUES*"
   ]
  },
  {
   "cell_type": "code",
   "execution_count": 162,
   "id": "71810c0a",
   "metadata": {},
   "outputs": [
    {
     "name": "stdout",
     "output_type": "stream",
     "text": [
      "AGECL\n",
      "35 - 44        936\n",
      "under 35       917\n",
      "45 - 54        802\n",
      "55 - 64        682\n",
      "65 - 74        398\n",
      "75 or older    104\n",
      "Name: count, dtype: int64\n"
     ]
    },
    {
     "data": {
      "text/plain": [
       "<Axes: title={'center': 'Credit Fearful: Age Group'}, xlabel='Age Group', ylabel='Frequency'>"
      ]
     },
     "execution_count": 162,
     "metadata": {},
     "output_type": "execute_result"
    },
    {
     "data": {
      "image/png": "[encoded data removed]",
      "text/plain": [
       "<Figure size 1200x800 with 1 Axes>"
      ]
     },
     "metadata": {},
     "output_type": "display_data"
    }
   ],
   "source": [
    "print(df_fear['AGECL'].value_counts())\n",
    "df_fear['AGECL'].value_counts().plot(kind='bar',figsize=(12, 8), xlabel='Age Group', ylabel='Frequency', title='Credit Fearful: Age Group')\n"
   ]
  },
  {
   "cell_type": "markdown",
   "id": "100dd2ef",
   "metadata": {},
   "source": [
    "*DISTRIBUTION OF AGE IN THE DATASET* "
   ]
  },
  {
   "cell_type": "code",
   "execution_count": 69,
   "id": "0338d0a0",
   "metadata": {},
   "outputs": [
    {
     "data": {
      "text/plain": [
       "<Axes: >"
      ]
     },
     "execution_count": 69,
     "metadata": {},
     "output_type": "execute_result"
    },
    {
     "data": {
      "image/png": "[encoded data removed]",
      "text/plain": [
       "<Figure size 640x480 with 1 Axes>"
      ]
     },
     "metadata": {},
     "output_type": "display_data"
    }
   ],
   "source": [
    "df_fear['AGE'].hist(bins=10)\n"
   ]
  },
  {
   "cell_type": "code",
   "execution_count": null,
   "id": "1fb5e01c",
   "metadata": {},
   "outputs": [
    {
     "data": {
      "text/plain": [
       "array([2, 1, 3, 5, 4], dtype=int64)"
      ]
     },
     "execution_count": 71,
     "metadata": {},
     "output_type": "execute_result"
    }
   ],
   "source": [
    "df_fear['RACE'].unique()\n"
   ]
  },
  {
   "cell_type": "markdown",
   "id": "020ba956",
   "metadata": {},
   "source": [
    "*CONVERTING THE NUMBERS INTO GROUPS FOR EASIER UNDERSTANDING AND VISUALIZATIONS*"
   ]
  },
  {
   "cell_type": "code",
   "execution_count": 50,
   "id": "ca24c837",
   "metadata": {},
   "outputs": [
    {
     "name": "stderr",
     "output_type": "stream",
     "text": [
      "C:\\Users\\USER\\AppData\\Local\\Temp\\ipykernel_1428\\3913329075.py:8: SettingWithCopyWarning:\n",
      "\n",
      "\n",
      "A value is trying to be set on a copy of a slice from a DataFrame.\n",
      "Try using .loc[row_indexer,col_indexer] = value instead\n",
      "\n",
      "See the caveats in the documentation: https://pandas.pydata.org/pandas-docs/stable/user_guide/indexing.html#returning-a-view-versus-a-copy\n",
      "\n"
     ]
    },
    {
     "data": {
      "text/plain": [
       "20       black/african_american\n",
       "21       black/african_american\n",
       "22       black/african_american\n",
       "23       black/african_american\n",
       "24       black/african_american\n",
       "                  ...          \n",
       "22970    black/african_american\n",
       "22971    black/african_american\n",
       "22972    black/african_american\n",
       "22973    black/african_american\n",
       "22974    black/african_american\n",
       "Name: RACE, Length: 3839, dtype: object"
      ]
     },
     "execution_count": 50,
     "metadata": {},
     "output_type": "execute_result"
    }
   ],
   "source": [
    "race_dict = {\n",
    "        1: 'white/non-hispanic',\n",
    "        2: 'black/african_american',\n",
    "        3: 'hispanic',\n",
    "        4: 'asian',\n",
    "        5: 'other'\n",
    "}\n",
    "df_fear['RACE'] = df_fear['RACE'].replace(race_dict)\n",
    "df_fear['RACE']\n"
   ]
  },
  {
   "cell_type": "markdown",
   "id": "c36abb44",
   "metadata": {},
   "source": [
    "*PROPORTION OF THE RACE IN THE CREDIT FEAR DATA POINTS....WHITE AND AFRICAN AMERICAN RACE LEAD THE CHART WITH ABOUT 38% AND 34% RESPECTIVELY FOLLOWED BY HISPANIC*\n",
    "\n",
    "*This suggests that White/Non-Hispanic people worry more about being denied credit, but thinking critically about what we're seeing, that might be because there are more White/Non-Hispanic in* *the population of the United States than there are other racial groups, and the sample for this survey was specifically drawn to be representative of the population as a whole.*"
   ]
  },
  {
   "cell_type": "code",
   "execution_count": 70,
   "id": "e62adedc",
   "metadata": {},
   "outputs": [
    {
     "data": {
      "text/plain": [
       "(0.0, 1.0)"
      ]
     },
     "execution_count": 70,
     "metadata": {},
     "output_type": "execute_result"
    },
    {
     "data": {
      "image/png": "[encoded data removed]",
      "text/plain": [
       "<Figure size 1200x800 with 1 Axes>"
      ]
     },
     "metadata": {},
     "output_type": "display_data"
    }
   ],
   "source": [
    "df_fear['RACE'].value_counts(normalize=True).plot(kind='barh', figsize=(12, 8), xlabel='Race', ylabel='Proportion', title='Proportion of Race Categories')\n",
    "plt.xlim(0, 1)\n"
   ]
  },
  {
   "cell_type": "markdown",
   "id": "b996ae07",
   "metadata": {},
   "source": [
    "*WHITE FOLKS HAVE MORE POPULATION IN THE ENTIRE DATASET AND ALSO HAVE A HIGHER PROPORTION OF CREDIT TURN FEAR AS SEEN ABOVE*"
   ]
  },
  {
   "cell_type": "code",
   "execution_count": 101,
   "id": "b8eab40b",
   "metadata": {},
   "outputs": [
    {
     "data": {
      "text/plain": [
       "(0.0, 1.0)"
      ]
     },
     "execution_count": 101,
     "metadata": {},
     "output_type": "execute_result"
    },
    {
     "data": {
      "image/png": "[encoded data removed]",
      "text/plain": [
       "<Figure size 1200x800 with 1 Axes>"
      ]
     },
     "metadata": {},
     "output_type": "display_data"
    }
   ],
   "source": [
    "df['RACE'].value_counts(normalize=True).plot(kind='barh', figsize=(12, 8), xlabel='Race', ylabel='Proportion', title='Proportion of Race Categories')\n",
    "plt.xlim(0, 1)\n"
   ]
  },
  {
   "cell_type": "markdown",
   "id": "f5c07814",
   "metadata": {},
   "source": [
    "*SHOWING THE NUMBER OF PEOPLE IN EACH RACE FOR THE CREDIT TURN FEAR RACE*"
   ]
  },
  {
   "cell_type": "code",
   "execution_count": 53,
   "id": "b9d140b9",
   "metadata": {},
   "outputs": [
    {
     "data": {
      "image/png": "[encoded data removed]",
      "text/plain": [
       "<Figure size 1200x800 with 1 Axes>"
      ]
     },
     "metadata": {},
     "output_type": "display_data"
    }
   ],
   "source": [
    "plt.figure(figsize=(12, 8))\n",
    "graph = sns.countplot(x=df_fear['RACE'], data = df_fear, order=df_fear['RACE'].value_counts(normalize=True).index)\n",
    "for x in graph.containers:\n",
    "    graph.bar_label(x)\n"
   ]
  },
  {
   "cell_type": "markdown",
   "id": "a04a9ea2",
   "metadata": {},
   "source": [
    "*COUNT OF DATA POINTS BELONGING TO EACH INCOME CATEGORY (THOUSAND)*\n",
    "\n",
    "    1 : \"0-20\"\n",
    "    2 : \"21-39.9\",\n",
    "    3 : \"40-59.9\",\n",
    "    4 : \"60-79.9\",\n",
    "    5 : \"80-89.9\",\n",
    "    6 : \"90-100\"\n"
   ]
  },
  {
   "cell_type": "code",
   "execution_count": 54,
   "id": "557e8ed4",
   "metadata": {},
   "outputs": [
    {
     "data": {
      "image/png": "[encoded data removed]",
      "text/plain": [
       "<Figure size 1200x800 with 1 Axes>"
      ]
     },
     "metadata": {},
     "output_type": "display_data"
    }
   ],
   "source": [
    "plt.figure(figsize=(12, 8))\n",
    "graph = sns.countplot(x=df_fear['INCCAT'], data = df_fear, order=df_fear['INCCAT'].value_counts(ascending=False).index)\n",
    "for x in graph.containers:\n",
    "    graph.bar_label(x)\n"
   ]
  },
  {
   "cell_type": "markdown",
   "id": "74b5ee19",
   "metadata": {},
   "source": [
    "*CONVERTING THE NUMBERS INTO AGE GROUPS AND SHOWCASING THEIR PERCASNTAGE AS FREQUENCY USING METHOD CHAINING*"
   ]
  },
  {
   "cell_type": "code",
   "execution_count": null,
   "id": "31ebc897",
   "metadata": {},
   "outputs": [
    {
     "name": "stdout",
     "output_type": "stream",
     "text": [
      "(12, 3)\n"
     ]
    },
    {
     "data": {
      "text/html": [
       "<div>\n",
       "<style scoped>\n",
       "    .dataframe tbody tr th:only-of-type {\n",
       "        vertical-align: middle;\n",
       "    }\n",
       "\n",
       "    .dataframe tbody tr th {\n",
       "        vertical-align: top;\n",
       "    }\n",
       "\n",
       "    .dataframe thead th {\n",
       "        text-align: right;\n",
       "    }\n",
       "</style>\n",
       "<table border=\"1\" class=\"dataframe\">\n",
       "  <thead>\n",
       "    <tr style=\"text-align: right;\">\n",
       "      <th></th>\n",
       "      <th>TURNFEAR</th>\n",
       "      <th>INCCAT</th>\n",
       "      <th>frequency</th>\n",
       "    </tr>\n",
       "  </thead>\n",
       "  <tbody>\n",
       "    <tr>\n",
       "      <th>0</th>\n",
       "      <td>0</td>\n",
       "      <td>90-100</td>\n",
       "      <td>0.303982</td>\n",
       "    </tr>\n",
       "    <tr>\n",
       "      <th>1</th>\n",
       "      <td>0</td>\n",
       "      <td>60-79.9</td>\n",
       "      <td>0.162312</td>\n",
       "    </tr>\n",
       "    <tr>\n",
       "      <th>2</th>\n",
       "      <td>0</td>\n",
       "      <td>40-59.9</td>\n",
       "      <td>0.144492</td>\n",
       "    </tr>\n",
       "    <tr>\n",
       "      <th>3</th>\n",
       "      <td>0</td>\n",
       "      <td>0-20</td>\n",
       "      <td>0.140050</td>\n",
       "    </tr>\n",
       "    <tr>\n",
       "      <th>4</th>\n",
       "      <td>0</td>\n",
       "      <td>21-39.9</td>\n",
       "      <td>0.139162</td>\n",
       "    </tr>\n",
       "    <tr>\n",
       "      <th>5</th>\n",
       "      <td>0</td>\n",
       "      <td>80-89.9</td>\n",
       "      <td>0.110002</td>\n",
       "    </tr>\n",
       "    <tr>\n",
       "      <th>6</th>\n",
       "      <td>1</td>\n",
       "      <td>0-20</td>\n",
       "      <td>0.340714</td>\n",
       "    </tr>\n",
       "    <tr>\n",
       "      <th>7</th>\n",
       "      <td>1</td>\n",
       "      <td>21-39.9</td>\n",
       "      <td>0.266476</td>\n",
       "    </tr>\n",
       "    <tr>\n",
       "      <th>8</th>\n",
       "      <td>1</td>\n",
       "      <td>40-59.9</td>\n",
       "      <td>0.205001</td>\n",
       "    </tr>\n",
       "    <tr>\n",
       "      <th>9</th>\n",
       "      <td>1</td>\n",
       "      <td>60-79.9</td>\n",
       "      <td>0.112529</td>\n",
       "    </tr>\n",
       "    <tr>\n",
       "      <th>10</th>\n",
       "      <td>1</td>\n",
       "      <td>80-89.9</td>\n",
       "      <td>0.041417</td>\n",
       "    </tr>\n",
       "    <tr>\n",
       "      <th>11</th>\n",
       "      <td>1</td>\n",
       "      <td>90-100</td>\n",
       "      <td>0.033863</td>\n",
       "    </tr>\n",
       "  </tbody>\n",
       "</table>\n",
       "</div>"
      ],
      "text/plain": [
       "    TURNFEAR   INCCAT  frequency\n",
       "0          0   90-100   0.303982\n",
       "1          0  60-79.9   0.162312\n",
       "2          0  40-59.9   0.144492\n",
       "3          0     0-20   0.140050\n",
       "4          0  21-39.9   0.139162\n",
       "5          0  80-89.9   0.110002\n",
       "6          1     0-20   0.340714\n",
       "7          1  21-39.9   0.266476\n",
       "8          1  40-59.9   0.205001\n",
       "9          1  60-79.9   0.112529\n",
       "10         1  80-89.9   0.041417\n",
       "11         1   90-100   0.033863"
      ]
     },
     "execution_count": 29,
     "metadata": {},
     "output_type": "execute_result"
    }
   ],
   "source": [
    "dict_inccat = {\n",
    "    1 : \"0-20\",\n",
    "    2 : \"21-39.9\",\n",
    "    3 : \"40-59.9\",\n",
    "    4 : \"60-79.9\",\n",
    "    5 : \"80-89.9\",\n",
    "    6 : \"90-100\"\n",
    "}\n",
    "df_incat = (\n",
    "    df['INCCAT']\n",
    "    .replace(dict_inccat)\n",
    "    .groupby(df['TURNFEAR'])\n",
    "    .value_counts(normalize=True)\n",
    "    .rename('frequency')\n",
    "    .to_frame()\n",
    "    .reset_index()\n",
    ")\n",
    "print(df_incat.shape)\n",
    "df_incat.head(20)\n"
   ]
  },
  {
   "cell_type": "markdown",
   "id": "c05ab414",
   "metadata": {},
   "source": [
    "**THIS SHOWS THE INCOME CATEGORIES OF CUSTOMERS THAT ARE FEARFUL OF BRING DENIED CREDITS**\n",
    "\n",
    "*CUSTOMERS THAT EARN 60 TO 100K ARE LESS FEARFUL OF BRING DENIED CREDIT THAN CUSTOMERS THAT EARNED LOWER*"
   ]
  },
  {
   "cell_type": "markdown",
   "id": "29b71e06",
   "metadata": {},
   "source": [
    "*ABOUT 30% OF INCOME CATEGORY EARN ABOUT 90 - 100K AND ARE NOT FEARFUL ABOUT BEING TURN DOWN FOR CREDIT AND LESS THAN 3% OF THEM ARE AFRAID OF BEING CREDIT TURN DOWN  MAYBE FOLKS THAT ARE ALREADY OF AGE*"
   ]
  },
  {
   "cell_type": "code",
   "execution_count": 33,
   "id": "433ed4dd",
   "metadata": {},
   "outputs": [
    {
     "data": {
      "text/plain": [
       "Text(0.5, 1.0, 'INCOME CATEGORY: CREDIT FEARFUL VS NON CREDIT FEARFUL')"
      ]
     },
     "execution_count": 33,
     "metadata": {},
     "output_type": "execute_result"
    },
    {
     "data": {
      "image/png": "[encoded data removed]",
      "text/plain": [
       "<Figure size 1200x800 with 1 Axes>"
      ]
     },
     "metadata": {},
     "output_type": "display_data"
    }
   ],
   "source": [
    "plt.figure(figsize=(12, 8))\n",
    "sns.barplot(data=df_incat, x ='INCCAT', y='frequency', hue='TURNFEAR')\n",
    "plt.xlabel('INCOME CATEGORY')\n",
    "plt.ylabel('FREQUENCY (%)')\n",
    "plt.title('INCOME CATEGORY: CREDIT FEARFUL VS NON CREDIT FEARFUL')\n"
   ]
  },
  {
   "cell_type": "markdown",
   "id": "961296fa",
   "metadata": {},
   "source": [
    "*CHECKING FOR CORRELATION BETWEEN ASSETS AND HOUSES AND AS WE CAN SEE IT SHOWS THAT THE THEIR HOUSES HAVE A REASONABLE PERCENTAGE OF THEIR ASSETS*"
   ]
  },
  {
   "cell_type": "code",
   "execution_count": 60,
   "id": "6e4c379b",
   "metadata": {},
   "outputs": [
    {
     "name": "stdout",
     "output_type": "stream",
     "text": [
      "Asset vs house correction: 0.56\n",
      "there is 0.56 between Asset and Houses\n"
     ]
    }
   ],
   "source": [
    "Asset_home_corr = (df['ASSET'].corr(df['HOUSES'])).round(2)\n",
    "print('Asset vs house correction:', Asset_home_corr)\n",
    "print(f'there is {Asset_home_corr} between Asset and Houses')\n",
    "      "
   ]
  },
  {
   "cell_type": "markdown",
   "id": "6f2a89fb",
   "metadata": {},
   "source": [
    "*FOR THE CREDIT TURN FEAR DATA POINTS THEIR HOUSES DONT HAVE A HIGHER PERCENTAGE OF THEIR ASSET*"
   ]
  },
  {
   "cell_type": "code",
   "execution_count": 68,
   "id": "7fdcd3fd",
   "metadata": {},
   "outputs": [
    {
     "name": "stdout",
     "output_type": "stream",
     "text": [
      "Asset vs house correction: 0.36\n",
      "there is 0.36 between Asset and Houses\n"
     ]
    }
   ],
   "source": [
    "Asset_home_corr = (df_fear['ASSET'].corr(df_fear['HOUSES'])).round(2)\n",
    "print('Asset vs house correction:', Asset_home_corr)\n",
    "print(f'there is {Asset_home_corr} between Asset and Houses')\n"
   ]
  },
  {
   "cell_type": "markdown",
   "id": "7de3d595",
   "metadata": {},
   "source": [
    "*CHECKING 5 COLUMNS CORRELATION FOR THE WHOLE DATA SET*"
   ]
  },
  {
   "cell_type": "markdown",
   "id": "46d83c41",
   "metadata": {},
   "source": [
    "*IN BOTH TABLE WE CAN SEE THAT THEIR INCOME IS MORE OF THEIR ASSET THAN THEIR HOUSES*"
   ]
  },
  {
   "cell_type": "code",
   "execution_count": 79,
   "id": "7daf1169",
   "metadata": {},
   "outputs": [
    {
     "data": {
      "text/plain": [
       "<Axes: >"
      ]
     },
     "execution_count": 79,
     "metadata": {},
     "output_type": "execute_result"
    },
    {
     "data": {
      "image/png": "[encoded data removed]",
      "text/plain": [
       "<Figure size 800x600 with 2 Axes>"
      ]
     },
     "metadata": {},
     "output_type": "display_data"
    }
   ],
   "source": [
    "cols = [\"ASSET\", \"HOUSES\", \"INCOME\", \"DEBT\", \"EDUC\"]\n",
    "corr = df[cols].corr()\n",
    "plt.figure(figsize=(8, 6))\n",
    "sns.heatmap(corr, annot=True, cmap='coolwarm', center=0)\n"
   ]
  },
  {
   "cell_type": "markdown",
   "id": "b84f78eb",
   "metadata": {},
   "source": [
    "*CHECKING THE CREDIT TURN FEAR DATA SET TO SEE CORRELATION OF THE 5 COLUMNS*"
   ]
  },
  {
   "cell_type": "code",
   "execution_count": 80,
   "id": "3ac04a46",
   "metadata": {},
   "outputs": [
    {
     "data": {
      "text/plain": [
       "<Axes: >"
      ]
     },
     "execution_count": 80,
     "metadata": {},
     "output_type": "execute_result"
    },
    {
     "data": {
      "image/png": "[encoded data removed]",
      "text/plain": [
       "<Figure size 800x600 with 2 Axes>"
      ]
     },
     "metadata": {},
     "output_type": "display_data"
    }
   ],
   "source": [
    "cols = [\"ASSET\", \"HOUSES\", \"INCOME\", \"DEBT\", \"EDUC\"]\n",
    "corr = df_fear[cols].corr()\n",
    "plt.figure(figsize=(8, 6))\n",
    "sns.heatmap(corr, annot=True, cmap='coolwarm', center=0)\n"
   ]
  },
  {
   "cell_type": "markdown",
   "id": "0dfcb733",
   "metadata": {},
   "source": [
    "*EDUCATION AND GROUPS*"
   ]
  },
  {
   "cell_type": "code",
   "execution_count": null,
   "id": "5f72eaae",
   "metadata": {},
   "outputs": [
    {
     "data": {
      "text/html": [
       "<div>\n",
       "<style scoped>\n",
       "    .dataframe tbody tr th:only-of-type {\n",
       "        vertical-align: middle;\n",
       "    }\n",
       "\n",
       "    .dataframe tbody tr th {\n",
       "        vertical-align: top;\n",
       "    }\n",
       "\n",
       "    .dataframe thead th {\n",
       "        text-align: right;\n",
       "    }\n",
       "</style>\n",
       "<table border=\"1\" class=\"dataframe\">\n",
       "  <thead>\n",
       "    <tr style=\"text-align: right;\">\n",
       "      <th></th>\n",
       "      <th>TURNFEAR</th>\n",
       "      <th>EDUC</th>\n",
       "      <th>frequency</th>\n",
       "    </tr>\n",
       "  </thead>\n",
       "  <tbody>\n",
       "    <tr>\n",
       "      <th>0</th>\n",
       "      <td>0</td>\n",
       "      <td>12</td>\n",
       "      <td>0.278689</td>\n",
       "    </tr>\n",
       "    <tr>\n",
       "      <th>1</th>\n",
       "      <td>0</td>\n",
       "      <td>8</td>\n",
       "      <td>0.174383</td>\n",
       "    </tr>\n",
       "    <tr>\n",
       "      <th>2</th>\n",
       "      <td>0</td>\n",
       "      <td>13</td>\n",
       "      <td>0.158967</td>\n",
       "    </tr>\n",
       "    <tr>\n",
       "      <th>3</th>\n",
       "      <td>0</td>\n",
       "      <td>9</td>\n",
       "      <td>0.111727</td>\n",
       "    </tr>\n",
       "    <tr>\n",
       "      <th>4</th>\n",
       "      <td>0</td>\n",
       "      <td>14</td>\n",
       "      <td>0.108539</td>\n",
       "    </tr>\n",
       "  </tbody>\n",
       "</table>\n",
       "</div>"
      ],
      "text/plain": [
       "   TURNFEAR  EDUC  frequency\n",
       "0         0    12   0.278689\n",
       "1         0     8   0.174383\n",
       "2         0    13   0.158967\n",
       "3         0     9   0.111727\n",
       "4         0    14   0.108539"
      ]
     },
     "execution_count": 94,
     "metadata": {},
     "output_type": "execute_result"
    }
   ],
   "source": [
    "df_educ = (\n",
    "    df['EDUC']\n",
    "    .groupby(df['TURNFEAR'])\n",
    "    .value_counts(normalize=True)\n",
    "    .rename('frequency')\n",
    "    .to_frame()\n",
    "    .reset_index()\n",
    ")\n",
    "df_educ.head()\n"
   ]
  },
  {
   "cell_type": "markdown",
   "id": "a584eb83",
   "metadata": {},
   "source": [
    "*-1 -----LESS THAN FIRST GRADE*\n",
    "\n",
    "*1------1ST, 2ND, 3RD AND 4TH GRADE*\n",
    "\n",
    "*2------5TH, 6TH GRADE*\n",
    "\n",
    "*3------7TH, 8TH GRADE*\n",
    "\n",
    "*4-------9TH GRADE*\n",
    "\n",
    "*5-------10TH GRADE*\n",
    "\n",
    "*6--------11TH GRADE*\n",
    "\n",
    "*7---------12TH GRADE , NO DIPLOMA*\n",
    "\n",
    "*8----------HIGH SCHOOL GRADUATE DIPLOMA*\n",
    "\n",
    "*9-----------SOME COLLEGE BUT NO DEGREE*\n",
    "\n",
    "*10-----------ASSOCIATE DEGREE IN COLLEGE*\n",
    "\n",
    "*11------------ASSOCIATE DEGREE IN COLLEGE - ACCADEMIC PROGRAMME*\n",
    "\n",
    "*12-------------BARCHELOR'S DEGREE*\n",
    "\n",
    "*13--------------MASTER'S DEGREE*\n",
    "\n",
    "*14----------------DOCTORATE OR PROFESSIONAL SCHOOL DEGREE*\n",
    "\n"
   ]
  },
  {
   "cell_type": "markdown",
   "id": "7cda4314",
   "metadata": {},
   "source": [
    "*WE CAN SEE THAT FROM BARCHELOR'S DEGREE TO DOCTORATE THE NOT FEARFUL TEND TO INCREASE MAYBE DUE TO THEY EARN MORE SALARY THAN OTHERS AND THEIR EDUCATION LEVEL HELPS TOO IN ASSIGNING CREDITS*"
   ]
  },
  {
   "cell_type": "code",
   "execution_count": 90,
   "id": "a8b0304b",
   "metadata": {},
   "outputs": [
    {
     "data": {
      "text/plain": [
       "Text(0.5, 1.0, 'EDUCATION: CREDIT FEARFUL VS NON CREDIT FEARFUL')"
      ]
     },
     "execution_count": 90,
     "metadata": {},
     "output_type": "execute_result"
    },
    {
     "data": {
      "image/png": "[encoded data removed]",
      "text/plain": [
       "<Figure size 1200x800 with 1 Axes>"
      ]
     },
     "metadata": {},
     "output_type": "display_data"
    }
   ],
   "source": [
    "plt.figure(figsize=(12, 8))\n",
    "sns.barplot(data=df_educ, x ='EDUC', y='frequency', hue='TURNFEAR')\n",
    "plt.xlabel('EDUCATION')\n",
    "plt.ylabel('FREQUENCY (%)')\n",
    "plt.title('EDUCATION: CREDIT FEARFUL VS NON CREDIT FEARFUL')\n"
   ]
  },
  {
   "cell_type": "code",
   "execution_count": null,
   "id": "42a4cead",
   "metadata": {},
   "outputs": [
    {
     "data": {
      "text/plain": [
       "array([762100., 854300., 678200., ...,      0.,      0.,      0.])"
      ]
     },
     "execution_count": 103,
     "metadata": {},
     "output_type": "execute_result"
    }
   ],
   "source": [
    "df['NETWORTH'].values\n"
   ]
  },
  {
   "cell_type": "markdown",
   "id": "fa0bc061",
   "metadata": {},
   "source": [
    "*CLUSTERING WITH MULTIPLE FEATURES*"
   ]
  },
  {
   "cell_type": "markdown",
   "id": "6eb7cdb1",
   "metadata": {},
   "source": [
    "*IN THIS PROJECT I WILL BE USING CREDIT TURN FEAR GROUP == 1 AND THE NETWORTH LESS THAN 3MILLION*"
   ]
  },
  {
   "cell_type": "code",
   "execution_count": 164,
   "id": "cd01695e",
   "metadata": {},
   "outputs": [],
   "source": [
    "def wrangle(filepath):\n",
    "    df = pd.read_csv(filepath)\n",
    "\n",
    "    mask = (df['TURNDOWN'] == 1)&(df['NETWORTH'] < 3e6)\n",
    "    df = df[mask]\n",
    "    return df\n"
   ]
  },
  {
   "cell_type": "code",
   "execution_count": null,
   "id": "c589358b",
   "metadata": {},
   "outputs": [
    {
     "name": "stdout",
     "output_type": "stream",
     "text": [
      "(1931, 357)\n"
     ]
    },
    {
     "data": {
      "text/html": [
       "<div>\n",
       "<style scoped>\n",
       "    .dataframe tbody tr th:only-of-type {\n",
       "        vertical-align: middle;\n",
       "    }\n",
       "\n",
       "    .dataframe tbody tr th {\n",
       "        vertical-align: top;\n",
       "    }\n",
       "\n",
       "    .dataframe thead th {\n",
       "        text-align: right;\n",
       "    }\n",
       "</style>\n",
       "<table border=\"1\" class=\"dataframe\">\n",
       "  <thead>\n",
       "    <tr style=\"text-align: right;\">\n",
       "      <th></th>\n",
       "      <th>YY1</th>\n",
       "      <th>Y1</th>\n",
       "      <th>WGT</th>\n",
       "      <th>HHSEX</th>\n",
       "      <th>AGE</th>\n",
       "      <th>AGECL</th>\n",
       "      <th>EDUC</th>\n",
       "      <th>EDCL</th>\n",
       "      <th>MARRIED</th>\n",
       "      <th>KIDS</th>\n",
       "      <th>...</th>\n",
       "      <th>NWCAT</th>\n",
       "      <th>INCCAT</th>\n",
       "      <th>ASSETCAT</th>\n",
       "      <th>NINCCAT</th>\n",
       "      <th>NINC2CAT</th>\n",
       "      <th>NWPCTLECAT</th>\n",
       "      <th>INCPCTLECAT</th>\n",
       "      <th>NINCPCTLECAT</th>\n",
       "      <th>INCQRTCAT</th>\n",
       "      <th>NINCQRTCAT</th>\n",
       "    </tr>\n",
       "  </thead>\n",
       "  <tbody>\n",
       "    <tr>\n",
       "      <th>20</th>\n",
       "      <td>5</td>\n",
       "      <td>51</td>\n",
       "      <td>7191.481109</td>\n",
       "      <td>2</td>\n",
       "      <td>19</td>\n",
       "      <td>1</td>\n",
       "      <td>8</td>\n",
       "      <td>2</td>\n",
       "      <td>1</td>\n",
       "      <td>0</td>\n",
       "      <td>...</td>\n",
       "      <td>1</td>\n",
       "      <td>3</td>\n",
       "      <td>1</td>\n",
       "      <td>2</td>\n",
       "      <td>1</td>\n",
       "      <td>2</td>\n",
       "      <td>5</td>\n",
       "      <td>4</td>\n",
       "      <td>2</td>\n",
       "      <td>2</td>\n",
       "    </tr>\n",
       "    <tr>\n",
       "      <th>21</th>\n",
       "      <td>5</td>\n",
       "      <td>52</td>\n",
       "      <td>7352.487205</td>\n",
       "      <td>2</td>\n",
       "      <td>19</td>\n",
       "      <td>1</td>\n",
       "      <td>8</td>\n",
       "      <td>2</td>\n",
       "      <td>1</td>\n",
       "      <td>0</td>\n",
       "      <td>...</td>\n",
       "      <td>1</td>\n",
       "      <td>3</td>\n",
       "      <td>1</td>\n",
       "      <td>2</td>\n",
       "      <td>1</td>\n",
       "      <td>2</td>\n",
       "      <td>5</td>\n",
       "      <td>4</td>\n",
       "      <td>2</td>\n",
       "      <td>2</td>\n",
       "    </tr>\n",
       "    <tr>\n",
       "      <th>22</th>\n",
       "      <td>5</td>\n",
       "      <td>53</td>\n",
       "      <td>7270.703541</td>\n",
       "      <td>2</td>\n",
       "      <td>19</td>\n",
       "      <td>1</td>\n",
       "      <td>8</td>\n",
       "      <td>2</td>\n",
       "      <td>1</td>\n",
       "      <td>0</td>\n",
       "      <td>...</td>\n",
       "      <td>1</td>\n",
       "      <td>3</td>\n",
       "      <td>1</td>\n",
       "      <td>3</td>\n",
       "      <td>1</td>\n",
       "      <td>2</td>\n",
       "      <td>5</td>\n",
       "      <td>5</td>\n",
       "      <td>2</td>\n",
       "      <td>2</td>\n",
       "    </tr>\n",
       "    <tr>\n",
       "      <th>23</th>\n",
       "      <td>5</td>\n",
       "      <td>54</td>\n",
       "      <td>7383.866597</td>\n",
       "      <td>2</td>\n",
       "      <td>19</td>\n",
       "      <td>1</td>\n",
       "      <td>8</td>\n",
       "      <td>2</td>\n",
       "      <td>1</td>\n",
       "      <td>0</td>\n",
       "      <td>...</td>\n",
       "      <td>1</td>\n",
       "      <td>3</td>\n",
       "      <td>1</td>\n",
       "      <td>3</td>\n",
       "      <td>1</td>\n",
       "      <td>2</td>\n",
       "      <td>5</td>\n",
       "      <td>5</td>\n",
       "      <td>2</td>\n",
       "      <td>2</td>\n",
       "    </tr>\n",
       "    <tr>\n",
       "      <th>24</th>\n",
       "      <td>5</td>\n",
       "      <td>55</td>\n",
       "      <td>7330.537669</td>\n",
       "      <td>2</td>\n",
       "      <td>19</td>\n",
       "      <td>1</td>\n",
       "      <td>8</td>\n",
       "      <td>2</td>\n",
       "      <td>1</td>\n",
       "      <td>0</td>\n",
       "      <td>...</td>\n",
       "      <td>1</td>\n",
       "      <td>3</td>\n",
       "      <td>1</td>\n",
       "      <td>2</td>\n",
       "      <td>1</td>\n",
       "      <td>2</td>\n",
       "      <td>5</td>\n",
       "      <td>4</td>\n",
       "      <td>2</td>\n",
       "      <td>2</td>\n",
       "    </tr>\n",
       "  </tbody>\n",
       "</table>\n",
       "<p>5 rows × 357 columns</p>\n",
       "</div>"
      ],
      "text/plain": [
       "    YY1  Y1          WGT  HHSEX  AGE  AGECL  EDUC  EDCL  MARRIED  KIDS  ...  \\\n",
       "20    5  51  7191.481109      2   19      1     8     2        1     0  ...   \n",
       "21    5  52  7352.487205      2   19      1     8     2        1     0  ...   \n",
       "22    5  53  7270.703541      2   19      1     8     2        1     0  ...   \n",
       "23    5  54  7383.866597      2   19      1     8     2        1     0  ...   \n",
       "24    5  55  7330.537669      2   19      1     8     2        1     0  ...   \n",
       "\n",
       "    NWCAT  INCCAT  ASSETCAT  NINCCAT  NINC2CAT  NWPCTLECAT  INCPCTLECAT  \\\n",
       "20      1       3         1        2         1           2            5   \n",
       "21      1       3         1        2         1           2            5   \n",
       "22      1       3         1        3         1           2            5   \n",
       "23      1       3         1        3         1           2            5   \n",
       "24      1       3         1        2         1           2            5   \n",
       "\n",
       "    NINCPCTLECAT  INCQRTCAT  NINCQRTCAT  \n",
       "20             4          2           2  \n",
       "21             4          2           2  \n",
       "22             5          2           2  \n",
       "23             5          2           2  \n",
       "24             4          2           2  \n",
       "\n",
       "[5 rows x 357 columns]"
      ]
     },
     "execution_count": 167,
     "metadata": {},
     "output_type": "execute_result"
    }
   ],
   "source": [
    "df = wrangle((r'C:\\Users\\USER\\Desktop\\PROJECTS\\SCFP2022.csv'))\n",
    "print(df.shape)\n",
    "df.head()\n"
   ]
  },
  {
   "cell_type": "markdown",
   "id": "837d6d44",
   "metadata": {},
   "source": [
    "*GETTING THE TOP 10 COLUMN VARIANCE*"
   ]
  },
  {
   "cell_type": "code",
   "execution_count": 168,
   "id": "059bbf1b",
   "metadata": {},
   "outputs": [
    {
     "data": {
      "text/plain": [
       "HOMEEQ      2.458776e+10\n",
       "DEBT        3.143920e+10\n",
       "NHNFIN      3.674843e+10\n",
       "HOUSES      5.423826e+10\n",
       "KGBUS       5.650619e+10\n",
       "FIN         5.820870e+10\n",
       "KGTOTAL     7.070918e+10\n",
       "NFIN        1.126769e+11\n",
       "NETWORTH    1.685950e+11\n",
       "ASSET       2.440804e+11\n",
       "dtype: float64"
      ]
     },
     "execution_count": 168,
     "metadata": {},
     "output_type": "execute_result"
    }
   ],
   "source": [
    "top_10_var = df.var().sort_values().tail(10)\n",
    "top_10_var\n"
   ]
  },
  {
   "cell_type": "markdown",
   "id": "bf18da5b",
   "metadata": {},
   "source": [
    "*BAR CHART OF TOP 10 HIGH VARIANCE FEATURES*"
   ]
  },
  {
   "cell_type": "code",
   "execution_count": 260,
   "id": "c1bd3871",
   "metadata": {},
   "outputs": [
    {
     "data": {
      "application/vnd.plotly.v1+json": {
       "config": {
        "plotlyServerURL": "https://plot.ly"
       },
       "data": [
        {
         "alignmentgroup": "True",
         "hovertemplate": "x=%{x}<br>y=%{y}<extra></extra>",
         "legendgroup": "",
         "marker": {
          "color": "#636efa",
          "pattern": {
           "shape": ""
          }
         },
         "name": "",
         "offsetgroup": "",
         "orientation": "h",
         "showlegend": false,
         "textposition": "auto",
         "type": "bar",
         "x": [
          24587757563.398388,
          31439196827.092945,
          36748430867.34516,
          54238263788.79638,
          56506190736.459465,
          58208701998.22999,
          70709178561.5061,
          112676899795.07999,
          168594993388.42072,
          244080415429.01178
         ],
         "xaxis": "x",
         "y": [
          "HOMEEQ",
          "DEBT",
          "NHNFIN",
          "HOUSES",
          "KGBUS",
          "FIN",
          "KGTOTAL",
          "NFIN",
          "NETWORTH",
          "ASSET"
         ],
         "yaxis": "y"
        }
       ],
       "layout": {
        "barmode": "relative",
        "legend": {
         "tracegroupgap": 0
        },
        "template": {
         "data": {
          "bar": [
           {
            "error_x": {
             "color": "#2a3f5f"
            },
            "error_y": {
             "color": "#2a3f5f"
            },
            "marker": {
             "line": {
              "color": "#E5ECF6",
              "width": 0.5
             },
             "pattern": {
              "fillmode": "overlay",
              "size": 10,
              "solidity": 0.2
             }
            },
            "type": "bar"
           }
          ],
          "barpolar": [
           {
            "marker": {
             "line": {
              "color": "#E5ECF6",
              "width": 0.5
             },
             "pattern": {
              "fillmode": "overlay",
              "size": 10,
              "solidity": 0.2
             }
            },
            "type": "barpolar"
           }
          ],
          "carpet": [
           {
            "aaxis": {
             "endlinecolor": "#2a3f5f",
             "gridcolor": "white",
             "linecolor": "white",
             "minorgridcolor": "white",
             "startlinecolor": "#2a3f5f"
            },
            "baxis": {
             "endlinecolor": "#2a3f5f",
             "gridcolor": "white",
             "linecolor": "white",
             "minorgridcolor": "white",
             "startlinecolor": "#2a3f5f"
            },
            "type": "carpet"
           }
          ],
          "choropleth": [
           {
            "colorbar": {
             "outlinewidth": 0,
             "ticks": ""
            },
            "type": "choropleth"
           }
          ],
          "contour": [
           {
            "colorbar": {
             "outlinewidth": 0,
             "ticks": ""
            },
            "colorscale": [
             [
              0,
              "#0d0887"
             ],
             [
              0.1111111111111111,
              "#46039f"
             ],
             [
              0.2222222222222222,
              "#7201a8"
             ],
             [
              0.3333333333333333,
              "#9c179e"
             ],
             [
              0.4444444444444444,
              "#bd3786"
             ],
             [
              0.5555555555555556,
              "#d8576b"
             ],
             [
              0.6666666666666666,
              "#ed7953"
             ],
             [
              0.7777777777777778,
              "#fb9f3a"
             ],
             [
              0.8888888888888888,
              "#fdca26"
             ],
             [
              1,
              "#f0f921"
             ]
            ],
            "type": "contour"
           }
          ],
          "contourcarpet": [
           {
            "colorbar": {
             "outlinewidth": 0,
             "ticks": ""
            },
            "type": "contourcarpet"
           }
          ],
          "heatmap": [
           {
            "colorbar": {
             "outlinewidth": 0,
             "ticks": ""
            },
            "colorscale": [
             [
              0,
              "#0d0887"
             ],
             [
              0.1111111111111111,
              "#46039f"
             ],
             [
              0.2222222222222222,
              "#7201a8"
             ],
             [
              0.3333333333333333,
              "#9c179e"
             ],
             [
              0.4444444444444444,
              "#bd3786"
             ],
             [
              0.5555555555555556,
              "#d8576b"
             ],
             [
              0.6666666666666666,
              "#ed7953"
             ],
             [
              0.7777777777777778,
              "#fb9f3a"
             ],
             [
              0.8888888888888888,
              "#fdca26"
             ],
             [
              1,
              "#f0f921"
             ]
            ],
            "type": "heatmap"
           }
          ],
          "heatmapgl": [
           {
            "colorbar": {
             "outlinewidth": 0,
             "ticks": ""
            },
            "colorscale": [
             [
              0,
              "#0d0887"
             ],
             [
              0.1111111111111111,
              "#46039f"
             ],
             [
              0.2222222222222222,
              "#7201a8"
             ],
             [
              0.3333333333333333,
              "#9c179e"
             ],
             [
              0.4444444444444444,
              "#bd3786"
             ],
             [
              0.5555555555555556,
              "#d8576b"
             ],
             [
              0.6666666666666666,
              "#ed7953"
             ],
             [
              0.7777777777777778,
              "#fb9f3a"
             ],
             [
              0.8888888888888888,
              "#fdca26"
             ],
             [
              1,
              "#f0f921"
             ]
            ],
            "type": "heatmapgl"
           }
          ],
          "histogram": [
           {
            "marker": {
             "pattern": {
              "fillmode": "overlay",
              "size": 10,
              "solidity": 0.2
             }
            },
            "type": "histogram"
           }
          ],
          "histogram2d": [
           {
            "colorbar": {
             "outlinewidth": 0,
             "ticks": ""
            },
            "colorscale": [
             [
              0,
              "#0d0887"
             ],
             [
              0.1111111111111111,
              "#46039f"
             ],
             [
              0.2222222222222222,
              "#7201a8"
             ],
             [
              0.3333333333333333,
              "#9c179e"
             ],
             [
              0.4444444444444444,
              "#bd3786"
             ],
             [
              0.5555555555555556,
              "#d8576b"
             ],
             [
              0.6666666666666666,
              "#ed7953"
             ],
             [
              0.7777777777777778,
              "#fb9f3a"
             ],
             [
              0.8888888888888888,
              "#fdca26"
             ],
             [
              1,
              "#f0f921"
             ]
            ],
            "type": "histogram2d"
           }
          ],
          "histogram2dcontour": [
           {
            "colorbar": {
             "outlinewidth": 0,
             "ticks": ""
            },
            "colorscale": [
             [
              0,
              "#0d0887"
             ],
             [
              0.1111111111111111,
              "#46039f"
             ],
             [
              0.2222222222222222,
              "#7201a8"
             ],
             [
              0.3333333333333333,
              "#9c179e"
             ],
             [
              0.4444444444444444,
              "#bd3786"
             ],
             [
              0.5555555555555556,
              "#d8576b"
             ],
             [
              0.6666666666666666,
              "#ed7953"
             ],
             [
              0.7777777777777778,
              "#fb9f3a"
             ],
             [
              0.8888888888888888,
              "#fdca26"
             ],
             [
              1,
              "#f0f921"
             ]
            ],
            "type": "histogram2dcontour"
           }
          ],
          "mesh3d": [
           {
            "colorbar": {
             "outlinewidth": 0,
             "ticks": ""
            },
            "type": "mesh3d"
           }
          ],
          "parcoords": [
           {
            "line": {
             "colorbar": {
              "outlinewidth": 0,
              "ticks": ""
             }
            },
            "type": "parcoords"
           }
          ],
          "pie": [
           {
            "automargin": true,
            "type": "pie"
           }
          ],
          "scatter": [
           {
            "fillpattern": {
             "fillmode": "overlay",
             "size": 10,
             "solidity": 0.2
            },
            "type": "scatter"
           }
          ],
          "scatter3d": [
           {
            "line": {
             "colorbar": {
              "outlinewidth": 0,
              "ticks": ""
             }
            },
            "marker": {
             "colorbar": {
              "outlinewidth": 0,
              "ticks": ""
             }
            },
            "type": "scatter3d"
           }
          ],
          "scattercarpet": [
           {
            "marker": {
             "colorbar": {
              "outlinewidth": 0,
              "ticks": ""
             }
            },
            "type": "scattercarpet"
           }
          ],
          "scattergeo": [
           {
            "marker": {
             "colorbar": {
              "outlinewidth": 0,
              "ticks": ""
             }
            },
            "type": "scattergeo"
           }
          ],
          "scattergl": [
           {
            "marker": {
             "colorbar": {
              "outlinewidth": 0,
              "ticks": ""
             }
            },
            "type": "scattergl"
           }
          ],
          "scattermapbox": [
           {
            "marker": {
             "colorbar": {
              "outlinewidth": 0,
              "ticks": ""
             }
            },
            "type": "scattermapbox"
           }
          ],
          "scatterpolar": [
           {
            "marker": {
             "colorbar": {
              "outlinewidth": 0,
              "ticks": ""
             }
            },
            "type": "scatterpolar"
           }
          ],
          "scatterpolargl": [
           {
            "marker": {
             "colorbar": {
              "outlinewidth": 0,
              "ticks": ""
             }
            },
            "type": "scatterpolargl"
           }
          ],
          "scatterternary": [
           {
            "marker": {
             "colorbar": {
              "outlinewidth": 0,
              "ticks": ""
             }
            },
            "type": "scatterternary"
           }
          ],
          "surface": [
           {
            "colorbar": {
             "outlinewidth": 0,
             "ticks": ""
            },
            "colorscale": [
             [
              0,
              "#0d0887"
             ],
             [
              0.1111111111111111,
              "#46039f"
             ],
             [
              0.2222222222222222,
              "#7201a8"
             ],
             [
              0.3333333333333333,
              "#9c179e"
             ],
             [
              0.4444444444444444,
              "#bd3786"
             ],
             [
              0.5555555555555556,
              "#d8576b"
             ],
             [
              0.6666666666666666,
              "#ed7953"
             ],
             [
              0.7777777777777778,
              "#fb9f3a"
             ],
             [
              0.8888888888888888,
              "#fdca26"
             ],
             [
              1,
              "#f0f921"
             ]
            ],
            "type": "surface"
           }
          ],
          "table": [
           {
            "cells": {
             "fill": {
              "color": "#EBF0F8"
             },
             "line": {
              "color": "white"
             }
            },
            "header": {
             "fill": {
              "color": "#C8D4E3"
             },
             "line": {
              "color": "white"
             }
            },
            "type": "table"
           }
          ]
         },
         "layout": {
          "annotationdefaults": {
           "arrowcolor": "#2a3f5f",
           "arrowhead": 0,
           "arrowwidth": 1
          },
          "autotypenumbers": "strict",
          "coloraxis": {
           "colorbar": {
            "outlinewidth": 0,
            "ticks": ""
           }
          },
          "colorscale": {
           "diverging": [
            [
             0,
             "#8e0152"
            ],
            [
             0.1,
             "#c51b7d"
            ],
            [
             0.2,
             "#de77ae"
            ],
            [
             0.3,
             "#f1b6da"
            ],
            [
             0.4,
             "#fde0ef"
            ],
            [
             0.5,
             "#f7f7f7"
            ],
            [
             0.6,
             "#e6f5d0"
            ],
            [
             0.7,
             "#b8e186"
            ],
            [
             0.8,
             "#7fbc41"
            ],
            [
             0.9,
             "#4d9221"
            ],
            [
             1,
             "#276419"
            ]
           ],
           "sequential": [
            [
             0,
             "#0d0887"
            ],
            [
             0.1111111111111111,
             "#46039f"
            ],
            [
             0.2222222222222222,
             "#7201a8"
            ],
            [
             0.3333333333333333,
             "#9c179e"
            ],
            [
             0.4444444444444444,
             "#bd3786"
            ],
            [
             0.5555555555555556,
             "#d8576b"
            ],
            [
             0.6666666666666666,
             "#ed7953"
            ],
            [
             0.7777777777777778,
             "#fb9f3a"
            ],
            [
             0.8888888888888888,
             "#fdca26"
            ],
            [
             1,
             "#f0f921"
            ]
           ],
           "sequentialminus": [
            [
             0,
             "#0d0887"
            ],
            [
             0.1111111111111111,
             "#46039f"
            ],
            [
             0.2222222222222222,
             "#7201a8"
            ],
            [
             0.3333333333333333,
             "#9c179e"
            ],
            [
             0.4444444444444444,
             "#bd3786"
            ],
            [
             0.5555555555555556,
             "#d8576b"
            ],
            [
             0.6666666666666666,
             "#ed7953"
            ],
            [
             0.7777777777777778,
             "#fb9f3a"
            ],
            [
             0.8888888888888888,
             "#fdca26"
            ],
            [
             1,
             "#f0f921"
            ]
           ]
          },
          "colorway": [
           "#636efa",
           "#EF553B",
           "#00cc96",
           "#ab63fa",
           "#FFA15A",
           "#19d3f3",
           "#FF6692",
           "#B6E880",
           "#FF97FF",
           "#FECB52"
          ],
          "font": {
           "color": "#2a3f5f"
          },
          "geo": {
           "bgcolor": "white",
           "lakecolor": "white",
           "landcolor": "#E5ECF6",
           "showlakes": true,
           "showland": true,
           "subunitcolor": "white"
          },
          "hoverlabel": {
           "align": "left"
          },
          "hovermode": "closest",
          "mapbox": {
           "style": "light"
          },
          "paper_bgcolor": "white",
          "plot_bgcolor": "#E5ECF6",
          "polar": {
           "angularaxis": {
            "gridcolor": "white",
            "linecolor": "white",
            "ticks": ""
           },
           "bgcolor": "#E5ECF6",
           "radialaxis": {
            "gridcolor": "white",
            "linecolor": "white",
            "ticks": ""
           }
          },
          "scene": {
           "xaxis": {
            "backgroundcolor": "#E5ECF6",
            "gridcolor": "white",
            "gridwidth": 2,
            "linecolor": "white",
            "showbackground": true,
            "ticks": "",
            "zerolinecolor": "white"
           },
           "yaxis": {
            "backgroundcolor": "#E5ECF6",
            "gridcolor": "white",
            "gridwidth": 2,
            "linecolor": "white",
            "showbackground": true,
            "ticks": "",
            "zerolinecolor": "white"
           },
           "zaxis": {
            "backgroundcolor": "#E5ECF6",
            "gridcolor": "white",
            "gridwidth": 2,
            "linecolor": "white",
            "showbackground": true,
            "ticks": "",
            "zerolinecolor": "white"
           }
          },
          "shapedefaults": {
           "line": {
            "color": "#2a3f5f"
           }
          },
          "ternary": {
           "aaxis": {
            "gridcolor": "white",
            "linecolor": "white",
            "ticks": ""
           },
           "baxis": {
            "gridcolor": "white",
            "linecolor": "white",
            "ticks": ""
           },
           "bgcolor": "#E5ECF6",
           "caxis": {
            "gridcolor": "white",
            "linecolor": "white",
            "ticks": ""
           }
          },
          "title": {
           "x": 0.05
          },
          "xaxis": {
           "automargin": true,
           "gridcolor": "white",
           "linecolor": "white",
           "ticks": "",
           "title": {
            "standoff": 15
           },
           "zerolinecolor": "white",
           "zerolinewidth": 2
          },
          "yaxis": {
           "automargin": true,
           "gridcolor": "white",
           "linecolor": "white",
           "ticks": "",
           "title": {
            "standoff": 15
           },
           "zerolinecolor": "white",
           "zerolinewidth": 2
          }
         }
        },
        "title": {
         "text": "SCF: High Variance Features"
        },
        "xaxis": {
         "anchor": "y",
         "domain": [
          0,
          1
         ],
         "title": {
          "text": "Variance"
         }
        },
        "yaxis": {
         "anchor": "x",
         "domain": [
          0,
          1
         ],
         "title": {
          "text": "Feature"
         }
        }
       }
      }
     },
     "metadata": {},
     "output_type": "display_data"
    }
   ],
   "source": [
    "fig = px.bar(x=top_10_var, y=top_10_var.index, title='SCF: High Variance Features')\n",
    "fig.update_layout(xaxis_title='Variance', yaxis_title='Feature')\n",
    "    \n",
    "fig.show()\n"
   ]
  },
  {
   "cell_type": "markdown",
   "id": "6487d972",
   "metadata": {},
   "source": [
    "*WE CAN SEE WE HQAVE OUTLIERS IN THE DATA*"
   ]
  },
  {
   "cell_type": "code",
   "execution_count": 170,
   "id": "142a9089",
   "metadata": {},
   "outputs": [
    {
     "data": {
      "application/vnd.plotly.v1+json": {
       "config": {
        "plotlyServerURL": "https://plot.ly"
       },
       "data": [
        {
         "alignmentgroup": "True",
         "hovertemplate": "ASSET=%{x}<extra></extra>",
         "legendgroup": "",
         "marker": {
          "color": "#636efa"
         },
         "name": "",
         "notched": false,
         "offsetgroup": "",
         "orientation": "h",
         "showlegend": false,
         "type": "box",
         "x": [
          15100,
          15500,
          14500,
          15600,
          15500,
          116700,
          112800,
          113500,
          111900,
          112200,
          12420,
          13110,
          14820,
          13470,
          15620,
          7760,
          12070,
          8460,
          8570,
          10760,
          22055,
          23055,
          22955,
          22070,
          23060,
          85200,
          85200,
          85200,
          85100,
          85200,
          346000,
          346000,
          346000,
          347000,
          345000,
          101,
          101,
          101,
          101,
          101,
          1050,
          2400,
          1550,
          1900,
          5100,
          174770,
          175300,
          175900,
          175700,
          175040,
          72330,
          72325,
          72440,
          72370,
          72480,
          638800,
          642200,
          636850,
          638100,
          635860,
          248400,
          266900,
          255800,
          271100,
          283400,
          13360,
          12260,
          13620,
          11750,
          12670,
          54000,
          55000,
          55000,
          55000,
          54000,
          67000,
          67000,
          67000,
          67000,
          66000,
          50300,
          50000,
          52480,
          46600,
          46800,
          11450,
          8440,
          4740,
          6350,
          4940,
          5705,
          4010,
          4105,
          3405,
          3110,
          27751,
          27751,
          27760,
          28890,
          27920,
          789500,
          790800,
          790000,
          790500,
          790600,
          22185,
          21190,
          21175,
          22080,
          22190,
          12600,
          7700,
          12500,
          9000,
          8800,
          514500,
          514500,
          514500,
          515500,
          514500,
          17690,
          19190,
          21700,
          27300,
          25590,
          32750,
          65910,
          41140,
          27500,
          65750,
          204100,
          177100,
          178100,
          202100,
          180100,
          517870,
          517870,
          517870,
          517870,
          517870,
          800,
          800,
          800,
          800,
          800,
          39900,
          41800,
          46300,
          40400,
          55400,
          5301,
          5301,
          5301,
          5301,
          5301,
          19340,
          18330,
          18320,
          18350,
          18330,
          15450,
          20250,
          13350,
          27450,
          20150,
          584500,
          584500,
          584500,
          584500,
          584500,
          43001,
          40001,
          38001,
          48001,
          46001,
          10500,
          10500,
          10600,
          10600,
          10600,
          121800,
          138200,
          127900,
          128750,
          129750,
          4000,
          3900,
          4000,
          4000,
          3900,
          13401,
          13401,
          13401,
          13401,
          13401,
          53340,
          52335,
          54840,
          52335,
          54630,
          211500,
          215500,
          187000,
          217500,
          203500,
          6900,
          7800,
          5400,
          5000,
          5100,
          390,
          390,
          390,
          390,
          390,
          706100,
          710900,
          708000,
          706400,
          708200,
          1183000,
          1164400,
          1167500,
          1168500,
          1161970,
          25000,
          25000,
          26000,
          25000,
          25000,
          397060,
          398880,
          399780,
          399150,
          398700,
          248901,
          248301,
          249401,
          248501,
          249101,
          364325,
          359330,
          364330,
          372330,
          359230,
          139190,
          132190,
          153190,
          123190,
          183190,
          184380,
          184380,
          184480,
          185380,
          184480,
          120350,
          120350,
          119350,
          119350,
          120350,
          24220,
          4100,
          4150,
          16120,
          4140,
          1012031,
          1012031,
          1012041,
          1012031,
          1012041,
          40505,
          40510,
          40610,
          40605,
          40505,
          2473100,
          2473130,
          2473900,
          2475000,
          2472100,
          300,
          300,
          300,
          300,
          300,
          58100,
          58100,
          58100,
          57100,
          58100,
          3161200,
          3161300,
          3161200,
          3162200,
          3161200,
          36200,
          38200,
          37200,
          37200,
          37200,
          866100,
          866100,
          866100,
          866100,
          867100,
          886320,
          842200,
          731970,
          927400,
          670120,
          6500,
          6500,
          6500,
          6500,
          6500,
          83620,
          83610,
          85000,
          85000,
          84000,
          22800,
          17410,
          22700,
          22500,
          17920,
          155761,
          281050,
          147910,
          230090,
          284270,
          37090,
          36670,
          54880,
          37890,
          31150,
          43001,
          43001,
          43001,
          42001,
          42001,
          25050,
          25050,
          26050,
          25050,
          26050,
          12050,
          13040,
          12050,
          12050,
          12050,
          2565300,
          1555400,
          1515900,
          1450900,
          2374400,
          2193310,
          2204510,
          2194210,
          2196910,
          2199510,
          849500,
          851500,
          846600,
          854500,
          852500,
          2528000,
          2528000,
          2528000,
          2527000,
          2527000,
          68100,
          68100,
          67100,
          68100,
          67100,
          6940,
          6930,
          6940,
          6940,
          6940,
          599500,
          595500,
          595500,
          599500,
          595500,
          58250,
          57400,
          58050,
          58450,
          57350,
          9330,
          9430,
          9430,
          9420,
          9430,
          411750,
          364670,
          403510,
          363590,
          371770,
          1140000,
          1140000,
          1140000,
          1141000,
          1140000,
          199830,
          192830,
          184540,
          192150,
          193430,
          250,
          250,
          250,
          250,
          250,
          390,
          390,
          390,
          390,
          390,
          3500,
          3500,
          3500,
          3500,
          3500,
          267000,
          265200,
          266800,
          267800,
          267700,
          166000,
          171860,
          385400,
          259300,
          339300,
          90200,
          89200,
          89200,
          90200,
          89200,
          28500,
          28500,
          29500,
          29500,
          28500,
          940,
          950,
          950,
          940,
          950,
          56900,
          56900,
          56900,
          56900,
          57900,
          572700,
          565700,
          564700,
          567700,
          562700,
          490,
          490,
          490,
          490,
          490,
          15000,
          16000,
          15000,
          16000,
          15000,
          43571,
          43451,
          43301,
          43401,
          43301,
          10040,
          10040,
          10040,
          10040,
          10040,
          32290,
          32330,
          43400,
          37200,
          45200,
          916200,
          917700,
          919700,
          918400,
          918500,
          1801750,
          1554640,
          1335800,
          1604700,
          1363560,
          290170,
          382901,
          368220,
          393150,
          280971,
          27020,
          5070,
          17880,
          4970,
          22980,
          261001,
          260001,
          261001,
          261001,
          260001,
          72200,
          81590,
          66180,
          68850,
          68380,
          37150,
          35550,
          34550,
          37850,
          45950,
          6650,
          7050,
          7450,
          8150,
          6850,
          223900,
          223000,
          219800,
          221200,
          229000,
          50180,
          50170,
          50170,
          50080,
          50170,
          1268200,
          1245900,
          1250400,
          1269500,
          1257600,
          11095,
          11085,
          11095,
          11100,
          12085,
          15000,
          8200,
          19000,
          12000,
          11000,
          23200,
          23300,
          23200,
          23300,
          24200,
          8100,
          8100,
          8100,
          8100,
          8100,
          32950,
          31100,
          32720,
          33750,
          32630,
          17700,
          22820,
          16700,
          20970,
          19430,
          60,
          350,
          3000,
          2400,
          3700,
          1051300,
          1406420,
          939950,
          990000,
          1621100,
          12030,
          17300,
          13010,
          12510,
          13650,
          13500,
          13600,
          13210,
          13300,
          13300,
          1255810,
          392610,
          515660,
          1249620,
          628610,
          611650,
          611750,
          611750,
          610650,
          609850,
          4180,
          5275,
          3875,
          3380,
          3980,
          1491200,
          1471200,
          1422200,
          1309200,
          1430200,
          9500,
          9500,
          9500,
          9500,
          9500,
          47050,
          47050,
          46050,
          46050,
          47050,
          45351,
          27351,
          35351,
          24351,
          24351,
          683800,
          574100,
          648600,
          575300,
          680800,
          245675,
          245675,
          245675,
          245680,
          245690,
          459000,
          460000,
          460000,
          459000,
          459000,
          410200,
          415110,
          412911,
          389211,
          386420,
          534900,
          535200,
          537100,
          534300,
          533900,
          548780,
          551880,
          550890,
          550890,
          550880,
          376340,
          375630,
          375750,
          375760,
          375780,
          155300,
          172750,
          171400,
          184300,
          191800,
          93300,
          63320,
          58350,
          66200,
          58310,
          1824060,
          1824060,
          1824060,
          1823060,
          1824060,
          69010,
          68005,
          69005,
          68010,
          68010,
          11700,
          11700,
          11700,
          11700,
          11700,
          224900,
          213980,
          275770,
          297700,
          236150,
          449500,
          450400,
          449400,
          449400,
          449500,
          60700,
          60700,
          61700,
          60700,
          60700,
          49000,
          48000,
          48000,
          48000,
          49000,
          1400,
          2200,
          1300,
          1100,
          1100,
          12001,
          13001,
          13001,
          12001,
          13001,
          2061500,
          2045500,
          2036700,
          2046500,
          2052500,
          24200,
          23200,
          24200,
          23200,
          24200,
          0,
          0,
          0,
          0,
          0,
          337350,
          336850,
          349050,
          341050,
          354050,
          19800,
          19800,
          19800,
          19800,
          19800,
          157300,
          158400,
          158300,
          155400,
          157700,
          642340,
          642340,
          642340,
          642340,
          642340,
          10001,
          6701,
          9701,
          12201,
          10301,
          272460,
          268340,
          273660,
          269460,
          279370,
          5400,
          5050,
          5380,
          5310,
          5040,
          177520,
          177520,
          177520,
          177620,
          177620,
          1869330,
          1947070,
          1925500,
          2133000,
          1858800,
          58550,
          59550,
          59050,
          52950,
          54550,
          573500,
          578530,
          581400,
          581600,
          572860,
          7700,
          7700,
          7700,
          7700,
          7700,
          225470,
          225370,
          225470,
          225470,
          225370,
          3900,
          2700,
          3000,
          3500,
          3300,
          46200,
          46200,
          46200,
          46200,
          46200,
          380,
          380,
          380,
          380,
          380,
          434300,
          434300,
          438200,
          438200,
          437200,
          177100,
          177270,
          177680,
          176870,
          176860,
          48450,
          48450,
          48450,
          48450,
          48550,
          38100,
          39100,
          39100,
          39100,
          39100,
          85140,
          79120,
          93120,
          78130,
          68140,
          8400,
          8500,
          8500,
          8500,
          8400,
          302120,
          299120,
          308120,
          302120,
          315120,
          1101100,
          1101100,
          1101100,
          1100100,
          1101100,
          835660,
          802300,
          851930,
          869620,
          870610,
          490370,
          487270,
          486470,
          490170,
          485770,
          552800,
          552800,
          552800,
          552700,
          552700,
          405600,
          401600,
          401600,
          391200,
          399600,
          429360,
          422160,
          425260,
          422560,
          681560,
          608920,
          607930,
          608930,
          608920,
          609910,
          50,
          50,
          600,
          250,
          1,
          21080,
          20080,
          21080,
          21080,
          20080,
          125030,
          124120,
          125130,
          124130,
          125130,
          39200,
          38100,
          38100,
          39100,
          38100,
          93310,
          73300,
          65600,
          77200,
          83200,
          40572,
          39562,
          39572,
          39562,
          40562,
          6100,
          6100,
          6000,
          6100,
          6100,
          75550,
          75440,
          75640,
          76540,
          75640,
          391900,
          388900,
          386900,
          391900,
          383900,
          589200,
          604150,
          555100,
          527900,
          611000,
          47010,
          45160,
          47800,
          45200,
          49100,
          9900,
          9900,
          9900,
          9900,
          9900,
          23200,
          23200,
          23200,
          23200,
          23200,
          164300,
          165530,
          164800,
          165800,
          165600,
          402850,
          375880,
          380160,
          367680,
          386560,
          6700,
          6300,
          5500,
          10100,
          9600,
          426000,
          426000,
          427000,
          427000,
          426000,
          259060,
          224055,
          262055,
          216855,
          219155,
          1421200,
          1976200,
          1976200,
          1392200,
          1454300,
          244450,
          244450,
          245450,
          245450,
          245450,
          1618540,
          1618980,
          1619360,
          1618540,
          1617810,
          31,
          31,
          31,
          31,
          31,
          147230,
          147510,
          146260,
          148420,
          148380,
          605300,
          606300,
          606300,
          606300,
          606300,
          61620,
          72840,
          79440,
          62140,
          76940,
          7702,
          3602,
          3202,
          4702,
          6102,
          8600,
          8700,
          8700,
          8600,
          8600,
          330,
          320,
          320,
          320,
          320,
          122101,
          194101,
          194101,
          159001,
          194101,
          14700,
          15700,
          15700,
          15700,
          15700,
          780,
          100,
          1300,
          870,
          40,
          12200,
          6700,
          7400,
          4700,
          6800,
          11070,
          10370,
          11110,
          9150,
          9450,
          320,
          320,
          320,
          320,
          320,
          34670,
          33670,
          34770,
          33670,
          34670,
          1000,
          1000,
          1000,
          1000,
          1000,
          542000,
          546000,
          545000,
          545000,
          542000,
          1200,
          1200,
          1200,
          1300,
          1200,
          578400,
          587730,
          585100,
          602900,
          592730,
          363210,
          371600,
          370000,
          367100,
          368500,
          269000,
          269000,
          269000,
          270000,
          269000,
          100,
          100,
          100,
          100,
          100,
          388800,
          388800,
          388900,
          387800,
          388600,
          262100,
          262100,
          262100,
          262100,
          262100,
          35920,
          29710,
          34810,
          33210,
          40710,
          19601,
          19601,
          19501,
          19501,
          19501,
          5650,
          5650,
          5650,
          5550,
          5550,
          14500,
          14500,
          14500,
          14500,
          14600,
          325960,
          457610,
          395550,
          530460,
          467060,
          51600,
          50600,
          51600,
          50600,
          51600,
          170401,
          170401,
          171301,
          170301,
          170401,
          298801,
          298801,
          298801,
          298801,
          298701,
          85400,
          85300,
          85400,
          86300,
          86400,
          106400,
          107400,
          107400,
          106400,
          106400,
          9500,
          10800,
          10600,
          13900,
          11800,
          32310,
          33901,
          32750,
          30640,
          31320,
          602400,
          611000,
          602800,
          613000,
          595700,
          9200,
          10100,
          10600,
          9100,
          9500,
          756000,
          757000,
          753000,
          748000,
          756000,
          1282200,
          1395200,
          1007200,
          1086200,
          2054200,
          13350,
          13350,
          13350,
          13350,
          13450,
          453550,
          454550,
          453550,
          453550,
          453550,
          271450,
          280655,
          276380,
          271160,
          274550,
          5701,
          8001,
          6801,
          7301,
          14501,
          401001,
          402001,
          402001,
          402001,
          401001,
          6401,
          6301,
          6301,
          6301,
          6301,
          581000,
          560000,
          540600,
          558000,
          607000,
          7031,
          7031,
          7031,
          7031,
          7031,
          480,
          480,
          480,
          480,
          490,
          34000,
          32000,
          30000,
          40000,
          27000,
          544400,
          544400,
          544400,
          543400,
          545400,
          3654500,
          3624500,
          3624500,
          3547500,
          3584500,
          125550,
          127690,
          127500,
          126500,
          125550,
          669000,
          668000,
          668000,
          669000,
          668000,
          92785,
          90265,
          90475,
          91080,
          92580,
          1420,
          1540,
          1550,
          1320,
          1450,
          15550,
          15550,
          15450,
          15450,
          15450,
          328030,
          328220,
          331570,
          330470,
          329560,
          5701,
          5801,
          5801,
          5801,
          5801,
          41400,
          34300,
          33900,
          35200,
          36700,
          287850,
          274460,
          274450,
          283860,
          305850,
          38510,
          34515,
          29515,
          38520,
          28520,
          232100,
          232100,
          232100,
          232100,
          231100,
          163800,
          82500,
          84100,
          99200,
          78200,
          2635500,
          2719500,
          2660500,
          2901200,
          2587500,
          500,
          500,
          500,
          500,
          500,
          17880,
          17880,
          17880,
          17880,
          17880,
          530600,
          530500,
          530700,
          531500,
          530600,
          2643000,
          2642000,
          2642000,
          2642000,
          2642000,
          1321400,
          1321100,
          1321400,
          1321400,
          1321400,
          37000,
          39000,
          39000,
          39000,
          39000,
          6601,
          6601,
          6601,
          6601,
          6601,
          346400,
          336700,
          337700,
          349400,
          338400,
          11440,
          11340,
          11440,
          11240,
          11440,
          252320,
          252320,
          252330,
          252330,
          252320,
          85720,
          94220,
          95260,
          95320,
          99320,
          6301,
          6201,
          6201,
          6201,
          6201,
          107960,
          106970,
          110250,
          109760,
          108260,
          578800,
          581200,
          585500,
          577000,
          582700,
          330600,
          311600,
          321600,
          318600,
          330600,
          350300,
          350300,
          350300,
          350300,
          350300,
          108201,
          83401,
          98201,
          78201,
          83801,
          112010,
          112010,
          112005,
          112010,
          112005,
          1120,
          980,
          930,
          2160,
          1380,
          418600,
          421780,
          422200,
          422000,
          422000,
          27000,
          27000,
          27000,
          27000,
          27000,
          19800,
          19800,
          19800,
          20800,
          20800,
          1090600,
          1091600,
          1090600,
          1090600,
          1090600,
          1057700,
          867000,
          1008200,
          1004700,
          678900,
          41000,
          41000,
          42000,
          41000,
          42000,
          1,
          1,
          1,
          1,
          1,
          32070,
          34060,
          33060,
          33065,
          34065,
          813980,
          824250,
          826350,
          832150,
          813950,
          294145,
          294150,
          294135,
          294135,
          294250,
          538700,
          539700,
          539700,
          532700,
          539700,
          21470,
          20470,
          21470,
          20470,
          20470,
          1,
          1,
          1,
          1,
          1,
          174291,
          174360,
          174310,
          174305,
          174291,
          39900,
          40000,
          40000,
          39900,
          39900,
          102872,
          102882,
          102772,
          102882,
          102872,
          3045,
          3040,
          3045,
          3050,
          3045,
          342200,
          337200,
          343100,
          338100,
          337200,
          306300,
          293800,
          299700,
          291700,
          299300,
          49200,
          37120,
          36500,
          44200,
          42400,
          38600,
          38700,
          38700,
          38700,
          38700,
          5740,
          5690,
          5710,
          5730,
          5680,
          6751,
          13151,
          7741,
          11741,
          6261,
          18250,
          17150,
          17260,
          15250,
          17150,
          550,
          550,
          550,
          550,
          550,
          3100,
          3100,
          3100,
          3100,
          3100,
          61,
          71,
          311,
          111,
          211,
          18850,
          19100,
          18740,
          19100,
          19140,
          22002,
          22002,
          22002,
          22002,
          21002,
          42640,
          43640,
          43640,
          43640,
          43640,
          534300,
          534400,
          534300,
          535400,
          534300,
          290941,
          290931,
          331941,
          280942,
          243931,
          6900,
          6600,
          6600,
          8100,
          11500,
          4000,
          4000,
          4100,
          4000,
          4100,
          43000,
          41900,
          42900,
          45600,
          48900,
          14010,
          15150,
          15010,
          15030,
          14020,
          96500,
          77940,
          75110,
          110330,
          75450,
          240,
          190,
          240,
          420,
          470,
          23400,
          22400,
          23400,
          22400,
          22400,
          417200,
          423000,
          432000,
          422000,
          431000,
          32700,
          19600,
          29300,
          55700,
          23700,
          235361,
          409700,
          409700,
          409700,
          409700,
          409700,
          875600,
          876600,
          877600,
          875600,
          876600,
          200,
          200,
          200,
          200,
          200,
          248800,
          248800,
          248800,
          248800,
          248800,
          335500,
          337800,
          335130,
          335010,
          335900,
          112920,
          87920,
          104920,
          86810,
          142820,
          241920,
          276020,
          195920,
          284020,
          279920,
          17900,
          20500,
          19400,
          20700,
          18500,
          18200,
          18300,
          18300,
          18300,
          18200,
          379000,
          379000,
          380000,
          380000,
          379000,
          272900,
          275800,
          272900,
          288500,
          275700,
          1,
          1,
          1,
          1,
          1,
          1530,
          710,
          60,
          90,
          190,
          10200,
          7290,
          8700,
          7900,
          8500,
          31100,
          51000,
          31000,
          31000,
          31000,
          247500,
          246500,
          247500,
          246500,
          247500,
          354600,
          362600,
          358800,
          341900,
          349500,
          288200,
          288200,
          288200,
          288200,
          288200,
          103900,
          103900,
          103900,
          104900,
          104900,
          751100,
          765100,
          1526100,
          813100,
          987100,
          443830,
          424490,
          410320,
          409460,
          416210,
          6130,
          6130,
          6130,
          6030,
          6130,
          17000,
          18000,
          17000,
          17000,
          17000,
          130630,
          130640,
          130630,
          130620,
          130620,
          86680,
          82390,
          60890,
          49280,
          75690,
          662900,
          658900,
          652700,
          651200,
          659900,
          236290,
          240290,
          252290,
          243590,
          231290,
          251000,
          251000,
          251000,
          252100,
          252000,
          267880,
          253300,
          262880,
          265790,
          261890,
          39000,
          41500,
          36100,
          35300,
          39800,
          322601,
          322751,
          322951,
          322971,
          323011,
          510570,
          512100,
          510370,
          507960,
          510710,
          8702,
          6074,
          6355,
          10682,
          7018,
          1600,
          1600,
          1600,
          1600,
          1600,
          28150,
          28150,
          28150,
          28150,
          28150,
          517400,
          517400,
          517400,
          517400,
          517400,
          33300,
          34300,
          34300,
          35300,
          35300,
          41600,
          41700,
          41700,
          41700,
          41700,
          15700,
          15600,
          15600,
          15700,
          15600,
          201240,
          201240,
          201240,
          202250,
          202260,
          65290,
          62275,
          62285,
          67285,
          69290,
          80,
          5,
          5,
          30,
          120,
          5000,
          5000,
          5000,
          5000,
          5000,
          29501,
          29501,
          29601,
          29501,
          29601,
          1,
          1,
          1,
          1,
          1,
          6820,
          6310,
          8890,
          7920,
          11310,
          310,
          310,
          310,
          310,
          310,
          18690,
          18200,
          18230,
          18900,
          18800,
          366820,
          324280,
          361890,
          313860,
          364420,
          1010,
          940,
          960,
          1000,
          925,
          38400,
          38400,
          38400,
          38400,
          38500,
          1400,
          1400,
          1400,
          1400,
          1400,
          1123480,
          1123480,
          1123580,
          1123470,
          1123480,
          203400,
          196090,
          202290,
          198590,
          193090,
          145010,
          145010,
          145020,
          145010,
          145020,
          55630,
          56630,
          55630,
          56630,
          56630,
          42301,
          40920,
          23200,
          31350,
          28320,
          51800,
          52300,
          51700,
          52700,
          52300,
          21370,
          21370,
          20370,
          20370,
          21370,
          648050,
          2138050,
          570050,
          895050,
          315050,
          22600,
          22600,
          22600,
          22600,
          22600,
          28010,
          25530,
          27000,
          22460,
          32370,
          789000,
          894000,
          818000,
          959000,
          1023000,
          99080,
          87080,
          100090,
          87090,
          87090,
          8480,
          1580,
          11020,
          5390,
          980
         ],
         "x0": " ",
         "xaxis": "x",
         "y0": " ",
         "yaxis": "y"
        }
       ],
       "layout": {
        "boxmode": "group",
        "legend": {
         "tracegroupgap": 0
        },
        "margin": {
         "t": 60
        },
        "template": {
         "data": {
          "bar": [
           {
            "error_x": {
             "color": "#2a3f5f"
            },
            "error_y": {
             "color": "#2a3f5f"
            },
            "marker": {
             "line": {
              "color": "#E5ECF6",
              "width": 0.5
             },
             "pattern": {
              "fillmode": "overlay",
              "size": 10,
              "solidity": 0.2
             }
            },
            "type": "bar"
           }
          ],
          "barpolar": [
           {
            "marker": {
             "line": {
              "color": "#E5ECF6",
              "width": 0.5
             },
             "pattern": {
              "fillmode": "overlay",
              "size": 10,
              "solidity": 0.2
             }
            },
            "type": "barpolar"
           }
          ],
          "carpet": [
           {
            "aaxis": {
             "endlinecolor": "#2a3f5f",
             "gridcolor": "white",
             "linecolor": "white",
             "minorgridcolor": "white",
             "startlinecolor": "#2a3f5f"
            },
            "baxis": {
             "endlinecolor": "#2a3f5f",
             "gridcolor": "white",
             "linecolor": "white",
             "minorgridcolor": "white",
             "startlinecolor": "#2a3f5f"
            },
            "type": "carpet"
           }
          ],
          "choropleth": [
           {
            "colorbar": {
             "outlinewidth": 0,
             "ticks": ""
            },
            "type": "choropleth"
           }
          ],
          "contour": [
           {
            "colorbar": {
             "outlinewidth": 0,
             "ticks": ""
            },
            "colorscale": [
             [
              0,
              "#0d0887"
             ],
             [
              0.1111111111111111,
              "#46039f"
             ],
             [
              0.2222222222222222,
              "#7201a8"
             ],
             [
              0.3333333333333333,
              "#9c179e"
             ],
             [
              0.4444444444444444,
              "#bd3786"
             ],
             [
              0.5555555555555556,
              "#d8576b"
             ],
             [
              0.6666666666666666,
              "#ed7953"
             ],
             [
              0.7777777777777778,
              "#fb9f3a"
             ],
             [
              0.8888888888888888,
              "#fdca26"
             ],
             [
              1,
              "#f0f921"
             ]
            ],
            "type": "contour"
           }
          ],
          "contourcarpet": [
           {
            "colorbar": {
             "outlinewidth": 0,
             "ticks": ""
            },
            "type": "contourcarpet"
           }
          ],
          "heatmap": [
           {
            "colorbar": {
             "outlinewidth": 0,
             "ticks": ""
            },
            "colorscale": [
             [
              0,
              "#0d0887"
             ],
             [
              0.1111111111111111,
              "#46039f"
             ],
             [
              0.2222222222222222,
              "#7201a8"
             ],
             [
              0.3333333333333333,
              "#9c179e"
             ],
             [
              0.4444444444444444,
              "#bd3786"
             ],
             [
              0.5555555555555556,
              "#d8576b"
             ],
             [
              0.6666666666666666,
              "#ed7953"
             ],
             [
              0.7777777777777778,
              "#fb9f3a"
             ],
             [
              0.8888888888888888,
              "#fdca26"
             ],
             [
              1,
              "#f0f921"
             ]
            ],
            "type": "heatmap"
           }
          ],
          "heatmapgl": [
           {
            "colorbar": {
             "outlinewidth": 0,
             "ticks": ""
            },
            "colorscale": [
             [
              0,
              "#0d0887"
             ],
             [
              0.1111111111111111,
              "#46039f"
             ],
             [
              0.2222222222222222,
              "#7201a8"
             ],
             [
              0.3333333333333333,
              "#9c179e"
             ],
             [
              0.4444444444444444,
              "#bd3786"
             ],
             [
              0.5555555555555556,
              "#d8576b"
             ],
             [
              0.6666666666666666,
              "#ed7953"
             ],
             [
              0.7777777777777778,
              "#fb9f3a"
             ],
             [
              0.8888888888888888,
              "#fdca26"
             ],
             [
              1,
              "#f0f921"
             ]
            ],
            "type": "heatmapgl"
           }
          ],
          "histogram": [
           {
            "marker": {
             "pattern": {
              "fillmode": "overlay",
              "size": 10,
              "solidity": 0.2
             }
            },
            "type": "histogram"
           }
          ],
          "histogram2d": [
           {
            "colorbar": {
             "outlinewidth": 0,
             "ticks": ""
            },
            "colorscale": [
             [
              0,
              "#0d0887"
             ],
             [
              0.1111111111111111,
              "#46039f"
             ],
             [
              0.2222222222222222,
              "#7201a8"
             ],
             [
              0.3333333333333333,
              "#9c179e"
             ],
             [
              0.4444444444444444,
              "#bd3786"
             ],
             [
              0.5555555555555556,
              "#d8576b"
             ],
             [
              0.6666666666666666,
              "#ed7953"
             ],
             [
              0.7777777777777778,
              "#fb9f3a"
             ],
             [
              0.8888888888888888,
              "#fdca26"
             ],
             [
              1,
              "#f0f921"
             ]
            ],
            "type": "histogram2d"
           }
          ],
          "histogram2dcontour": [
           {
            "colorbar": {
             "outlinewidth": 0,
             "ticks": ""
            },
            "colorscale": [
             [
              0,
              "#0d0887"
             ],
             [
              0.1111111111111111,
              "#46039f"
             ],
             [
              0.2222222222222222,
              "#7201a8"
             ],
             [
              0.3333333333333333,
              "#9c179e"
             ],
             [
              0.4444444444444444,
              "#bd3786"
             ],
             [
              0.5555555555555556,
              "#d8576b"
             ],
             [
              0.6666666666666666,
              "#ed7953"
             ],
             [
              0.7777777777777778,
              "#fb9f3a"
             ],
             [
              0.8888888888888888,
              "#fdca26"
             ],
             [
              1,
              "#f0f921"
             ]
            ],
            "type": "histogram2dcontour"
           }
          ],
          "mesh3d": [
           {
            "colorbar": {
             "outlinewidth": 0,
             "ticks": ""
            },
            "type": "mesh3d"
           }
          ],
          "parcoords": [
           {
            "line": {
             "colorbar": {
              "outlinewidth": 0,
              "ticks": ""
             }
            },
            "type": "parcoords"
           }
          ],
          "pie": [
           {
            "automargin": true,
            "type": "pie"
           }
          ],
          "scatter": [
           {
            "fillpattern": {
             "fillmode": "overlay",
             "size": 10,
             "solidity": 0.2
            },
            "type": "scatter"
           }
          ],
          "scatter3d": [
           {
            "line": {
             "colorbar": {
              "outlinewidth": 0,
              "ticks": ""
             }
            },
            "marker": {
             "colorbar": {
              "outlinewidth": 0,
              "ticks": ""
             }
            },
            "type": "scatter3d"
           }
          ],
          "scattercarpet": [
           {
            "marker": {
             "colorbar": {
              "outlinewidth": 0,
              "ticks": ""
             }
            },
            "type": "scattercarpet"
           }
          ],
          "scattergeo": [
           {
            "marker": {
             "colorbar": {
              "outlinewidth": 0,
              "ticks": ""
             }
            },
            "type": "scattergeo"
           }
          ],
          "scattergl": [
           {
            "marker": {
             "colorbar": {
              "outlinewidth": 0,
              "ticks": ""
             }
            },
            "type": "scattergl"
           }
          ],
          "scattermapbox": [
           {
            "marker": {
             "colorbar": {
              "outlinewidth": 0,
              "ticks": ""
             }
            },
            "type": "scattermapbox"
           }
          ],
          "scatterpolar": [
           {
            "marker": {
             "colorbar": {
              "outlinewidth": 0,
              "ticks": ""
             }
            },
            "type": "scatterpolar"
           }
          ],
          "scatterpolargl": [
           {
            "marker": {
             "colorbar": {
              "outlinewidth": 0,
              "ticks": ""
             }
            },
            "type": "scatterpolargl"
           }
          ],
          "scatterternary": [
           {
            "marker": {
             "colorbar": {
              "outlinewidth": 0,
              "ticks": ""
             }
            },
            "type": "scatterternary"
           }
          ],
          "surface": [
           {
            "colorbar": {
             "outlinewidth": 0,
             "ticks": ""
            },
            "colorscale": [
             [
              0,
              "#0d0887"
             ],
             [
              0.1111111111111111,
              "#46039f"
             ],
             [
              0.2222222222222222,
              "#7201a8"
             ],
             [
              0.3333333333333333,
              "#9c179e"
             ],
             [
              0.4444444444444444,
              "#bd3786"
             ],
             [
              0.5555555555555556,
              "#d8576b"
             ],
             [
              0.6666666666666666,
              "#ed7953"
             ],
             [
              0.7777777777777778,
              "#fb9f3a"
             ],
             [
              0.8888888888888888,
              "#fdca26"
             ],
             [
              1,
              "#f0f921"
             ]
            ],
            "type": "surface"
           }
          ],
          "table": [
           {
            "cells": {
             "fill": {
              "color": "#EBF0F8"
             },
             "line": {
              "color": "white"
             }
            },
            "header": {
             "fill": {
              "color": "#C8D4E3"
             },
             "line": {
              "color": "white"
             }
            },
            "type": "table"
           }
          ]
         },
         "layout": {
          "annotationdefaults": {
           "arrowcolor": "#2a3f5f",
           "arrowhead": 0,
           "arrowwidth": 1
          },
          "autotypenumbers": "strict",
          "coloraxis": {
           "colorbar": {
            "outlinewidth": 0,
            "ticks": ""
           }
          },
          "colorscale": {
           "diverging": [
            [
             0,
             "#8e0152"
            ],
            [
             0.1,
             "#c51b7d"
            ],
            [
             0.2,
             "#de77ae"
            ],
            [
             0.3,
             "#f1b6da"
            ],
            [
             0.4,
             "#fde0ef"
            ],
            [
             0.5,
             "#f7f7f7"
            ],
            [
             0.6,
             "#e6f5d0"
            ],
            [
             0.7,
             "#b8e186"
            ],
            [
             0.8,
             "#7fbc41"
            ],
            [
             0.9,
             "#4d9221"
            ],
            [
             1,
             "#276419"
            ]
           ],
           "sequential": [
            [
             0,
             "#0d0887"
            ],
            [
             0.1111111111111111,
             "#46039f"
            ],
            [
             0.2222222222222222,
             "#7201a8"
            ],
            [
             0.3333333333333333,
             "#9c179e"
            ],
            [
             0.4444444444444444,
             "#bd3786"
            ],
            [
             0.5555555555555556,
             "#d8576b"
            ],
            [
             0.6666666666666666,
             "#ed7953"
            ],
            [
             0.7777777777777778,
             "#fb9f3a"
            ],
            [
             0.8888888888888888,
             "#fdca26"
            ],
            [
             1,
             "#f0f921"
            ]
           ],
           "sequentialminus": [
            [
             0,
             "#0d0887"
            ],
            [
             0.1111111111111111,
             "#46039f"
            ],
            [
             0.2222222222222222,
             "#7201a8"
            ],
            [
             0.3333333333333333,
             "#9c179e"
            ],
            [
             0.4444444444444444,
             "#bd3786"
            ],
            [
             0.5555555555555556,
             "#d8576b"
            ],
            [
             0.6666666666666666,
             "#ed7953"
            ],
            [
             0.7777777777777778,
             "#fb9f3a"
            ],
            [
             0.8888888888888888,
             "#fdca26"
            ],
            [
             1,
             "#f0f921"
            ]
           ]
          },
          "colorway": [
           "#636efa",
           "#EF553B",
           "#00cc96",
           "#ab63fa",
           "#FFA15A",
           "#19d3f3",
           "#FF6692",
           "#B6E880",
           "#FF97FF",
           "#FECB52"
          ],
          "font": {
           "color": "#2a3f5f"
          },
          "geo": {
           "bgcolor": "white",
           "lakecolor": "white",
           "landcolor": "#E5ECF6",
           "showlakes": true,
           "showland": true,
           "subunitcolor": "white"
          },
          "hoverlabel": {
           "align": "left"
          },
          "hovermode": "closest",
          "mapbox": {
           "style": "light"
          },
          "paper_bgcolor": "white",
          "plot_bgcolor": "#E5ECF6",
          "polar": {
           "angularaxis": {
            "gridcolor": "white",
            "linecolor": "white",
            "ticks": ""
           },
           "bgcolor": "#E5ECF6",
           "radialaxis": {
            "gridcolor": "white",
            "linecolor": "white",
            "ticks": ""
           }
          },
          "scene": {
           "xaxis": {
            "backgroundcolor": "#E5ECF6",
            "gridcolor": "white",
            "gridwidth": 2,
            "linecolor": "white",
            "showbackground": true,
            "ticks": "",
            "zerolinecolor": "white"
           },
           "yaxis": {
            "backgroundcolor": "#E5ECF6",
            "gridcolor": "white",
            "gridwidth": 2,
            "linecolor": "white",
            "showbackground": true,
            "ticks": "",
            "zerolinecolor": "white"
           },
           "zaxis": {
            "backgroundcolor": "#E5ECF6",
            "gridcolor": "white",
            "gridwidth": 2,
            "linecolor": "white",
            "showbackground": true,
            "ticks": "",
            "zerolinecolor": "white"
           }
          },
          "shapedefaults": {
           "line": {
            "color": "#2a3f5f"
           }
          },
          "ternary": {
           "aaxis": {
            "gridcolor": "white",
            "linecolor": "white",
            "ticks": ""
           },
           "baxis": {
            "gridcolor": "white",
            "linecolor": "white",
            "ticks": ""
           },
           "bgcolor": "#E5ECF6",
           "caxis": {
            "gridcolor": "white",
            "linecolor": "white",
            "ticks": ""
           }
          },
          "title": {
           "x": 0.05
          },
          "xaxis": {
           "automargin": true,
           "gridcolor": "white",
           "linecolor": "white",
           "ticks": "",
           "title": {
            "standoff": 15
           },
           "zerolinecolor": "white",
           "zerolinewidth": 2
          },
          "yaxis": {
           "automargin": true,
           "gridcolor": "white",
           "linecolor": "white",
           "ticks": "",
           "title": {
            "standoff": 15
           },
           "zerolinecolor": "white",
           "zerolinewidth": 2
          }
         }
        },
        "xaxis": {
         "anchor": "y",
         "domain": [
          0,
          1
         ],
         "title": {
          "text": "ASSET"
         }
        },
        "yaxis": {
         "anchor": "x",
         "domain": [
          0,
          1
         ]
        }
       }
      }
     },
     "metadata": {},
     "output_type": "display_data"
    }
   ],
   "source": [
    "\n",
    "fig = px.box(data_frame=df, x='ASSET')\n",
    "fig.show()\n"
   ]
  },
  {
   "cell_type": "markdown",
   "id": "cff4a085",
   "metadata": {},
   "source": [
    "*REMOVING OF OUTLIERS*"
   ]
  },
  {
   "cell_type": "markdown",
   "id": "f7bb1df2",
   "metadata": {},
   "source": [
    "*WE CAN SEE CHANGES FROM THE PREVIOUS UNTRIMMED VARIANCE*"
   ]
  },
  {
   "cell_type": "code",
   "execution_count": 171,
   "id": "e8e2c203",
   "metadata": {},
   "outputs": [
    {
     "data": {
      "text/plain": [
       "KGTOTAL     2.790834e+09\n",
       "NH_MORT     3.142984e+09\n",
       "MRTHEL      3.160264e+09\n",
       "PLOAN1      3.396991e+09\n",
       "HOMEEQ      3.794077e+09\n",
       "DEBT        5.458475e+09\n",
       "NETWORTH    1.325999e+10\n",
       "HOUSES      1.687437e+10\n",
       "NFIN        2.574069e+10\n",
       "ASSET       3.504468e+10\n",
       "dtype: float64"
      ]
     },
     "execution_count": 171,
     "metadata": {},
     "output_type": "execute_result"
    }
   ],
   "source": [
    "top_10_trimmed_var = df.apply(trimmed_var).sort_values().tail(10)\n",
    "top_10_trimmed_var\n"
   ]
  },
  {
   "cell_type": "markdown",
   "id": "f43c01b6",
   "metadata": {},
   "source": [
    "*UNTRIMMED VARIANCE COLUMNS*"
   ]
  },
  {
   "cell_type": "code",
   "execution_count": 172,
   "id": "3b3f31e9",
   "metadata": {},
   "outputs": [
    {
     "data": {
      "text/plain": [
       "HOMEEQ      2.458776e+10\n",
       "DEBT        3.143920e+10\n",
       "NHNFIN      3.674843e+10\n",
       "HOUSES      5.423826e+10\n",
       "KGBUS       5.650619e+10\n",
       "FIN         5.820870e+10\n",
       "KGTOTAL     7.070918e+10\n",
       "NFIN        1.126769e+11\n",
       "NETWORTH    1.685950e+11\n",
       "ASSET       2.440804e+11\n",
       "dtype: float64"
      ]
     },
     "execution_count": 172,
     "metadata": {},
     "output_type": "execute_result"
    }
   ],
   "source": [
    "top_10_var = df.var().sort_values().tail(10)\n",
    "top_10_var\n"
   ]
  },
  {
   "cell_type": "markdown",
   "id": "da9d5ae4",
   "metadata": {},
   "source": [
    "*BAR CHART OF TRIMMED HIGH VARIANCE FEATURES*"
   ]
  },
  {
   "cell_type": "code",
   "execution_count": 261,
   "id": "23dac185",
   "metadata": {},
   "outputs": [
    {
     "data": {
      "application/vnd.plotly.v1+json": {
       "config": {
        "plotlyServerURL": "https://plot.ly"
       },
       "data": [
        {
         "alignmentgroup": "True",
         "hovertemplate": "x=%{x}<br>y=%{y}<extra></extra>",
         "legendgroup": "",
         "marker": {
          "color": "#636efa",
          "pattern": {
           "shape": ""
          }
         },
         "name": "",
         "offsetgroup": "",
         "orientation": "h",
         "showlegend": false,
         "textposition": "auto",
         "type": "bar",
         "x": [
          2790834225.3130016,
          3142983853.9604735,
          3160264108.670835,
          3396991327.6212025,
          3794077150.427833,
          5458474727.741602,
          13259988596.21786,
          16874368102.554438,
          25740686844.31064,
          35044680001.43526
         ],
         "xaxis": "x",
         "y": [
          "KGTOTAL",
          "NH_MORT",
          "MRTHEL",
          "PLOAN1",
          "HOMEEQ",
          "DEBT",
          "NETWORTH",
          "HOUSES",
          "NFIN",
          "ASSET"
         ],
         "yaxis": "y"
        }
       ],
       "layout": {
        "barmode": "relative",
        "legend": {
         "tracegroupgap": 0
        },
        "template": {
         "data": {
          "bar": [
           {
            "error_x": {
             "color": "#2a3f5f"
            },
            "error_y": {
             "color": "#2a3f5f"
            },
            "marker": {
             "line": {
              "color": "#E5ECF6",
              "width": 0.5
             },
             "pattern": {
              "fillmode": "overlay",
              "size": 10,
              "solidity": 0.2
             }
            },
            "type": "bar"
           }
          ],
          "barpolar": [
           {
            "marker": {
             "line": {
              "color": "#E5ECF6",
              "width": 0.5
             },
             "pattern": {
              "fillmode": "overlay",
              "size": 10,
              "solidity": 0.2
             }
            },
            "type": "barpolar"
           }
          ],
          "carpet": [
           {
            "aaxis": {
             "endlinecolor": "#2a3f5f",
             "gridcolor": "white",
             "linecolor": "white",
             "minorgridcolor": "white",
             "startlinecolor": "#2a3f5f"
            },
            "baxis": {
             "endlinecolor": "#2a3f5f",
             "gridcolor": "white",
             "linecolor": "white",
             "minorgridcolor": "white",
             "startlinecolor": "#2a3f5f"
            },
            "type": "carpet"
           }
          ],
          "choropleth": [
           {
            "colorbar": {
             "outlinewidth": 0,
             "ticks": ""
            },
            "type": "choropleth"
           }
          ],
          "contour": [
           {
            "colorbar": {
             "outlinewidth": 0,
             "ticks": ""
            },
            "colorscale": [
             [
              0,
              "#0d0887"
             ],
             [
              0.1111111111111111,
              "#46039f"
             ],
             [
              0.2222222222222222,
              "#7201a8"
             ],
             [
              0.3333333333333333,
              "#9c179e"
             ],
             [
              0.4444444444444444,
              "#bd3786"
             ],
             [
              0.5555555555555556,
              "#d8576b"
             ],
             [
              0.6666666666666666,
              "#ed7953"
             ],
             [
              0.7777777777777778,
              "#fb9f3a"
             ],
             [
              0.8888888888888888,
              "#fdca26"
             ],
             [
              1,
              "#f0f921"
             ]
            ],
            "type": "contour"
           }
          ],
          "contourcarpet": [
           {
            "colorbar": {
             "outlinewidth": 0,
             "ticks": ""
            },
            "type": "contourcarpet"
           }
          ],
          "heatmap": [
           {
            "colorbar": {
             "outlinewidth": 0,
             "ticks": ""
            },
            "colorscale": [
             [
              0,
              "#0d0887"
             ],
             [
              0.1111111111111111,
              "#46039f"
             ],
             [
              0.2222222222222222,
              "#7201a8"
             ],
             [
              0.3333333333333333,
              "#9c179e"
             ],
             [
              0.4444444444444444,
              "#bd3786"
             ],
             [
              0.5555555555555556,
              "#d8576b"
             ],
             [
              0.6666666666666666,
              "#ed7953"
             ],
             [
              0.7777777777777778,
              "#fb9f3a"
             ],
             [
              0.8888888888888888,
              "#fdca26"
             ],
             [
              1,
              "#f0f921"
             ]
            ],
            "type": "heatmap"
           }
          ],
          "heatmapgl": [
           {
            "colorbar": {
             "outlinewidth": 0,
             "ticks": ""
            },
            "colorscale": [
             [
              0,
              "#0d0887"
             ],
             [
              0.1111111111111111,
              "#46039f"
             ],
             [
              0.2222222222222222,
              "#7201a8"
             ],
             [
              0.3333333333333333,
              "#9c179e"
             ],
             [
              0.4444444444444444,
              "#bd3786"
             ],
             [
              0.5555555555555556,
              "#d8576b"
             ],
             [
              0.6666666666666666,
              "#ed7953"
             ],
             [
              0.7777777777777778,
              "#fb9f3a"
             ],
             [
              0.8888888888888888,
              "#fdca26"
             ],
             [
              1,
              "#f0f921"
             ]
            ],
            "type": "heatmapgl"
           }
          ],
          "histogram": [
           {
            "marker": {
             "pattern": {
              "fillmode": "overlay",
              "size": 10,
              "solidity": 0.2
             }
            },
            "type": "histogram"
           }
          ],
          "histogram2d": [
           {
            "colorbar": {
             "outlinewidth": 0,
             "ticks": ""
            },
            "colorscale": [
             [
              0,
              "#0d0887"
             ],
             [
              0.1111111111111111,
              "#46039f"
             ],
             [
              0.2222222222222222,
              "#7201a8"
             ],
             [
              0.3333333333333333,
              "#9c179e"
             ],
             [
              0.4444444444444444,
              "#bd3786"
             ],
             [
              0.5555555555555556,
              "#d8576b"
             ],
             [
              0.6666666666666666,
              "#ed7953"
             ],
             [
              0.7777777777777778,
              "#fb9f3a"
             ],
             [
              0.8888888888888888,
              "#fdca26"
             ],
             [
              1,
              "#f0f921"
             ]
            ],
            "type": "histogram2d"
           }
          ],
          "histogram2dcontour": [
           {
            "colorbar": {
             "outlinewidth": 0,
             "ticks": ""
            },
            "colorscale": [
             [
              0,
              "#0d0887"
             ],
             [
              0.1111111111111111,
              "#46039f"
             ],
             [
              0.2222222222222222,
              "#7201a8"
             ],
             [
              0.3333333333333333,
              "#9c179e"
             ],
             [
              0.4444444444444444,
              "#bd3786"
             ],
             [
              0.5555555555555556,
              "#d8576b"
             ],
             [
              0.6666666666666666,
              "#ed7953"
             ],
             [
              0.7777777777777778,
              "#fb9f3a"
             ],
             [
              0.8888888888888888,
              "#fdca26"
             ],
             [
              1,
              "#f0f921"
             ]
            ],
            "type": "histogram2dcontour"
           }
          ],
          "mesh3d": [
           {
            "colorbar": {
             "outlinewidth": 0,
             "ticks": ""
            },
            "type": "mesh3d"
           }
          ],
          "parcoords": [
           {
            "line": {
             "colorbar": {
              "outlinewidth": 0,
              "ticks": ""
             }
            },
            "type": "parcoords"
           }
          ],
          "pie": [
           {
            "automargin": true,
            "type": "pie"
           }
          ],
          "scatter": [
           {
            "fillpattern": {
             "fillmode": "overlay",
             "size": 10,
             "solidity": 0.2
            },
            "type": "scatter"
           }
          ],
          "scatter3d": [
           {
            "line": {
             "colorbar": {
              "outlinewidth": 0,
              "ticks": ""
             }
            },
            "marker": {
             "colorbar": {
              "outlinewidth": 0,
              "ticks": ""
             }
            },
            "type": "scatter3d"
           }
          ],
          "scattercarpet": [
           {
            "marker": {
             "colorbar": {
              "outlinewidth": 0,
              "ticks": ""
             }
            },
            "type": "scattercarpet"
           }
          ],
          "scattergeo": [
           {
            "marker": {
             "colorbar": {
              "outlinewidth": 0,
              "ticks": ""
             }
            },
            "type": "scattergeo"
           }
          ],
          "scattergl": [
           {
            "marker": {
             "colorbar": {
              "outlinewidth": 0,
              "ticks": ""
             }
            },
            "type": "scattergl"
           }
          ],
          "scattermapbox": [
           {
            "marker": {
             "colorbar": {
              "outlinewidth": 0,
              "ticks": ""
             }
            },
            "type": "scattermapbox"
           }
          ],
          "scatterpolar": [
           {
            "marker": {
             "colorbar": {
              "outlinewidth": 0,
              "ticks": ""
             }
            },
            "type": "scatterpolar"
           }
          ],
          "scatterpolargl": [
           {
            "marker": {
             "colorbar": {
              "outlinewidth": 0,
              "ticks": ""
             }
            },
            "type": "scatterpolargl"
           }
          ],
          "scatterternary": [
           {
            "marker": {
             "colorbar": {
              "outlinewidth": 0,
              "ticks": ""
             }
            },
            "type": "scatterternary"
           }
          ],
          "surface": [
           {
            "colorbar": {
             "outlinewidth": 0,
             "ticks": ""
            },
            "colorscale": [
             [
              0,
              "#0d0887"
             ],
             [
              0.1111111111111111,
              "#46039f"
             ],
             [
              0.2222222222222222,
              "#7201a8"
             ],
             [
              0.3333333333333333,
              "#9c179e"
             ],
             [
              0.4444444444444444,
              "#bd3786"
             ],
             [
              0.5555555555555556,
              "#d8576b"
             ],
             [
              0.6666666666666666,
              "#ed7953"
             ],
             [
              0.7777777777777778,
              "#fb9f3a"
             ],
             [
              0.8888888888888888,
              "#fdca26"
             ],
             [
              1,
              "#f0f921"
             ]
            ],
            "type": "surface"
           }
          ],
          "table": [
           {
            "cells": {
             "fill": {
              "color": "#EBF0F8"
             },
             "line": {
              "color": "white"
             }
            },
            "header": {
             "fill": {
              "color": "#C8D4E3"
             },
             "line": {
              "color": "white"
             }
            },
            "type": "table"
           }
          ]
         },
         "layout": {
          "annotationdefaults": {
           "arrowcolor": "#2a3f5f",
           "arrowhead": 0,
           "arrowwidth": 1
          },
          "autotypenumbers": "strict",
          "coloraxis": {
           "colorbar": {
            "outlinewidth": 0,
            "ticks": ""
           }
          },
          "colorscale": {
           "diverging": [
            [
             0,
             "#8e0152"
            ],
            [
             0.1,
             "#c51b7d"
            ],
            [
             0.2,
             "#de77ae"
            ],
            [
             0.3,
             "#f1b6da"
            ],
            [
             0.4,
             "#fde0ef"
            ],
            [
             0.5,
             "#f7f7f7"
            ],
            [
             0.6,
             "#e6f5d0"
            ],
            [
             0.7,
             "#b8e186"
            ],
            [
             0.8,
             "#7fbc41"
            ],
            [
             0.9,
             "#4d9221"
            ],
            [
             1,
             "#276419"
            ]
           ],
           "sequential": [
            [
             0,
             "#0d0887"
            ],
            [
             0.1111111111111111,
             "#46039f"
            ],
            [
             0.2222222222222222,
             "#7201a8"
            ],
            [
             0.3333333333333333,
             "#9c179e"
            ],
            [
             0.4444444444444444,
             "#bd3786"
            ],
            [
             0.5555555555555556,
             "#d8576b"
            ],
            [
             0.6666666666666666,
             "#ed7953"
            ],
            [
             0.7777777777777778,
             "#fb9f3a"
            ],
            [
             0.8888888888888888,
             "#fdca26"
            ],
            [
             1,
             "#f0f921"
            ]
           ],
           "sequentialminus": [
            [
             0,
             "#0d0887"
            ],
            [
             0.1111111111111111,
             "#46039f"
            ],
            [
             0.2222222222222222,
             "#7201a8"
            ],
            [
             0.3333333333333333,
             "#9c179e"
            ],
            [
             0.4444444444444444,
             "#bd3786"
            ],
            [
             0.5555555555555556,
             "#d8576b"
            ],
            [
             0.6666666666666666,
             "#ed7953"
            ],
            [
             0.7777777777777778,
             "#fb9f3a"
            ],
            [
             0.8888888888888888,
             "#fdca26"
            ],
            [
             1,
             "#f0f921"
            ]
           ]
          },
          "colorway": [
           "#636efa",
           "#EF553B",
           "#00cc96",
           "#ab63fa",
           "#FFA15A",
           "#19d3f3",
           "#FF6692",
           "#B6E880",
           "#FF97FF",
           "#FECB52"
          ],
          "font": {
           "color": "#2a3f5f"
          },
          "geo": {
           "bgcolor": "white",
           "lakecolor": "white",
           "landcolor": "#E5ECF6",
           "showlakes": true,
           "showland": true,
           "subunitcolor": "white"
          },
          "hoverlabel": {
           "align": "left"
          },
          "hovermode": "closest",
          "mapbox": {
           "style": "light"
          },
          "paper_bgcolor": "white",
          "plot_bgcolor": "#E5ECF6",
          "polar": {
           "angularaxis": {
            "gridcolor": "white",
            "linecolor": "white",
            "ticks": ""
           },
           "bgcolor": "#E5ECF6",
           "radialaxis": {
            "gridcolor": "white",
            "linecolor": "white",
            "ticks": ""
           }
          },
          "scene": {
           "xaxis": {
            "backgroundcolor": "#E5ECF6",
            "gridcolor": "white",
            "gridwidth": 2,
            "linecolor": "white",
            "showbackground": true,
            "ticks": "",
            "zerolinecolor": "white"
           },
           "yaxis": {
            "backgroundcolor": "#E5ECF6",
            "gridcolor": "white",
            "gridwidth": 2,
            "linecolor": "white",
            "showbackground": true,
            "ticks": "",
            "zerolinecolor": "white"
           },
           "zaxis": {
            "backgroundcolor": "#E5ECF6",
            "gridcolor": "white",
            "gridwidth": 2,
            "linecolor": "white",
            "showbackground": true,
            "ticks": "",
            "zerolinecolor": "white"
           }
          },
          "shapedefaults": {
           "line": {
            "color": "#2a3f5f"
           }
          },
          "ternary": {
           "aaxis": {
            "gridcolor": "white",
            "linecolor": "white",
            "ticks": ""
           },
           "baxis": {
            "gridcolor": "white",
            "linecolor": "white",
            "ticks": ""
           },
           "bgcolor": "#E5ECF6",
           "caxis": {
            "gridcolor": "white",
            "linecolor": "white",
            "ticks": ""
           }
          },
          "title": {
           "x": 0.05
          },
          "xaxis": {
           "automargin": true,
           "gridcolor": "white",
           "linecolor": "white",
           "ticks": "",
           "title": {
            "standoff": 15
           },
           "zerolinecolor": "white",
           "zerolinewidth": 2
          },
          "yaxis": {
           "automargin": true,
           "gridcolor": "white",
           "linecolor": "white",
           "ticks": "",
           "title": {
            "standoff": 15
           },
           "zerolinecolor": "white",
           "zerolinewidth": 2
          }
         }
        },
        "title": {
         "text": "SCF: Trimmed High Variance Features"
        },
        "xaxis": {
         "anchor": "y",
         "domain": [
          0,
          1
         ],
         "title": {
          "text": "Trimmed Variance"
         }
        },
        "yaxis": {
         "anchor": "x",
         "domain": [
          0,
          1
         ],
         "title": {
          "text": "Feature"
         }
        }
       }
      }
     },
     "metadata": {},
     "output_type": "display_data"
    }
   ],
   "source": [
    "fig = px.bar(x=top_10_trimmed_var, y=top_10_trimmed_var.index, title='SCF: Trimmed High Variance Features')\n",
    "fig.update_layout(xaxis_title='Trimmed Variance', yaxis_title='Feature')\n",
    "fig.show()\n"
   ]
  },
  {
   "cell_type": "markdown",
   "id": "884e0061",
   "metadata": {},
   "source": [
    "*GENERATING A LIST OF TOP 5 FEATURES*"
   ]
  },
  {
   "cell_type": "code",
   "execution_count": 176,
   "id": "d9cfc813",
   "metadata": {},
   "outputs": [
    {
     "name": "stdout",
     "output_type": "stream",
     "text": [
      "type of high var col: <class 'list'>\n"
     ]
    },
    {
     "data": {
      "text/plain": [
       "['DEBT', 'NETWORTH', 'HOUSES', 'NFIN', 'ASSET']"
      ]
     },
     "execution_count": 176,
     "metadata": {},
     "output_type": "execute_result"
    }
   ],
   "source": [
    "high_var_col = top_10_trimmed_var.sort_values().tail(5).index.to_list()\n",
    "print('type of high var col:', type(high_var_col))\n",
    "high_var_col\n"
   ]
  },
  {
   "cell_type": "markdown",
   "id": "20a0044e",
   "metadata": {},
   "source": [
    "*SPLITTING*"
   ]
  },
  {
   "cell_type": "code",
   "execution_count": 178,
   "id": "d91effed",
   "metadata": {},
   "outputs": [
    {
     "name": "stdout",
     "output_type": "stream",
     "text": [
      "<class 'pandas.core.frame.DataFrame'>\n",
      "the shape of x: (1931, 5)\n"
     ]
    },
    {
     "data": {
      "text/html": [
       "<div>\n",
       "<style scoped>\n",
       "    .dataframe tbody tr th:only-of-type {\n",
       "        vertical-align: middle;\n",
       "    }\n",
       "\n",
       "    .dataframe tbody tr th {\n",
       "        vertical-align: top;\n",
       "    }\n",
       "\n",
       "    .dataframe thead th {\n",
       "        text-align: right;\n",
       "    }\n",
       "</style>\n",
       "<table border=\"1\" class=\"dataframe\">\n",
       "  <thead>\n",
       "    <tr style=\"text-align: right;\">\n",
       "      <th></th>\n",
       "      <th>DEBT</th>\n",
       "      <th>NETWORTH</th>\n",
       "      <th>HOUSES</th>\n",
       "      <th>NFIN</th>\n",
       "      <th>ASSET</th>\n",
       "    </tr>\n",
       "  </thead>\n",
       "  <tbody>\n",
       "    <tr>\n",
       "      <th>20</th>\n",
       "      <td>11000</td>\n",
       "      <td>4100.0</td>\n",
       "      <td>0</td>\n",
       "      <td>14000.0</td>\n",
       "      <td>15100.0</td>\n",
       "    </tr>\n",
       "    <tr>\n",
       "      <th>21</th>\n",
       "      <td>10000</td>\n",
       "      <td>5500.0</td>\n",
       "      <td>0</td>\n",
       "      <td>14000.0</td>\n",
       "      <td>15500.0</td>\n",
       "    </tr>\n",
       "    <tr>\n",
       "      <th>22</th>\n",
       "      <td>10000</td>\n",
       "      <td>4500.0</td>\n",
       "      <td>0</td>\n",
       "      <td>13000.0</td>\n",
       "      <td>14500.0</td>\n",
       "    </tr>\n",
       "    <tr>\n",
       "      <th>23</th>\n",
       "      <td>10000</td>\n",
       "      <td>5600.0</td>\n",
       "      <td>0</td>\n",
       "      <td>14000.0</td>\n",
       "      <td>15600.0</td>\n",
       "    </tr>\n",
       "    <tr>\n",
       "      <th>24</th>\n",
       "      <td>11000</td>\n",
       "      <td>4500.0</td>\n",
       "      <td>0</td>\n",
       "      <td>14000.0</td>\n",
       "      <td>15500.0</td>\n",
       "    </tr>\n",
       "  </tbody>\n",
       "</table>\n",
       "</div>"
      ],
      "text/plain": [
       "     DEBT  NETWORTH  HOUSES     NFIN    ASSET\n",
       "20  11000    4100.0       0  14000.0  15100.0\n",
       "21  10000    5500.0       0  14000.0  15500.0\n",
       "22  10000    4500.0       0  13000.0  14500.0\n",
       "23  10000    5600.0       0  14000.0  15600.0\n",
       "24  11000    4500.0       0  14000.0  15500.0"
      ]
     },
     "execution_count": 178,
     "metadata": {},
     "output_type": "execute_result"
    }
   ],
   "source": [
    "X = df[high_var_col]\n",
    "print(type(X))\n",
    "print('the shape of x:', X.shape)\n",
    "X.head()\n"
   ]
  },
  {
   "cell_type": "markdown",
   "id": "b4c88dab",
   "metadata": {},
   "source": [
    "*BUILD MODEL*\n",
    "\n",
    "*SEEING THAT SOME VALUES ARE IN MILLIONS WHILENSOME ARE IN BILLIONS AND THOUSANDS I WILL USE STANDARDIZATION TO PUT THEM IN THE SAME SCALE*"
   ]
  },
  {
   "cell_type": "code",
   "execution_count": 179,
   "id": "a96a26f8",
   "metadata": {},
   "outputs": [
    {
     "data": {
      "text/html": [
       "<div>\n",
       "<style scoped>\n",
       "    .dataframe tbody tr th:only-of-type {\n",
       "        vertical-align: middle;\n",
       "    }\n",
       "\n",
       "    .dataframe tbody tr th {\n",
       "        vertical-align: top;\n",
       "    }\n",
       "\n",
       "    .dataframe thead th {\n",
       "        text-align: right;\n",
       "    }\n",
       "</style>\n",
       "<table border=\"1\" class=\"dataframe\">\n",
       "  <thead>\n",
       "    <tr style=\"text-align: right;\">\n",
       "      <th></th>\n",
       "      <th>DEBT</th>\n",
       "      <th>NETWORTH</th>\n",
       "      <th>HOUSES</th>\n",
       "      <th>NFIN</th>\n",
       "      <th>ASSET</th>\n",
       "    </tr>\n",
       "  </thead>\n",
       "  <tbody>\n",
       "    <tr>\n",
       "      <th>mean</th>\n",
       "      <td>104557</td>\n",
       "      <td>172180</td>\n",
       "      <td>133384</td>\n",
       "      <td>206109</td>\n",
       "      <td>276738</td>\n",
       "    </tr>\n",
       "    <tr>\n",
       "      <th>std</th>\n",
       "      <td>177311</td>\n",
       "      <td>410603</td>\n",
       "      <td>232891</td>\n",
       "      <td>335673</td>\n",
       "      <td>494044</td>\n",
       "    </tr>\n",
       "  </tbody>\n",
       "</table>\n",
       "</div>"
      ],
      "text/plain": [
       "        DEBT  NETWORTH  HOUSES    NFIN   ASSET\n",
       "mean  104557    172180  133384  206109  276738\n",
       "std   177311    410603  232891  335673  494044"
      ]
     },
     "execution_count": 179,
     "metadata": {},
     "output_type": "execute_result"
    }
   ],
   "source": [
    "X_summary = X.aggregate(['mean', 'std']).astype(int)\n",
    "X_summary\n"
   ]
  },
  {
   "cell_type": "markdown",
   "id": "1e49458a",
   "metadata": {},
   "source": [
    "*INSTANTIATING TRANSFORMER AND CONVERTING RESULT INTO DATAFRAME*"
   ]
  },
  {
   "cell_type": "code",
   "execution_count": 180,
   "id": "b45332ed",
   "metadata": {},
   "outputs": [
    {
     "name": "stdout",
     "output_type": "stream",
     "text": [
      "(1931, 5)\n"
     ]
    },
    {
     "data": {
      "text/html": [
       "<div>\n",
       "<style scoped>\n",
       "    .dataframe tbody tr th:only-of-type {\n",
       "        vertical-align: middle;\n",
       "    }\n",
       "\n",
       "    .dataframe tbody tr th {\n",
       "        vertical-align: top;\n",
       "    }\n",
       "\n",
       "    .dataframe thead th {\n",
       "        text-align: right;\n",
       "    }\n",
       "</style>\n",
       "<table border=\"1\" class=\"dataframe\">\n",
       "  <thead>\n",
       "    <tr style=\"text-align: right;\">\n",
       "      <th></th>\n",
       "      <th>DEBT</th>\n",
       "      <th>NETWORTH</th>\n",
       "      <th>HOUSES</th>\n",
       "      <th>NFIN</th>\n",
       "      <th>ASSET</th>\n",
       "    </tr>\n",
       "  </thead>\n",
       "  <tbody>\n",
       "    <tr>\n",
       "      <th>0</th>\n",
       "      <td>-0.527785</td>\n",
       "      <td>-0.409456</td>\n",
       "      <td>-0.572883</td>\n",
       "      <td>-0.572457</td>\n",
       "      <td>-0.529721</td>\n",
       "    </tr>\n",
       "    <tr>\n",
       "      <th>1</th>\n",
       "      <td>-0.533427</td>\n",
       "      <td>-0.406046</td>\n",
       "      <td>-0.572883</td>\n",
       "      <td>-0.572457</td>\n",
       "      <td>-0.528911</td>\n",
       "    </tr>\n",
       "    <tr>\n",
       "      <th>2</th>\n",
       "      <td>-0.533427</td>\n",
       "      <td>-0.408482</td>\n",
       "      <td>-0.572883</td>\n",
       "      <td>-0.575437</td>\n",
       "      <td>-0.530936</td>\n",
       "    </tr>\n",
       "    <tr>\n",
       "      <th>3</th>\n",
       "      <td>-0.533427</td>\n",
       "      <td>-0.405802</td>\n",
       "      <td>-0.572883</td>\n",
       "      <td>-0.572457</td>\n",
       "      <td>-0.528709</td>\n",
       "    </tr>\n",
       "    <tr>\n",
       "      <th>4</th>\n",
       "      <td>-0.527785</td>\n",
       "      <td>-0.408482</td>\n",
       "      <td>-0.572883</td>\n",
       "      <td>-0.572457</td>\n",
       "      <td>-0.528911</td>\n",
       "    </tr>\n",
       "  </tbody>\n",
       "</table>\n",
       "</div>"
      ],
      "text/plain": [
       "       DEBT  NETWORTH    HOUSES      NFIN     ASSET\n",
       "0 -0.527785 -0.409456 -0.572883 -0.572457 -0.529721\n",
       "1 -0.533427 -0.406046 -0.572883 -0.572457 -0.528911\n",
       "2 -0.533427 -0.408482 -0.572883 -0.575437 -0.530936\n",
       "3 -0.533427 -0.405802 -0.572883 -0.572457 -0.528709\n",
       "4 -0.527785 -0.408482 -0.572883 -0.572457 -0.528911"
      ]
     },
     "execution_count": 180,
     "metadata": {},
     "output_type": "execute_result"
    }
   ],
   "source": [
    "ss =StandardScaler()\n",
    "X_scaled = ss.fit_transform(X)\n",
    "X_scaled = pd.DataFrame(X_scaled, columns=X.columns)\n",
    "print(X_scaled.shape)\n",
    "X_scaled.head()\n"
   ]
  },
  {
   "cell_type": "markdown",
   "id": "eb2c2399",
   "metadata": {},
   "source": [
    "*RECHECKING THE AGGREGATE*"
   ]
  },
  {
   "cell_type": "code",
   "execution_count": 181,
   "id": "42098910",
   "metadata": {},
   "outputs": [
    {
     "data": {
      "text/html": [
       "<div>\n",
       "<style scoped>\n",
       "    .dataframe tbody tr th:only-of-type {\n",
       "        vertical-align: middle;\n",
       "    }\n",
       "\n",
       "    .dataframe tbody tr th {\n",
       "        vertical-align: top;\n",
       "    }\n",
       "\n",
       "    .dataframe thead th {\n",
       "        text-align: right;\n",
       "    }\n",
       "</style>\n",
       "<table border=\"1\" class=\"dataframe\">\n",
       "  <thead>\n",
       "    <tr style=\"text-align: right;\">\n",
       "      <th></th>\n",
       "      <th>DEBT</th>\n",
       "      <th>NETWORTH</th>\n",
       "      <th>HOUSES</th>\n",
       "      <th>NFIN</th>\n",
       "      <th>ASSET</th>\n",
       "    </tr>\n",
       "  </thead>\n",
       "  <tbody>\n",
       "    <tr>\n",
       "      <th>mean</th>\n",
       "      <td>0</td>\n",
       "      <td>0</td>\n",
       "      <td>0</td>\n",
       "      <td>0</td>\n",
       "      <td>0</td>\n",
       "    </tr>\n",
       "    <tr>\n",
       "      <th>std</th>\n",
       "      <td>1</td>\n",
       "      <td>1</td>\n",
       "      <td>1</td>\n",
       "      <td>1</td>\n",
       "      <td>1</td>\n",
       "    </tr>\n",
       "  </tbody>\n",
       "</table>\n",
       "</div>"
      ],
      "text/plain": [
       "      DEBT  NETWORTH  HOUSES  NFIN  ASSET\n",
       "mean     0         0       0     0      0\n",
       "std      1         1       1     1      1"
      ]
     },
     "execution_count": 181,
     "metadata": {},
     "output_type": "execute_result"
    }
   ],
   "source": [
    "X_scaled_summary = X_scaled.aggregate(['mean', 'std']).astype(int)\n",
    "X_scaled_summary\n"
   ]
  },
  {
   "cell_type": "markdown",
   "id": "e7c3d46d",
   "metadata": {},
   "source": [
    "*KMEANS MODEL*"
   ]
  },
  {
   "cell_type": "code",
   "execution_count": 192,
   "id": "1b61b4a2",
   "metadata": {},
   "outputs": [
    {
     "name": "stdout",
     "output_type": "stream",
     "text": [
      "inertia_errors type: <class 'list'>\n",
      "inertia_errors len: 11\n",
      "Inertia: [4638.302717118101, 2938.5938328417174, 2437.277407230332]\n",
      "\n",
      "silhouette_scores type: <class 'list'>\n",
      "silhouette_scores len: 11\n",
      "Silhouette Scores: [0.7062737464356172, 0.6599912058961659, 0.6066105763426731, 0.6041047901929042, 0.6045969840362775, 0.6093973839719949, 0.5903472518896954, 0.5911675499448098, 0.5947181267889399, 0.5983764851209725, 0.5928255863015908]\n"
     ]
    }
   ],
   "source": [
    "n_cluster = range(2, 13)\n",
    "inertia_errors = []\n",
    "silhouette_scores = []\n",
    "for k in n_cluster:\n",
    "    model=make_pipeline(\n",
    "        StandardScaler(),\n",
    "        KMeans(n_clusters=k, random_state=42))\n",
    "    model.fit(X)        #fit the model\n",
    "    inertia_errors.append(model.named_steps['kmeans'].inertia_)    # calculate inertai score\n",
    "    silhouette_scores.append(ss(X, model.named_steps['kmeans'].labels_) )  # calculate silhouette score\n",
    "\n",
    "print(\"inertia_errors type:\", type(inertia_errors))\n",
    "print(\"inertia_errors len:\", len(inertia_errors))\n",
    "print(\"Inertia:\", inertia_errors[:3])\n",
    "print()\n",
    "print(\"silhouette_scores type:\", type(silhouette_scores))\n",
    "print(\"silhouette_scores len:\", len(silhouette_scores))\n",
    "print(\"Silhouette Scores:\", silhouette_scores)\n"
   ]
  },
  {
   "cell_type": "markdown",
   "id": "a6681be3",
   "metadata": {},
   "source": [
    "*PLOT INERTIA VS CLUSTERS*"
   ]
  },
  {
   "cell_type": "code",
   "execution_count": 236,
   "id": "51eabce9",
   "metadata": {},
   "outputs": [
    {
     "data": {
      "application/vnd.plotly.v1+json": {
       "config": {
        "plotlyServerURL": "https://plot.ly"
       },
       "data": [
        {
         "hovertemplate": "x=%{x}<br>y=%{y}<extra></extra>",
         "legendgroup": "",
         "line": {
          "color": "#636efa",
          "dash": "solid"
         },
         "marker": {
          "symbol": "circle"
         },
         "mode": "lines",
         "name": "",
         "orientation": "v",
         "showlegend": false,
         "type": "scatter",
         "x": [
          2,
          3,
          4,
          5,
          6,
          7,
          8,
          9,
          10,
          11,
          12
         ],
         "xaxis": "x",
         "y": [
          4638.302717118101,
          2938.5938328417174,
          2437.277407230332,
          2007.6622553772909,
          1881.1197460569663,
          1564.7770771216965,
          1363.042214671447,
          1299.3170710196596,
          1201.806048313881,
          1107.7165461090465,
          1009.0600322107257
         ],
         "yaxis": "y"
        }
       ],
       "layout": {
        "legend": {
         "tracegroupgap": 0
        },
        "template": {
         "data": {
          "bar": [
           {
            "error_x": {
             "color": "#2a3f5f"
            },
            "error_y": {
             "color": "#2a3f5f"
            },
            "marker": {
             "line": {
              "color": "#E5ECF6",
              "width": 0.5
             },
             "pattern": {
              "fillmode": "overlay",
              "size": 10,
              "solidity": 0.2
             }
            },
            "type": "bar"
           }
          ],
          "barpolar": [
           {
            "marker": {
             "line": {
              "color": "#E5ECF6",
              "width": 0.5
             },
             "pattern": {
              "fillmode": "overlay",
              "size": 10,
              "solidity": 0.2
             }
            },
            "type": "barpolar"
           }
          ],
          "carpet": [
           {
            "aaxis": {
             "endlinecolor": "#2a3f5f",
             "gridcolor": "white",
             "linecolor": "white",
             "minorgridcolor": "white",
             "startlinecolor": "#2a3f5f"
            },
            "baxis": {
             "endlinecolor": "#2a3f5f",
             "gridcolor": "white",
             "linecolor": "white",
             "minorgridcolor": "white",
             "startlinecolor": "#2a3f5f"
            },
            "type": "carpet"
           }
          ],
          "choropleth": [
           {
            "colorbar": {
             "outlinewidth": 0,
             "ticks": ""
            },
            "type": "choropleth"
           }
          ],
          "contour": [
           {
            "colorbar": {
             "outlinewidth": 0,
             "ticks": ""
            },
            "colorscale": [
             [
              0,
              "#0d0887"
             ],
             [
              0.1111111111111111,
              "#46039f"
             ],
             [
              0.2222222222222222,
              "#7201a8"
             ],
             [
              0.3333333333333333,
              "#9c179e"
             ],
             [
              0.4444444444444444,
              "#bd3786"
             ],
             [
              0.5555555555555556,
              "#d8576b"
             ],
             [
              0.6666666666666666,
              "#ed7953"
             ],
             [
              0.7777777777777778,
              "#fb9f3a"
             ],
             [
              0.8888888888888888,
              "#fdca26"
             ],
             [
              1,
              "#f0f921"
             ]
            ],
            "type": "contour"
           }
          ],
          "contourcarpet": [
           {
            "colorbar": {
             "outlinewidth": 0,
             "ticks": ""
            },
            "type": "contourcarpet"
           }
          ],
          "heatmap": [
           {
            "colorbar": {
             "outlinewidth": 0,
             "ticks": ""
            },
            "colorscale": [
             [
              0,
              "#0d0887"
             ],
             [
              0.1111111111111111,
              "#46039f"
             ],
             [
              0.2222222222222222,
              "#7201a8"
             ],
             [
              0.3333333333333333,
              "#9c179e"
             ],
             [
              0.4444444444444444,
              "#bd3786"
             ],
             [
              0.5555555555555556,
              "#d8576b"
             ],
             [
              0.6666666666666666,
              "#ed7953"
             ],
             [
              0.7777777777777778,
              "#fb9f3a"
             ],
             [
              0.8888888888888888,
              "#fdca26"
             ],
             [
              1,
              "#f0f921"
             ]
            ],
            "type": "heatmap"
           }
          ],
          "heatmapgl": [
           {
            "colorbar": {
             "outlinewidth": 0,
             "ticks": ""
            },
            "colorscale": [
             [
              0,
              "#0d0887"
             ],
             [
              0.1111111111111111,
              "#46039f"
             ],
             [
              0.2222222222222222,
              "#7201a8"
             ],
             [
              0.3333333333333333,
              "#9c179e"
             ],
             [
              0.4444444444444444,
              "#bd3786"
             ],
             [
              0.5555555555555556,
              "#d8576b"
             ],
             [
              0.6666666666666666,
              "#ed7953"
             ],
             [
              0.7777777777777778,
              "#fb9f3a"
             ],
             [
              0.8888888888888888,
              "#fdca26"
             ],
             [
              1,
              "#f0f921"
             ]
            ],
            "type": "heatmapgl"
           }
          ],
          "histogram": [
           {
            "marker": {
             "pattern": {
              "fillmode": "overlay",
              "size": 10,
              "solidity": 0.2
             }
            },
            "type": "histogram"
           }
          ],
          "histogram2d": [
           {
            "colorbar": {
             "outlinewidth": 0,
             "ticks": ""
            },
            "colorscale": [
             [
              0,
              "#0d0887"
             ],
             [
              0.1111111111111111,
              "#46039f"
             ],
             [
              0.2222222222222222,
              "#7201a8"
             ],
             [
              0.3333333333333333,
              "#9c179e"
             ],
             [
              0.4444444444444444,
              "#bd3786"
             ],
             [
              0.5555555555555556,
              "#d8576b"
             ],
             [
              0.6666666666666666,
              "#ed7953"
             ],
             [
              0.7777777777777778,
              "#fb9f3a"
             ],
             [
              0.8888888888888888,
              "#fdca26"
             ],
             [
              1,
              "#f0f921"
             ]
            ],
            "type": "histogram2d"
           }
          ],
          "histogram2dcontour": [
           {
            "colorbar": {
             "outlinewidth": 0,
             "ticks": ""
            },
            "colorscale": [
             [
              0,
              "#0d0887"
             ],
             [
              0.1111111111111111,
              "#46039f"
             ],
             [
              0.2222222222222222,
              "#7201a8"
             ],
             [
              0.3333333333333333,
              "#9c179e"
             ],
             [
              0.4444444444444444,
              "#bd3786"
             ],
             [
              0.5555555555555556,
              "#d8576b"
             ],
             [
              0.6666666666666666,
              "#ed7953"
             ],
             [
              0.7777777777777778,
              "#fb9f3a"
             ],
             [
              0.8888888888888888,
              "#fdca26"
             ],
             [
              1,
              "#f0f921"
             ]
            ],
            "type": "histogram2dcontour"
           }
          ],
          "mesh3d": [
           {
            "colorbar": {
             "outlinewidth": 0,
             "ticks": ""
            },
            "type": "mesh3d"
           }
          ],
          "parcoords": [
           {
            "line": {
             "colorbar": {
              "outlinewidth": 0,
              "ticks": ""
             }
            },
            "type": "parcoords"
           }
          ],
          "pie": [
           {
            "automargin": true,
            "type": "pie"
           }
          ],
          "scatter": [
           {
            "fillpattern": {
             "fillmode": "overlay",
             "size": 10,
             "solidity": 0.2
            },
            "type": "scatter"
           }
          ],
          "scatter3d": [
           {
            "line": {
             "colorbar": {
              "outlinewidth": 0,
              "ticks": ""
             }
            },
            "marker": {
             "colorbar": {
              "outlinewidth": 0,
              "ticks": ""
             }
            },
            "type": "scatter3d"
           }
          ],
          "scattercarpet": [
           {
            "marker": {
             "colorbar": {
              "outlinewidth": 0,
              "ticks": ""
             }
            },
            "type": "scattercarpet"
           }
          ],
          "scattergeo": [
           {
            "marker": {
             "colorbar": {
              "outlinewidth": 0,
              "ticks": ""
             }
            },
            "type": "scattergeo"
           }
          ],
          "scattergl": [
           {
            "marker": {
             "colorbar": {
              "outlinewidth": 0,
              "ticks": ""
             }
            },
            "type": "scattergl"
           }
          ],
          "scattermapbox": [
           {
            "marker": {
             "colorbar": {
              "outlinewidth": 0,
              "ticks": ""
             }
            },
            "type": "scattermapbox"
           }
          ],
          "scatterpolar": [
           {
            "marker": {
             "colorbar": {
              "outlinewidth": 0,
              "ticks": ""
             }
            },
            "type": "scatterpolar"
           }
          ],
          "scatterpolargl": [
           {
            "marker": {
             "colorbar": {
              "outlinewidth": 0,
              "ticks": ""
             }
            },
            "type": "scatterpolargl"
           }
          ],
          "scatterternary": [
           {
            "marker": {
             "colorbar": {
              "outlinewidth": 0,
              "ticks": ""
             }
            },
            "type": "scatterternary"
           }
          ],
          "surface": [
           {
            "colorbar": {
             "outlinewidth": 0,
             "ticks": ""
            },
            "colorscale": [
             [
              0,
              "#0d0887"
             ],
             [
              0.1111111111111111,
              "#46039f"
             ],
             [
              0.2222222222222222,
              "#7201a8"
             ],
             [
              0.3333333333333333,
              "#9c179e"
             ],
             [
              0.4444444444444444,
              "#bd3786"
             ],
             [
              0.5555555555555556,
              "#d8576b"
             ],
             [
              0.6666666666666666,
              "#ed7953"
             ],
             [
              0.7777777777777778,
              "#fb9f3a"
             ],
             [
              0.8888888888888888,
              "#fdca26"
             ],
             [
              1,
              "#f0f921"
             ]
            ],
            "type": "surface"
           }
          ],
          "table": [
           {
            "cells": {
             "fill": {
              "color": "#EBF0F8"
             },
             "line": {
              "color": "white"
             }
            },
            "header": {
             "fill": {
              "color": "#C8D4E3"
             },
             "line": {
              "color": "white"
             }
            },
            "type": "table"
           }
          ]
         },
         "layout": {
          "annotationdefaults": {
           "arrowcolor": "#2a3f5f",
           "arrowhead": 0,
           "arrowwidth": 1
          },
          "autotypenumbers": "strict",
          "coloraxis": {
           "colorbar": {
            "outlinewidth": 0,
            "ticks": ""
           }
          },
          "colorscale": {
           "diverging": [
            [
             0,
             "#8e0152"
            ],
            [
             0.1,
             "#c51b7d"
            ],
            [
             0.2,
             "#de77ae"
            ],
            [
             0.3,
             "#f1b6da"
            ],
            [
             0.4,
             "#fde0ef"
            ],
            [
             0.5,
             "#f7f7f7"
            ],
            [
             0.6,
             "#e6f5d0"
            ],
            [
             0.7,
             "#b8e186"
            ],
            [
             0.8,
             "#7fbc41"
            ],
            [
             0.9,
             "#4d9221"
            ],
            [
             1,
             "#276419"
            ]
           ],
           "sequential": [
            [
             0,
             "#0d0887"
            ],
            [
             0.1111111111111111,
             "#46039f"
            ],
            [
             0.2222222222222222,
             "#7201a8"
            ],
            [
             0.3333333333333333,
             "#9c179e"
            ],
            [
             0.4444444444444444,
             "#bd3786"
            ],
            [
             0.5555555555555556,
             "#d8576b"
            ],
            [
             0.6666666666666666,
             "#ed7953"
            ],
            [
             0.7777777777777778,
             "#fb9f3a"
            ],
            [
             0.8888888888888888,
             "#fdca26"
            ],
            [
             1,
             "#f0f921"
            ]
           ],
           "sequentialminus": [
            [
             0,
             "#0d0887"
            ],
            [
             0.1111111111111111,
             "#46039f"
            ],
            [
             0.2222222222222222,
             "#7201a8"
            ],
            [
             0.3333333333333333,
             "#9c179e"
            ],
            [
             0.4444444444444444,
             "#bd3786"
            ],
            [
             0.5555555555555556,
             "#d8576b"
            ],
            [
             0.6666666666666666,
             "#ed7953"
            ],
            [
             0.7777777777777778,
             "#fb9f3a"
            ],
            [
             0.8888888888888888,
             "#fdca26"
            ],
            [
             1,
             "#f0f921"
            ]
           ]
          },
          "colorway": [
           "#636efa",
           "#EF553B",
           "#00cc96",
           "#ab63fa",
           "#FFA15A",
           "#19d3f3",
           "#FF6692",
           "#B6E880",
           "#FF97FF",
           "#FECB52"
          ],
          "font": {
           "color": "#2a3f5f"
          },
          "geo": {
           "bgcolor": "white",
           "lakecolor": "white",
           "landcolor": "#E5ECF6",
           "showlakes": true,
           "showland": true,
           "subunitcolor": "white"
          },
          "hoverlabel": {
           "align": "left"
          },
          "hovermode": "closest",
          "mapbox": {
           "style": "light"
          },
          "paper_bgcolor": "white",
          "plot_bgcolor": "#E5ECF6",
          "polar": {
           "angularaxis": {
            "gridcolor": "white",
            "linecolor": "white",
            "ticks": ""
           },
           "bgcolor": "#E5ECF6",
           "radialaxis": {
            "gridcolor": "white",
            "linecolor": "white",
            "ticks": ""
           }
          },
          "scene": {
           "xaxis": {
            "backgroundcolor": "#E5ECF6",
            "gridcolor": "white",
            "gridwidth": 2,
            "linecolor": "white",
            "showbackground": true,
            "ticks": "",
            "zerolinecolor": "white"
           },
           "yaxis": {
            "backgroundcolor": "#E5ECF6",
            "gridcolor": "white",
            "gridwidth": 2,
            "linecolor": "white",
            "showbackground": true,
            "ticks": "",
            "zerolinecolor": "white"
           },
           "zaxis": {
            "backgroundcolor": "#E5ECF6",
            "gridcolor": "white",
            "gridwidth": 2,
            "linecolor": "white",
            "showbackground": true,
            "ticks": "",
            "zerolinecolor": "white"
           }
          },
          "shapedefaults": {
           "line": {
            "color": "#2a3f5f"
           }
          },
          "ternary": {
           "aaxis": {
            "gridcolor": "white",
            "linecolor": "white",
            "ticks": ""
           },
           "baxis": {
            "gridcolor": "white",
            "linecolor": "white",
            "ticks": ""
           },
           "bgcolor": "#E5ECF6",
           "caxis": {
            "gridcolor": "white",
            "linecolor": "white",
            "ticks": ""
           }
          },
          "title": {
           "x": 0.05
          },
          "xaxis": {
           "automargin": true,
           "gridcolor": "white",
           "linecolor": "white",
           "ticks": "",
           "title": {
            "standoff": 15
           },
           "zerolinecolor": "white",
           "zerolinewidth": 2
          },
          "yaxis": {
           "automargin": true,
           "gridcolor": "white",
           "linecolor": "white",
           "ticks": "",
           "title": {
            "standoff": 15
           },
           "zerolinecolor": "white",
           "zerolinewidth": 2
          }
         }
        },
        "title": {
         "text": "Inertia Errors"
        },
        "xaxis": {
         "anchor": "y",
         "domain": [
          0,
          1
         ],
         "title": {
          "text": "Number of Clusters"
         }
        },
        "yaxis": {
         "anchor": "x",
         "domain": [
          0,
          1
         ],
         "title": {
          "text": "Inertia Errors"
         }
        }
       }
      }
     },
     "metadata": {},
     "output_type": "display_data"
    }
   ],
   "source": [
    "fig = px.line(x=n_cluster, y=inertia_errors, title='Inertia Errors')\n",
    "fig.update_layout(xaxis_title='Number of Clusters', yaxis_title='Inertia Errors')\n",
    "fig.show()\n"
   ]
  },
  {
   "cell_type": "markdown",
   "id": "a06048fa",
   "metadata": {},
   "source": [
    "*PLOT SILHOUETTE SCORE VS CLUSTERS*\n",
    "\n",
    "*I CHOSE THE NUMBER OF CLUSTERS FROM THE SILHOUETTE SCORE BECAUSE 3 IS THE CLOSEST CLUSTER TO 1*"
   ]
  },
  {
   "cell_type": "code",
   "execution_count": 235,
   "id": "ff9d858d",
   "metadata": {},
   "outputs": [
    {
     "data": {
      "application/vnd.plotly.v1+json": {
       "config": {
        "plotlyServerURL": "https://plot.ly"
       },
       "data": [
        {
         "hovertemplate": "x=%{x}<br>y=%{y}<extra></extra>",
         "legendgroup": "",
         "line": {
          "color": "#636efa",
          "dash": "solid"
         },
         "marker": {
          "symbol": "circle"
         },
         "mode": "lines",
         "name": "",
         "orientation": "v",
         "showlegend": false,
         "type": "scatter",
         "x": [
          2,
          3,
          4,
          5,
          6,
          7,
          8,
          9,
          10,
          11,
          12
         ],
         "xaxis": "x",
         "y": [
          0.7062737464356172,
          0.6599912058961659,
          0.6066105763426731,
          0.6041047901929042,
          0.6045969840362775,
          0.6093973839719949,
          0.5903472518896954,
          0.5911675499448098,
          0.5947181267889399,
          0.5983764851209725,
          0.5928255863015908
         ],
         "yaxis": "y"
        }
       ],
       "layout": {
        "legend": {
         "tracegroupgap": 0
        },
        "template": {
         "data": {
          "bar": [
           {
            "error_x": {
             "color": "#2a3f5f"
            },
            "error_y": {
             "color": "#2a3f5f"
            },
            "marker": {
             "line": {
              "color": "#E5ECF6",
              "width": 0.5
             },
             "pattern": {
              "fillmode": "overlay",
              "size": 10,
              "solidity": 0.2
             }
            },
            "type": "bar"
           }
          ],
          "barpolar": [
           {
            "marker": {
             "line": {
              "color": "#E5ECF6",
              "width": 0.5
             },
             "pattern": {
              "fillmode": "overlay",
              "size": 10,
              "solidity": 0.2
             }
            },
            "type": "barpolar"
           }
          ],
          "carpet": [
           {
            "aaxis": {
             "endlinecolor": "#2a3f5f",
             "gridcolor": "white",
             "linecolor": "white",
             "minorgridcolor": "white",
             "startlinecolor": "#2a3f5f"
            },
            "baxis": {
             "endlinecolor": "#2a3f5f",
             "gridcolor": "white",
             "linecolor": "white",
             "minorgridcolor": "white",
             "startlinecolor": "#2a3f5f"
            },
            "type": "carpet"
           }
          ],
          "choropleth": [
           {
            "colorbar": {
             "outlinewidth": 0,
             "ticks": ""
            },
            "type": "choropleth"
           }
          ],
          "contour": [
           {
            "colorbar": {
             "outlinewidth": 0,
             "ticks": ""
            },
            "colorscale": [
             [
              0,
              "#0d0887"
             ],
             [
              0.1111111111111111,
              "#46039f"
             ],
             [
              0.2222222222222222,
              "#7201a8"
             ],
             [
              0.3333333333333333,
              "#9c179e"
             ],
             [
              0.4444444444444444,
              "#bd3786"
             ],
             [
              0.5555555555555556,
              "#d8576b"
             ],
             [
              0.6666666666666666,
              "#ed7953"
             ],
             [
              0.7777777777777778,
              "#fb9f3a"
             ],
             [
              0.8888888888888888,
              "#fdca26"
             ],
             [
              1,
              "#f0f921"
             ]
            ],
            "type": "contour"
           }
          ],
          "contourcarpet": [
           {
            "colorbar": {
             "outlinewidth": 0,
             "ticks": ""
            },
            "type": "contourcarpet"
           }
          ],
          "heatmap": [
           {
            "colorbar": {
             "outlinewidth": 0,
             "ticks": ""
            },
            "colorscale": [
             [
              0,
              "#0d0887"
             ],
             [
              0.1111111111111111,
              "#46039f"
             ],
             [
              0.2222222222222222,
              "#7201a8"
             ],
             [
              0.3333333333333333,
              "#9c179e"
             ],
             [
              0.4444444444444444,
              "#bd3786"
             ],
             [
              0.5555555555555556,
              "#d8576b"
             ],
             [
              0.6666666666666666,
              "#ed7953"
             ],
             [
              0.7777777777777778,
              "#fb9f3a"
             ],
             [
              0.8888888888888888,
              "#fdca26"
             ],
             [
              1,
              "#f0f921"
             ]
            ],
            "type": "heatmap"
           }
          ],
          "heatmapgl": [
           {
            "colorbar": {
             "outlinewidth": 0,
             "ticks": ""
            },
            "colorscale": [
             [
              0,
              "#0d0887"
             ],
             [
              0.1111111111111111,
              "#46039f"
             ],
             [
              0.2222222222222222,
              "#7201a8"
             ],
             [
              0.3333333333333333,
              "#9c179e"
             ],
             [
              0.4444444444444444,
              "#bd3786"
             ],
             [
              0.5555555555555556,
              "#d8576b"
             ],
             [
              0.6666666666666666,
              "#ed7953"
             ],
             [
              0.7777777777777778,
              "#fb9f3a"
             ],
             [
              0.8888888888888888,
              "#fdca26"
             ],
             [
              1,
              "#f0f921"
             ]
            ],
            "type": "heatmapgl"
           }
          ],
          "histogram": [
           {
            "marker": {
             "pattern": {
              "fillmode": "overlay",
              "size": 10,
              "solidity": 0.2
             }
            },
            "type": "histogram"
           }
          ],
          "histogram2d": [
           {
            "colorbar": {
             "outlinewidth": 0,
             "ticks": ""
            },
            "colorscale": [
             [
              0,
              "#0d0887"
             ],
             [
              0.1111111111111111,
              "#46039f"
             ],
             [
              0.2222222222222222,
              "#7201a8"
             ],
             [
              0.3333333333333333,
              "#9c179e"
             ],
             [
              0.4444444444444444,
              "#bd3786"
             ],
             [
              0.5555555555555556,
              "#d8576b"
             ],
             [
              0.6666666666666666,
              "#ed7953"
             ],
             [
              0.7777777777777778,
              "#fb9f3a"
             ],
             [
              0.8888888888888888,
              "#fdca26"
             ],
             [
              1,
              "#f0f921"
             ]
            ],
            "type": "histogram2d"
           }
          ],
          "histogram2dcontour": [
           {
            "colorbar": {
             "outlinewidth": 0,
             "ticks": ""
            },
            "colorscale": [
             [
              0,
              "#0d0887"
             ],
             [
              0.1111111111111111,
              "#46039f"
             ],
             [
              0.2222222222222222,
              "#7201a8"
             ],
             [
              0.3333333333333333,
              "#9c179e"
             ],
             [
              0.4444444444444444,
              "#bd3786"
             ],
             [
              0.5555555555555556,
              "#d8576b"
             ],
             [
              0.6666666666666666,
              "#ed7953"
             ],
             [
              0.7777777777777778,
              "#fb9f3a"
             ],
             [
              0.8888888888888888,
              "#fdca26"
             ],
             [
              1,
              "#f0f921"
             ]
            ],
            "type": "histogram2dcontour"
           }
          ],
          "mesh3d": [
           {
            "colorbar": {
             "outlinewidth": 0,
             "ticks": ""
            },
            "type": "mesh3d"
           }
          ],
          "parcoords": [
           {
            "line": {
             "colorbar": {
              "outlinewidth": 0,
              "ticks": ""
             }
            },
            "type": "parcoords"
           }
          ],
          "pie": [
           {
            "automargin": true,
            "type": "pie"
           }
          ],
          "scatter": [
           {
            "fillpattern": {
             "fillmode": "overlay",
             "size": 10,
             "solidity": 0.2
            },
            "type": "scatter"
           }
          ],
          "scatter3d": [
           {
            "line": {
             "colorbar": {
              "outlinewidth": 0,
              "ticks": ""
             }
            },
            "marker": {
             "colorbar": {
              "outlinewidth": 0,
              "ticks": ""
             }
            },
            "type": "scatter3d"
           }
          ],
          "scattercarpet": [
           {
            "marker": {
             "colorbar": {
              "outlinewidth": 0,
              "ticks": ""
             }
            },
            "type": "scattercarpet"
           }
          ],
          "scattergeo": [
           {
            "marker": {
             "colorbar": {
              "outlinewidth": 0,
              "ticks": ""
             }
            },
            "type": "scattergeo"
           }
          ],
          "scattergl": [
           {
            "marker": {
             "colorbar": {
              "outlinewidth": 0,
              "ticks": ""
             }
            },
            "type": "scattergl"
           }
          ],
          "scattermapbox": [
           {
            "marker": {
             "colorbar": {
              "outlinewidth": 0,
              "ticks": ""
             }
            },
            "type": "scattermapbox"
           }
          ],
          "scatterpolar": [
           {
            "marker": {
             "colorbar": {
              "outlinewidth": 0,
              "ticks": ""
             }
            },
            "type": "scatterpolar"
           }
          ],
          "scatterpolargl": [
           {
            "marker": {
             "colorbar": {
              "outlinewidth": 0,
              "ticks": ""
             }
            },
            "type": "scatterpolargl"
           }
          ],
          "scatterternary": [
           {
            "marker": {
             "colorbar": {
              "outlinewidth": 0,
              "ticks": ""
             }
            },
            "type": "scatterternary"
           }
          ],
          "surface": [
           {
            "colorbar": {
             "outlinewidth": 0,
             "ticks": ""
            },
            "colorscale": [
             [
              0,
              "#0d0887"
             ],
             [
              0.1111111111111111,
              "#46039f"
             ],
             [
              0.2222222222222222,
              "#7201a8"
             ],
             [
              0.3333333333333333,
              "#9c179e"
             ],
             [
              0.4444444444444444,
              "#bd3786"
             ],
             [
              0.5555555555555556,
              "#d8576b"
             ],
             [
              0.6666666666666666,
              "#ed7953"
             ],
             [
              0.7777777777777778,
              "#fb9f3a"
             ],
             [
              0.8888888888888888,
              "#fdca26"
             ],
             [
              1,
              "#f0f921"
             ]
            ],
            "type": "surface"
           }
          ],
          "table": [
           {
            "cells": {
             "fill": {
              "color": "#EBF0F8"
             },
             "line": {
              "color": "white"
             }
            },
            "header": {
             "fill": {
              "color": "#C8D4E3"
             },
             "line": {
              "color": "white"
             }
            },
            "type": "table"
           }
          ]
         },
         "layout": {
          "annotationdefaults": {
           "arrowcolor": "#2a3f5f",
           "arrowhead": 0,
           "arrowwidth": 1
          },
          "autotypenumbers": "strict",
          "coloraxis": {
           "colorbar": {
            "outlinewidth": 0,
            "ticks": ""
           }
          },
          "colorscale": {
           "diverging": [
            [
             0,
             "#8e0152"
            ],
            [
             0.1,
             "#c51b7d"
            ],
            [
             0.2,
             "#de77ae"
            ],
            [
             0.3,
             "#f1b6da"
            ],
            [
             0.4,
             "#fde0ef"
            ],
            [
             0.5,
             "#f7f7f7"
            ],
            [
             0.6,
             "#e6f5d0"
            ],
            [
             0.7,
             "#b8e186"
            ],
            [
             0.8,
             "#7fbc41"
            ],
            [
             0.9,
             "#4d9221"
            ],
            [
             1,
             "#276419"
            ]
           ],
           "sequential": [
            [
             0,
             "#0d0887"
            ],
            [
             0.1111111111111111,
             "#46039f"
            ],
            [
             0.2222222222222222,
             "#7201a8"
            ],
            [
             0.3333333333333333,
             "#9c179e"
            ],
            [
             0.4444444444444444,
             "#bd3786"
            ],
            [
             0.5555555555555556,
             "#d8576b"
            ],
            [
             0.6666666666666666,
             "#ed7953"
            ],
            [
             0.7777777777777778,
             "#fb9f3a"
            ],
            [
             0.8888888888888888,
             "#fdca26"
            ],
            [
             1,
             "#f0f921"
            ]
           ],
           "sequentialminus": [
            [
             0,
             "#0d0887"
            ],
            [
             0.1111111111111111,
             "#46039f"
            ],
            [
             0.2222222222222222,
             "#7201a8"
            ],
            [
             0.3333333333333333,
             "#9c179e"
            ],
            [
             0.4444444444444444,
             "#bd3786"
            ],
            [
             0.5555555555555556,
             "#d8576b"
            ],
            [
             0.6666666666666666,
             "#ed7953"
            ],
            [
             0.7777777777777778,
             "#fb9f3a"
            ],
            [
             0.8888888888888888,
             "#fdca26"
            ],
            [
             1,
             "#f0f921"
            ]
           ]
          },
          "colorway": [
           "#636efa",
           "#EF553B",
           "#00cc96",
           "#ab63fa",
           "#FFA15A",
           "#19d3f3",
           "#FF6692",
           "#B6E880",
           "#FF97FF",
           "#FECB52"
          ],
          "font": {
           "color": "#2a3f5f"
          },
          "geo": {
           "bgcolor": "white",
           "lakecolor": "white",
           "landcolor": "#E5ECF6",
           "showlakes": true,
           "showland": true,
           "subunitcolor": "white"
          },
          "hoverlabel": {
           "align": "left"
          },
          "hovermode": "closest",
          "mapbox": {
           "style": "light"
          },
          "paper_bgcolor": "white",
          "plot_bgcolor": "#E5ECF6",
          "polar": {
           "angularaxis": {
            "gridcolor": "white",
            "linecolor": "white",
            "ticks": ""
           },
           "bgcolor": "#E5ECF6",
           "radialaxis": {
            "gridcolor": "white",
            "linecolor": "white",
            "ticks": ""
           }
          },
          "scene": {
           "xaxis": {
            "backgroundcolor": "#E5ECF6",
            "gridcolor": "white",
            "gridwidth": 2,
            "linecolor": "white",
            "showbackground": true,
            "ticks": "",
            "zerolinecolor": "white"
           },
           "yaxis": {
            "backgroundcolor": "#E5ECF6",
            "gridcolor": "white",
            "gridwidth": 2,
            "linecolor": "white",
            "showbackground": true,
            "ticks": "",
            "zerolinecolor": "white"
           },
           "zaxis": {
            "backgroundcolor": "#E5ECF6",
            "gridcolor": "white",
            "gridwidth": 2,
            "linecolor": "white",
            "showbackground": true,
            "ticks": "",
            "zerolinecolor": "white"
           }
          },
          "shapedefaults": {
           "line": {
            "color": "#2a3f5f"
           }
          },
          "ternary": {
           "aaxis": {
            "gridcolor": "white",
            "linecolor": "white",
            "ticks": ""
           },
           "baxis": {
            "gridcolor": "white",
            "linecolor": "white",
            "ticks": ""
           },
           "bgcolor": "#E5ECF6",
           "caxis": {
            "gridcolor": "white",
            "linecolor": "white",
            "ticks": ""
           }
          },
          "title": {
           "x": 0.05
          },
          "xaxis": {
           "automargin": true,
           "gridcolor": "white",
           "linecolor": "white",
           "ticks": "",
           "title": {
            "standoff": 15
           },
           "zerolinecolor": "white",
           "zerolinewidth": 2
          },
          "yaxis": {
           "automargin": true,
           "gridcolor": "white",
           "linecolor": "white",
           "ticks": "",
           "title": {
            "standoff": 15
           },
           "zerolinecolor": "white",
           "zerolinewidth": 2
          }
         }
        },
        "title": {
         "text": "Silhouette Scores"
        },
        "xaxis": {
         "anchor": "y",
         "domain": [
          0,
          1
         ],
         "title": {
          "text": "Number of Clusters"
         }
        },
        "yaxis": {
         "anchor": "x",
         "domain": [
          0,
          1
         ],
         "title": {
          "text": "Silhouette Score"
         }
        }
       }
      }
     },
     "metadata": {},
     "output_type": "display_data"
    }
   ],
   "source": [
    "fig = px.line(x=n_cluster, y=silhouette_scores, title='Silhouette Scores')\n",
    "fig.update_layout(xaxis_title='Number of Clusters', yaxis_title='Silhouette Score')\n",
    "fig.show()\n"
   ]
  },
  {
   "cell_type": "markdown",
   "id": "af533af9",
   "metadata": {},
   "source": [
    "*BUILD FINAL MODEL*"
   ]
  },
  {
   "cell_type": "code",
   "execution_count": 251,
   "id": "d083eb72",
   "metadata": {},
   "outputs": [
    {
     "data": {
      "text/html": [
       "<style>#sk-container-id-5 {\n",
       "  /* Definition of color scheme common for light and dark mode */\n",
       "  --sklearn-color-text: black;\n",
       "  --sklearn-color-line: gray;\n",
       "  /* Definition of color scheme for unfitted estimators */\n",
       "  --sklearn-color-unfitted-level-0: #fff5e6;\n",
       "  --sklearn-color-unfitted-level-1: #f6e4d2;\n",
       "  --sklearn-color-unfitted-level-2: #ffe0b3;\n",
       "  --sklearn-color-unfitted-level-3: chocolate;\n",
       "  /* Definition of color scheme for fitted estimators */\n",
       "  --sklearn-color-fitted-level-0: #f0f8ff;\n",
       "  --sklearn-color-fitted-level-1: #d4ebff;\n",
       "  --sklearn-color-fitted-level-2: #b3dbfd;\n",
       "  --sklearn-color-fitted-level-3: cornflowerblue;\n",
       "\n",
       "  /* Specific color for light theme */\n",
       "  --sklearn-color-text-on-default-background: var(--sg-text-color, var(--theme-code-foreground, var(--jp-content-font-color1, black)));\n",
       "  --sklearn-color-background: var(--sg-background-color, var(--theme-background, var(--jp-layout-color0, white)));\n",
       "  --sklearn-color-border-box: var(--sg-text-color, var(--theme-code-foreground, var(--jp-content-font-color1, black)));\n",
       "  --sklearn-color-icon: #696969;\n",
       "\n",
       "  @media (prefers-color-scheme: dark) {\n",
       "    /* Redefinition of color scheme for dark theme */\n",
       "    --sklearn-color-text-on-default-background: var(--sg-text-color, var(--theme-code-foreground, var(--jp-content-font-color1, white)));\n",
       "    --sklearn-color-background: var(--sg-background-color, var(--theme-background, var(--jp-layout-color0, #111)));\n",
       "    --sklearn-color-border-box: var(--sg-text-color, var(--theme-code-foreground, var(--jp-content-font-color1, white)));\n",
       "    --sklearn-color-icon: #878787;\n",
       "  }\n",
       "}\n",
       "\n",
       "#sk-container-id-5 {\n",
       "  color: var(--sklearn-color-text);\n",
       "}\n",
       "\n",
       "#sk-container-id-5 pre {\n",
       "  padding: 0;\n",
       "}\n",
       "\n",
       "#sk-container-id-5 input.sk-hidden--visually {\n",
       "  border: 0;\n",
       "  clip: rect(1px 1px 1px 1px);\n",
       "  clip: rect(1px, 1px, 1px, 1px);\n",
       "  height: 1px;\n",
       "  margin: -1px;\n",
       "  overflow: hidden;\n",
       "  padding: 0;\n",
       "  position: absolute;\n",
       "  width: 1px;\n",
       "}\n",
       "\n",
       "#sk-container-id-5 div.sk-dashed-wrapped {\n",
       "  border: 1px dashed var(--sklearn-color-line);\n",
       "  margin: 0 0.4em 0.5em 0.4em;\n",
       "  box-sizing: border-box;\n",
       "  padding-bottom: 0.4em;\n",
       "  background-color: var(--sklearn-color-background);\n",
       "}\n",
       "\n",
       "#sk-container-id-5 div.sk-container {\n",
       "  /* jupyter's `normalize.less` sets `[hidden] { display: none; }`\n",
       "     but bootstrap.min.css set `[hidden] { display: none !important; }`\n",
       "     so we also need the `!important` here to be able to override the\n",
       "     default hidden behavior on the sphinx rendered scikit-learn.org.\n",
       "     See: https://github.com/scikit-learn/scikit-learn/issues/21755 */\n",
       "  display: inline-block !important;\n",
       "  position: relative;\n",
       "}\n",
       "\n",
       "#sk-container-id-5 div.sk-text-repr-fallback {\n",
       "  display: none;\n",
       "}\n",
       "\n",
       "div.sk-parallel-item,\n",
       "div.sk-serial,\n",
       "div.sk-item {\n",
       "  /* draw centered vertical line to link estimators */\n",
       "  background-image: linear-gradient(var(--sklearn-color-text-on-default-background), var(--sklearn-color-text-on-default-background));\n",
       "  background-size: 2px 100%;\n",
       "  background-repeat: no-repeat;\n",
       "  background-position: center center;\n",
       "}\n",
       "\n",
       "/* Parallel-specific style estimator block */\n",
       "\n",
       "#sk-container-id-5 div.sk-parallel-item::after {\n",
       "  content: \"\";\n",
       "  width: 100%;\n",
       "  border-bottom: 2px solid var(--sklearn-color-text-on-default-background);\n",
       "  flex-grow: 1;\n",
       "}\n",
       "\n",
       "#sk-container-id-5 div.sk-parallel {\n",
       "  display: flex;\n",
       "  align-items: stretch;\n",
       "  justify-content: center;\n",
       "  background-color: var(--sklearn-color-background);\n",
       "  position: relative;\n",
       "}\n",
       "\n",
       "#sk-container-id-5 div.sk-parallel-item {\n",
       "  display: flex;\n",
       "  flex-direction: column;\n",
       "}\n",
       "\n",
       "#sk-container-id-5 div.sk-parallel-item:first-child::after {\n",
       "  align-self: flex-end;\n",
       "  width: 50%;\n",
       "}\n",
       "\n",
       "#sk-container-id-5 div.sk-parallel-item:last-child::after {\n",
       "  align-self: flex-start;\n",
       "  width: 50%;\n",
       "}\n",
       "\n",
       "#sk-container-id-5 div.sk-parallel-item:only-child::after {\n",
       "  width: 0;\n",
       "}\n",
       "\n",
       "/* Serial-specific style estimator block */\n",
       "\n",
       "#sk-container-id-5 div.sk-serial {\n",
       "  display: flex;\n",
       "  flex-direction: column;\n",
       "  align-items: center;\n",
       "  background-color: var(--sklearn-color-background);\n",
       "  padding-right: 1em;\n",
       "  padding-left: 1em;\n",
       "}\n",
       "\n",
       "\n",
       "/* Toggleable style: style used for estimator/Pipeline/ColumnTransformer box that is\n",
       "clickable and can be expanded/collapsed.\n",
       "- Pipeline and ColumnTransformer use this feature and define the default style\n",
       "- Estimators will overwrite some part of the style using the `sk-estimator` class\n",
       "*/\n",
       "\n",
       "/* Pipeline and ColumnTransformer style (default) */\n",
       "\n",
       "#sk-container-id-5 div.sk-toggleable {\n",
       "  /* Default theme specific background. It is overwritten whether we have a\n",
       "  specific estimator or a Pipeline/ColumnTransformer */\n",
       "  background-color: var(--sklearn-color-background);\n",
       "}\n",
       "\n",
       "/* Toggleable label */\n",
       "#sk-container-id-5 label.sk-toggleable__label {\n",
       "  cursor: pointer;\n",
       "  display: block;\n",
       "  width: 100%;\n",
       "  margin-bottom: 0;\n",
       "  padding: 0.5em;\n",
       "  box-sizing: border-box;\n",
       "  text-align: center;\n",
       "}\n",
       "\n",
       "#sk-container-id-5 label.sk-toggleable__label-arrow:before {\n",
       "  /* Arrow on the left of the label */\n",
       "  content: \"▸\";\n",
       "  float: left;\n",
       "  margin-right: 0.25em;\n",
       "  color: var(--sklearn-color-icon);\n",
       "}\n",
       "\n",
       "#sk-container-id-5 label.sk-toggleable__label-arrow:hover:before {\n",
       "  color: var(--sklearn-color-text);\n",
       "}\n",
       "\n",
       "/* Toggleable content - dropdown */\n",
       "\n",
       "#sk-container-id-5 div.sk-toggleable__content {\n",
       "  max-height: 0;\n",
       "  max-width: 0;\n",
       "  overflow: hidden;\n",
       "  text-align: left;\n",
       "  /* unfitted */\n",
       "  background-color: var(--sklearn-color-unfitted-level-0);\n",
       "}\n",
       "\n",
       "#sk-container-id-5 div.sk-toggleable__content.fitted {\n",
       "  /* fitted */\n",
       "  background-color: var(--sklearn-color-fitted-level-0);\n",
       "}\n",
       "\n",
       "#sk-container-id-5 div.sk-toggleable__content pre {\n",
       "  margin: 0.2em;\n",
       "  border-radius: 0.25em;\n",
       "  color: var(--sklearn-color-text);\n",
       "  /* unfitted */\n",
       "  background-color: var(--sklearn-color-unfitted-level-0);\n",
       "}\n",
       "\n",
       "#sk-container-id-5 div.sk-toggleable__content.fitted pre {\n",
       "  /* unfitted */\n",
       "  background-color: var(--sklearn-color-fitted-level-0);\n",
       "}\n",
       "\n",
       "#sk-container-id-5 input.sk-toggleable__control:checked~div.sk-toggleable__content {\n",
       "  /* Expand drop-down */\n",
       "  max-height: 200px;\n",
       "  max-width: 100%;\n",
       "  overflow: auto;\n",
       "}\n",
       "\n",
       "#sk-container-id-5 input.sk-toggleable__control:checked~label.sk-toggleable__label-arrow:before {\n",
       "  content: \"▾\";\n",
       "}\n",
       "\n",
       "/* Pipeline/ColumnTransformer-specific style */\n",
       "\n",
       "#sk-container-id-5 div.sk-label input.sk-toggleable__control:checked~label.sk-toggleable__label {\n",
       "  color: var(--sklearn-color-text);\n",
       "  background-color: var(--sklearn-color-unfitted-level-2);\n",
       "}\n",
       "\n",
       "#sk-container-id-5 div.sk-label.fitted input.sk-toggleable__control:checked~label.sk-toggleable__label {\n",
       "  background-color: var(--sklearn-color-fitted-level-2);\n",
       "}\n",
       "\n",
       "/* Estimator-specific style */\n",
       "\n",
       "/* Colorize estimator box */\n",
       "#sk-container-id-5 div.sk-estimator input.sk-toggleable__control:checked~label.sk-toggleable__label {\n",
       "  /* unfitted */\n",
       "  background-color: var(--sklearn-color-unfitted-level-2);\n",
       "}\n",
       "\n",
       "#sk-container-id-5 div.sk-estimator.fitted input.sk-toggleable__control:checked~label.sk-toggleable__label {\n",
       "  /* fitted */\n",
       "  background-color: var(--sklearn-color-fitted-level-2);\n",
       "}\n",
       "\n",
       "#sk-container-id-5 div.sk-label label.sk-toggleable__label,\n",
       "#sk-container-id-5 div.sk-label label {\n",
       "  /* The background is the default theme color */\n",
       "  color: var(--sklearn-color-text-on-default-background);\n",
       "}\n",
       "\n",
       "/* On hover, darken the color of the background */\n",
       "#sk-container-id-5 div.sk-label:hover label.sk-toggleable__label {\n",
       "  color: var(--sklearn-color-text);\n",
       "  background-color: var(--sklearn-color-unfitted-level-2);\n",
       "}\n",
       "\n",
       "/* Label box, darken color on hover, fitted */\n",
       "#sk-container-id-5 div.sk-label.fitted:hover label.sk-toggleable__label.fitted {\n",
       "  color: var(--sklearn-color-text);\n",
       "  background-color: var(--sklearn-color-fitted-level-2);\n",
       "}\n",
       "\n",
       "/* Estimator label */\n",
       "\n",
       "#sk-container-id-5 div.sk-label label {\n",
       "  font-family: monospace;\n",
       "  font-weight: bold;\n",
       "  display: inline-block;\n",
       "  line-height: 1.2em;\n",
       "}\n",
       "\n",
       "#sk-container-id-5 div.sk-label-container {\n",
       "  text-align: center;\n",
       "}\n",
       "\n",
       "/* Estimator-specific */\n",
       "#sk-container-id-5 div.sk-estimator {\n",
       "  font-family: monospace;\n",
       "  border: 1px dotted var(--sklearn-color-border-box);\n",
       "  border-radius: 0.25em;\n",
       "  box-sizing: border-box;\n",
       "  margin-bottom: 0.5em;\n",
       "  /* unfitted */\n",
       "  background-color: var(--sklearn-color-unfitted-level-0);\n",
       "}\n",
       "\n",
       "#sk-container-id-5 div.sk-estimator.fitted {\n",
       "  /* fitted */\n",
       "  background-color: var(--sklearn-color-fitted-level-0);\n",
       "}\n",
       "\n",
       "/* on hover */\n",
       "#sk-container-id-5 div.sk-estimator:hover {\n",
       "  /* unfitted */\n",
       "  background-color: var(--sklearn-color-unfitted-level-2);\n",
       "}\n",
       "\n",
       "#sk-container-id-5 div.sk-estimator.fitted:hover {\n",
       "  /* fitted */\n",
       "  background-color: var(--sklearn-color-fitted-level-2);\n",
       "}\n",
       "\n",
       "/* Specification for estimator info (e.g. \"i\" and \"?\") */\n",
       "\n",
       "/* Common style for \"i\" and \"?\" */\n",
       "\n",
       ".sk-estimator-doc-link,\n",
       "a:link.sk-estimator-doc-link,\n",
       "a:visited.sk-estimator-doc-link {\n",
       "  float: right;\n",
       "  font-size: smaller;\n",
       "  line-height: 1em;\n",
       "  font-family: monospace;\n",
       "  background-color: var(--sklearn-color-background);\n",
       "  border-radius: 1em;\n",
       "  height: 1em;\n",
       "  width: 1em;\n",
       "  text-decoration: none !important;\n",
       "  margin-left: 1ex;\n",
       "  /* unfitted */\n",
       "  border: var(--sklearn-color-unfitted-level-1) 1pt solid;\n",
       "  color: var(--sklearn-color-unfitted-level-1);\n",
       "}\n",
       "\n",
       ".sk-estimator-doc-link.fitted,\n",
       "a:link.sk-estimator-doc-link.fitted,\n",
       "a:visited.sk-estimator-doc-link.fitted {\n",
       "  /* fitted */\n",
       "  border: var(--sklearn-color-fitted-level-1) 1pt solid;\n",
       "  color: var(--sklearn-color-fitted-level-1);\n",
       "}\n",
       "\n",
       "/* On hover */\n",
       "div.sk-estimator:hover .sk-estimator-doc-link:hover,\n",
       ".sk-estimator-doc-link:hover,\n",
       "div.sk-label-container:hover .sk-estimator-doc-link:hover,\n",
       ".sk-estimator-doc-link:hover {\n",
       "  /* unfitted */\n",
       "  background-color: var(--sklearn-color-unfitted-level-3);\n",
       "  color: var(--sklearn-color-background);\n",
       "  text-decoration: none;\n",
       "}\n",
       "\n",
       "div.sk-estimator.fitted:hover .sk-estimator-doc-link.fitted:hover,\n",
       ".sk-estimator-doc-link.fitted:hover,\n",
       "div.sk-label-container:hover .sk-estimator-doc-link.fitted:hover,\n",
       ".sk-estimator-doc-link.fitted:hover {\n",
       "  /* fitted */\n",
       "  background-color: var(--sklearn-color-fitted-level-3);\n",
       "  color: var(--sklearn-color-background);\n",
       "  text-decoration: none;\n",
       "}\n",
       "\n",
       "/* Span, style for the box shown on hovering the info icon */\n",
       ".sk-estimator-doc-link span {\n",
       "  display: none;\n",
       "  z-index: 9999;\n",
       "  position: relative;\n",
       "  font-weight: normal;\n",
       "  right: .2ex;\n",
       "  padding: .5ex;\n",
       "  margin: .5ex;\n",
       "  width: min-content;\n",
       "  min-width: 20ex;\n",
       "  max-width: 50ex;\n",
       "  color: var(--sklearn-color-text);\n",
       "  box-shadow: 2pt 2pt 4pt #999;\n",
       "  /* unfitted */\n",
       "  background: var(--sklearn-color-unfitted-level-0);\n",
       "  border: .5pt solid var(--sklearn-color-unfitted-level-3);\n",
       "}\n",
       "\n",
       ".sk-estimator-doc-link.fitted span {\n",
       "  /* fitted */\n",
       "  background: var(--sklearn-color-fitted-level-0);\n",
       "  border: var(--sklearn-color-fitted-level-3);\n",
       "}\n",
       "\n",
       ".sk-estimator-doc-link:hover span {\n",
       "  display: block;\n",
       "}\n",
       "\n",
       "/* \"?\"-specific style due to the `<a>` HTML tag */\n",
       "\n",
       "#sk-container-id-5 a.estimator_doc_link {\n",
       "  float: right;\n",
       "  font-size: 1rem;\n",
       "  line-height: 1em;\n",
       "  font-family: monospace;\n",
       "  background-color: var(--sklearn-color-background);\n",
       "  border-radius: 1rem;\n",
       "  height: 1rem;\n",
       "  width: 1rem;\n",
       "  text-decoration: none;\n",
       "  /* unfitted */\n",
       "  color: var(--sklearn-color-unfitted-level-1);\n",
       "  border: var(--sklearn-color-unfitted-level-1) 1pt solid;\n",
       "}\n",
       "\n",
       "#sk-container-id-5 a.estimator_doc_link.fitted {\n",
       "  /* fitted */\n",
       "  border: var(--sklearn-color-fitted-level-1) 1pt solid;\n",
       "  color: var(--sklearn-color-fitted-level-1);\n",
       "}\n",
       "\n",
       "/* On hover */\n",
       "#sk-container-id-5 a.estimator_doc_link:hover {\n",
       "  /* unfitted */\n",
       "  background-color: var(--sklearn-color-unfitted-level-3);\n",
       "  color: var(--sklearn-color-background);\n",
       "  text-decoration: none;\n",
       "}\n",
       "\n",
       "#sk-container-id-5 a.estimator_doc_link.fitted:hover {\n",
       "  /* fitted */\n",
       "  background-color: var(--sklearn-color-fitted-level-3);\n",
       "}\n",
       "</style><div id=\"sk-container-id-5\" class=\"sk-top-container\"><div class=\"sk-text-repr-fallback\"><pre>Pipeline(steps=[(&#x27;standardscaler&#x27;, StandardScaler()),\n",
       "                (&#x27;kmeans&#x27;, KMeans(n_clusters=3, random_state=42))])</pre><b>In a Jupyter environment, please rerun this cell to show the HTML representation or trust the notebook. <br />On GitHub, the HTML representation is unable to render, please try loading this page with nbviewer.org.</b></div><div class=\"sk-container\" hidden><div class=\"sk-item sk-dashed-wrapped\"><div class=\"sk-label-container\"><div class=\"sk-label fitted sk-toggleable\"><input class=\"sk-toggleable__control sk-hidden--visually\" id=\"sk-estimator-id-13\" type=\"checkbox\" ><label for=\"sk-estimator-id-13\" class=\"sk-toggleable__label fitted sk-toggleable__label-arrow fitted\">&nbsp;&nbsp;Pipeline<a class=\"sk-estimator-doc-link fitted\" rel=\"noreferrer\" target=\"_blank\" href=\"https://scikit-learn.org/1.5/modules/generated/sklearn.pipeline.Pipeline.html\">?<span>Documentation for Pipeline</span></a><span class=\"sk-estimator-doc-link fitted\">i<span>Fitted</span></span></label><div class=\"sk-toggleable__content fitted\"><pre>Pipeline(steps=[(&#x27;standardscaler&#x27;, StandardScaler()),\n",
       "                (&#x27;kmeans&#x27;, KMeans(n_clusters=3, random_state=42))])</pre></div> </div></div><div class=\"sk-serial\"><div class=\"sk-item\"><div class=\"sk-estimator fitted sk-toggleable\"><input class=\"sk-toggleable__control sk-hidden--visually\" id=\"sk-estimator-id-14\" type=\"checkbox\" ><label for=\"sk-estimator-id-14\" class=\"sk-toggleable__label fitted sk-toggleable__label-arrow fitted\">&nbsp;StandardScaler<a class=\"sk-estimator-doc-link fitted\" rel=\"noreferrer\" target=\"_blank\" href=\"https://scikit-learn.org/1.5/modules/generated/sklearn.preprocessing.StandardScaler.html\">?<span>Documentation for StandardScaler</span></a></label><div class=\"sk-toggleable__content fitted\"><pre>StandardScaler()</pre></div> </div></div><div class=\"sk-item\"><div class=\"sk-estimator fitted sk-toggleable\"><input class=\"sk-toggleable__control sk-hidden--visually\" id=\"sk-estimator-id-15\" type=\"checkbox\" ><label for=\"sk-estimator-id-15\" class=\"sk-toggleable__label fitted sk-toggleable__label-arrow fitted\">&nbsp;KMeans<a class=\"sk-estimator-doc-link fitted\" rel=\"noreferrer\" target=\"_blank\" href=\"https://scikit-learn.org/1.5/modules/generated/sklearn.cluster.KMeans.html\">?<span>Documentation for KMeans</span></a></label><div class=\"sk-toggleable__content fitted\"><pre>KMeans(n_clusters=3, random_state=42)</pre></div> </div></div></div></div></div></div>"
      ],
      "text/plain": [
       "Pipeline(steps=[('standardscaler', StandardScaler()),\n",
       "                ('kmeans', KMeans(n_clusters=3, random_state=42))])"
      ]
     },
     "execution_count": 251,
     "metadata": {},
     "output_type": "execute_result"
    }
   ],
   "source": [
    "final_model = make_pipeline(\n",
    "    StandardScaler(),       #for scaling\n",
    "    KMeans(n_clusters=3, random_state=42)    #for clustering\n",
    ")\n",
    "final_model.fit(X) #<--- fitting the model\n"
   ]
  },
  {
   "cell_type": "markdown",
   "id": "25f8e3c4",
   "metadata": {},
   "source": [
    "*EXTRACTING THE LABELS AND ASSIGNING IT TO THE DATASET*"
   ]
  },
  {
   "cell_type": "code",
   "execution_count": 252,
   "id": "735a1906",
   "metadata": {},
   "outputs": [
    {
     "name": "stderr",
     "output_type": "stream",
     "text": [
      "C:\\Users\\USER\\AppData\\Local\\Temp\\ipykernel_1428\\1335887402.py:1: SettingWithCopyWarning:\n",
      "\n",
      "\n",
      "A value is trying to be set on a copy of a slice from a DataFrame.\n",
      "Try using .loc[row_indexer,col_indexer] = value instead\n",
      "\n",
      "See the caveats in the documentation: https://pandas.pydata.org/pandas-docs/stable/user_guide/indexing.html#returning-a-view-versus-a-copy\n",
      "\n"
     ]
    },
    {
     "data": {
      "text/plain": [
       "20    0\n",
       "21    0\n",
       "22    0\n",
       "23    0\n",
       "24    0\n",
       "Name: LABELS, dtype: int32"
      ]
     },
     "execution_count": 252,
     "metadata": {},
     "output_type": "execute_result"
    }
   ],
   "source": [
    "X['LABELS'] = final_model.named_steps['kmeans'].labels_\n",
    "X['LABELS'].head()\n"
   ]
  },
  {
   "cell_type": "markdown",
   "id": "370f3fd0",
   "metadata": {},
   "source": [
    "*CLUSTER 0....THE LOWEST INCOME EARNERS OF THE DATA SET WITH 1491 DATA POINTS...SHOWS A BIG NUMBER OF CUSTOMERS EARN LOWER SALARY AND THEIR INCOME IS ALSO LOWER THAN ALL THE OTHER CUSTOMERS IN THE DATASET*"
   ]
  },
  {
   "cell_type": "code",
   "execution_count": 253,
   "id": "fba324d4",
   "metadata": {},
   "outputs": [
    {
     "data": {
      "text/html": [
       "<div>\n",
       "<style scoped>\n",
       "    .dataframe tbody tr th:only-of-type {\n",
       "        vertical-align: middle;\n",
       "    }\n",
       "\n",
       "    .dataframe tbody tr th {\n",
       "        vertical-align: top;\n",
       "    }\n",
       "\n",
       "    .dataframe thead th {\n",
       "        text-align: right;\n",
       "    }\n",
       "</style>\n",
       "<table border=\"1\" class=\"dataframe\">\n",
       "  <thead>\n",
       "    <tr style=\"text-align: right;\">\n",
       "      <th></th>\n",
       "      <th>index</th>\n",
       "      <th>DEBT</th>\n",
       "      <th>NETWORTH</th>\n",
       "      <th>HOUSES</th>\n",
       "      <th>NFIN</th>\n",
       "      <th>ASSET</th>\n",
       "      <th>LABELS</th>\n",
       "    </tr>\n",
       "  </thead>\n",
       "  <tbody>\n",
       "    <tr>\n",
       "      <th>0</th>\n",
       "      <td>20</td>\n",
       "      <td>11000</td>\n",
       "      <td>4100.0</td>\n",
       "      <td>0</td>\n",
       "      <td>14000.0</td>\n",
       "      <td>15100.0</td>\n",
       "      <td>0</td>\n",
       "    </tr>\n",
       "    <tr>\n",
       "      <th>1</th>\n",
       "      <td>21</td>\n",
       "      <td>10000</td>\n",
       "      <td>5500.0</td>\n",
       "      <td>0</td>\n",
       "      <td>14000.0</td>\n",
       "      <td>15500.0</td>\n",
       "      <td>0</td>\n",
       "    </tr>\n",
       "    <tr>\n",
       "      <th>2</th>\n",
       "      <td>22</td>\n",
       "      <td>10000</td>\n",
       "      <td>4500.0</td>\n",
       "      <td>0</td>\n",
       "      <td>13000.0</td>\n",
       "      <td>14500.0</td>\n",
       "      <td>0</td>\n",
       "    </tr>\n",
       "    <tr>\n",
       "      <th>3</th>\n",
       "      <td>23</td>\n",
       "      <td>10000</td>\n",
       "      <td>5600.0</td>\n",
       "      <td>0</td>\n",
       "      <td>14000.0</td>\n",
       "      <td>15600.0</td>\n",
       "      <td>0</td>\n",
       "    </tr>\n",
       "    <tr>\n",
       "      <th>4</th>\n",
       "      <td>24</td>\n",
       "      <td>11000</td>\n",
       "      <td>4500.0</td>\n",
       "      <td>0</td>\n",
       "      <td>14000.0</td>\n",
       "      <td>15500.0</td>\n",
       "      <td>0</td>\n",
       "    </tr>\n",
       "    <tr>\n",
       "      <th>...</th>\n",
       "      <td>...</td>\n",
       "      <td>...</td>\n",
       "      <td>...</td>\n",
       "      <td>...</td>\n",
       "      <td>...</td>\n",
       "      <td>...</td>\n",
       "      <td>...</td>\n",
       "    </tr>\n",
       "    <tr>\n",
       "      <th>1486</th>\n",
       "      <td>22960</td>\n",
       "      <td>426620</td>\n",
       "      <td>-418140.0</td>\n",
       "      <td>0</td>\n",
       "      <td>0.0</td>\n",
       "      <td>8480.0</td>\n",
       "      <td>0</td>\n",
       "    </tr>\n",
       "    <tr>\n",
       "      <th>1487</th>\n",
       "      <td>22961</td>\n",
       "      <td>420650</td>\n",
       "      <td>-419070.0</td>\n",
       "      <td>0</td>\n",
       "      <td>0.0</td>\n",
       "      <td>1580.0</td>\n",
       "      <td>0</td>\n",
       "    </tr>\n",
       "    <tr>\n",
       "      <th>1488</th>\n",
       "      <td>22962</td>\n",
       "      <td>427570</td>\n",
       "      <td>-416550.0</td>\n",
       "      <td>0</td>\n",
       "      <td>0.0</td>\n",
       "      <td>11020.0</td>\n",
       "      <td>0</td>\n",
       "    </tr>\n",
       "    <tr>\n",
       "      <th>1489</th>\n",
       "      <td>22963</td>\n",
       "      <td>418690</td>\n",
       "      <td>-413300.0</td>\n",
       "      <td>0</td>\n",
       "      <td>0.0</td>\n",
       "      <td>5390.0</td>\n",
       "      <td>0</td>\n",
       "    </tr>\n",
       "    <tr>\n",
       "      <th>1490</th>\n",
       "      <td>22964</td>\n",
       "      <td>429630</td>\n",
       "      <td>-428650.0</td>\n",
       "      <td>0</td>\n",
       "      <td>0.0</td>\n",
       "      <td>980.0</td>\n",
       "      <td>0</td>\n",
       "    </tr>\n",
       "  </tbody>\n",
       "</table>\n",
       "<p>1491 rows × 7 columns</p>\n",
       "</div>"
      ],
      "text/plain": [
       "      index    DEBT  NETWORTH  HOUSES     NFIN    ASSET  LABELS\n",
       "0        20   11000    4100.0       0  14000.0  15100.0       0\n",
       "1        21   10000    5500.0       0  14000.0  15500.0       0\n",
       "2        22   10000    4500.0       0  13000.0  14500.0       0\n",
       "3        23   10000    5600.0       0  14000.0  15600.0       0\n",
       "4        24   11000    4500.0       0  14000.0  15500.0       0\n",
       "...     ...     ...       ...     ...      ...      ...     ...\n",
       "1486  22960  426620 -418140.0       0      0.0   8480.0       0\n",
       "1487  22961  420650 -419070.0       0      0.0   1580.0       0\n",
       "1488  22962  427570 -416550.0       0      0.0  11020.0       0\n",
       "1489  22963  418690 -413300.0       0      0.0   5390.0       0\n",
       "1490  22964  429630 -428650.0       0      0.0    980.0       0\n",
       "\n",
       "[1491 rows x 7 columns]"
      ]
     },
     "execution_count": 253,
     "metadata": {},
     "output_type": "execute_result"
    }
   ],
   "source": [
    "label_0 = X[X['LABELS'] == 0].reset_index()\n",
    "label_0 \n"
   ]
  },
  {
   "cell_type": "markdown",
   "id": "06f1e599",
   "metadata": {},
   "source": [
    "*CLUSTER 1 CUSTOMERS....THE HIGH EARNERS WITH 74 DATA POINTS...OFCOURSE NOT EVERYONE IS RICH AND EARNS BIG INCOME*"
   ]
  },
  {
   "cell_type": "code",
   "execution_count": 254,
   "id": "73b25cd1",
   "metadata": {},
   "outputs": [
    {
     "data": {
      "text/html": [
       "<div>\n",
       "<style scoped>\n",
       "    .dataframe tbody tr th:only-of-type {\n",
       "        vertical-align: middle;\n",
       "    }\n",
       "\n",
       "    .dataframe tbody tr th {\n",
       "        vertical-align: top;\n",
       "    }\n",
       "\n",
       "    .dataframe thead th {\n",
       "        text-align: right;\n",
       "    }\n",
       "</style>\n",
       "<table border=\"1\" class=\"dataframe\">\n",
       "  <thead>\n",
       "    <tr style=\"text-align: right;\">\n",
       "      <th></th>\n",
       "      <th>index</th>\n",
       "      <th>DEBT</th>\n",
       "      <th>NETWORTH</th>\n",
       "      <th>HOUSES</th>\n",
       "      <th>NFIN</th>\n",
       "      <th>ASSET</th>\n",
       "      <th>LABELS</th>\n",
       "    </tr>\n",
       "  </thead>\n",
       "  <tbody>\n",
       "    <tr>\n",
       "      <th>0</th>\n",
       "      <td>730</td>\n",
       "      <td>403310</td>\n",
       "      <td>235490.0</td>\n",
       "      <td>600000</td>\n",
       "      <td>635000.0</td>\n",
       "      <td>638800.0</td>\n",
       "      <td>1</td>\n",
       "    </tr>\n",
       "    <tr>\n",
       "      <th>1</th>\n",
       "      <td>731</td>\n",
       "      <td>403060</td>\n",
       "      <td>239140.0</td>\n",
       "      <td>600000</td>\n",
       "      <td>635000.0</td>\n",
       "      <td>642200.0</td>\n",
       "      <td>1</td>\n",
       "    </tr>\n",
       "    <tr>\n",
       "      <th>2</th>\n",
       "      <td>732</td>\n",
       "      <td>402890</td>\n",
       "      <td>233960.0</td>\n",
       "      <td>600000</td>\n",
       "      <td>636000.0</td>\n",
       "      <td>636850.0</td>\n",
       "      <td>1</td>\n",
       "    </tr>\n",
       "    <tr>\n",
       "      <th>3</th>\n",
       "      <td>733</td>\n",
       "      <td>402770</td>\n",
       "      <td>235330.0</td>\n",
       "      <td>600000</td>\n",
       "      <td>635000.0</td>\n",
       "      <td>638100.0</td>\n",
       "      <td>1</td>\n",
       "    </tr>\n",
       "    <tr>\n",
       "      <th>4</th>\n",
       "      <td>734</td>\n",
       "      <td>403020</td>\n",
       "      <td>232840.0</td>\n",
       "      <td>600000</td>\n",
       "      <td>635000.0</td>\n",
       "      <td>635860.0</td>\n",
       "      <td>1</td>\n",
       "    </tr>\n",
       "    <tr>\n",
       "      <th>...</th>\n",
       "      <td>...</td>\n",
       "      <td>...</td>\n",
       "      <td>...</td>\n",
       "      <td>...</td>\n",
       "      <td>...</td>\n",
       "      <td>...</td>\n",
       "      <td>...</td>\n",
       "    </tr>\n",
       "    <tr>\n",
       "      <th>361</th>\n",
       "      <td>22840</td>\n",
       "      <td>48800</td>\n",
       "      <td>740200.0</td>\n",
       "      <td>0</td>\n",
       "      <td>559000.0</td>\n",
       "      <td>789000.0</td>\n",
       "      <td>1</td>\n",
       "    </tr>\n",
       "    <tr>\n",
       "      <th>362</th>\n",
       "      <td>22841</td>\n",
       "      <td>84800</td>\n",
       "      <td>809200.0</td>\n",
       "      <td>0</td>\n",
       "      <td>664000.0</td>\n",
       "      <td>894000.0</td>\n",
       "      <td>1</td>\n",
       "    </tr>\n",
       "    <tr>\n",
       "      <th>363</th>\n",
       "      <td>22842</td>\n",
       "      <td>17800</td>\n",
       "      <td>800200.0</td>\n",
       "      <td>0</td>\n",
       "      <td>588000.0</td>\n",
       "      <td>818000.0</td>\n",
       "      <td>1</td>\n",
       "    </tr>\n",
       "    <tr>\n",
       "      <th>364</th>\n",
       "      <td>22843</td>\n",
       "      <td>17800</td>\n",
       "      <td>941200.0</td>\n",
       "      <td>0</td>\n",
       "      <td>729000.0</td>\n",
       "      <td>959000.0</td>\n",
       "      <td>1</td>\n",
       "    </tr>\n",
       "    <tr>\n",
       "      <th>365</th>\n",
       "      <td>22844</td>\n",
       "      <td>18800</td>\n",
       "      <td>1004200.0</td>\n",
       "      <td>0</td>\n",
       "      <td>793000.0</td>\n",
       "      <td>1023000.0</td>\n",
       "      <td>1</td>\n",
       "    </tr>\n",
       "  </tbody>\n",
       "</table>\n",
       "<p>366 rows × 7 columns</p>\n",
       "</div>"
      ],
      "text/plain": [
       "     index    DEBT   NETWORTH  HOUSES      NFIN      ASSET  LABELS\n",
       "0      730  403310   235490.0  600000  635000.0   638800.0       1\n",
       "1      731  403060   239140.0  600000  635000.0   642200.0       1\n",
       "2      732  402890   233960.0  600000  636000.0   636850.0       1\n",
       "3      733  402770   235330.0  600000  635000.0   638100.0       1\n",
       "4      734  403020   232840.0  600000  635000.0   635860.0       1\n",
       "..     ...     ...        ...     ...       ...        ...     ...\n",
       "361  22840   48800   740200.0       0  559000.0   789000.0       1\n",
       "362  22841   84800   809200.0       0  664000.0   894000.0       1\n",
       "363  22842   17800   800200.0       0  588000.0   818000.0       1\n",
       "364  22843   17800   941200.0       0  729000.0   959000.0       1\n",
       "365  22844   18800  1004200.0       0  793000.0  1023000.0       1\n",
       "\n",
       "[366 rows x 7 columns]"
      ]
     },
     "execution_count": 254,
     "metadata": {},
     "output_type": "execute_result"
    }
   ],
   "source": [
    "label_1 = X[X['LABELS'] == 1].reset_index()\n",
    "label_1 \n"
   ]
  },
  {
   "cell_type": "markdown",
   "id": "40143f7f",
   "metadata": {},
   "source": [
    "*CLUSTER 2 CUSTOMERS....SHOWING 366 NUMBER OF DATA POINTS*"
   ]
  },
  {
   "cell_type": "code",
   "execution_count": 255,
   "id": "e2855ddd",
   "metadata": {},
   "outputs": [
    {
     "data": {
      "text/html": [
       "<div>\n",
       "<style scoped>\n",
       "    .dataframe tbody tr th:only-of-type {\n",
       "        vertical-align: middle;\n",
       "    }\n",
       "\n",
       "    .dataframe tbody tr th {\n",
       "        vertical-align: top;\n",
       "    }\n",
       "\n",
       "    .dataframe thead th {\n",
       "        text-align: right;\n",
       "    }\n",
       "</style>\n",
       "<table border=\"1\" class=\"dataframe\">\n",
       "  <thead>\n",
       "    <tr style=\"text-align: right;\">\n",
       "      <th></th>\n",
       "      <th>index</th>\n",
       "      <th>DEBT</th>\n",
       "      <th>NETWORTH</th>\n",
       "      <th>HOUSES</th>\n",
       "      <th>NFIN</th>\n",
       "      <th>ASSET</th>\n",
       "      <th>LABELS</th>\n",
       "    </tr>\n",
       "  </thead>\n",
       "  <tbody>\n",
       "    <tr>\n",
       "      <th>0</th>\n",
       "      <td>3175</td>\n",
       "      <td>214000</td>\n",
       "      <td>2259100.0</td>\n",
       "      <td>1400000</td>\n",
       "      <td>1457000.0</td>\n",
       "      <td>2473100.0</td>\n",
       "      <td>2</td>\n",
       "    </tr>\n",
       "    <tr>\n",
       "      <th>1</th>\n",
       "      <td>3176</td>\n",
       "      <td>214000</td>\n",
       "      <td>2259130.0</td>\n",
       "      <td>1400000</td>\n",
       "      <td>1456000.0</td>\n",
       "      <td>2473130.0</td>\n",
       "      <td>2</td>\n",
       "    </tr>\n",
       "    <tr>\n",
       "      <th>2</th>\n",
       "      <td>3177</td>\n",
       "      <td>214000</td>\n",
       "      <td>2259900.0</td>\n",
       "      <td>1400000</td>\n",
       "      <td>1457000.0</td>\n",
       "      <td>2473900.0</td>\n",
       "      <td>2</td>\n",
       "    </tr>\n",
       "    <tr>\n",
       "      <th>3</th>\n",
       "      <td>3178</td>\n",
       "      <td>215000</td>\n",
       "      <td>2260000.0</td>\n",
       "      <td>1400000</td>\n",
       "      <td>1457000.0</td>\n",
       "      <td>2475000.0</td>\n",
       "      <td>2</td>\n",
       "    </tr>\n",
       "    <tr>\n",
       "      <th>4</th>\n",
       "      <td>3179</td>\n",
       "      <td>214000</td>\n",
       "      <td>2258100.0</td>\n",
       "      <td>1400000</td>\n",
       "      <td>1457000.0</td>\n",
       "      <td>2472100.0</td>\n",
       "      <td>2</td>\n",
       "    </tr>\n",
       "    <tr>\n",
       "      <th>...</th>\n",
       "      <td>...</td>\n",
       "      <td>...</td>\n",
       "      <td>...</td>\n",
       "      <td>...</td>\n",
       "      <td>...</td>\n",
       "      <td>...</td>\n",
       "      <td>...</td>\n",
       "    </tr>\n",
       "    <tr>\n",
       "      <th>69</th>\n",
       "      <td>16617</td>\n",
       "      <td>0</td>\n",
       "      <td>2642000.0</td>\n",
       "      <td>600000</td>\n",
       "      <td>1094000.0</td>\n",
       "      <td>2642000.0</td>\n",
       "      <td>2</td>\n",
       "    </tr>\n",
       "    <tr>\n",
       "      <th>70</th>\n",
       "      <td>16618</td>\n",
       "      <td>0</td>\n",
       "      <td>2642000.0</td>\n",
       "      <td>600000</td>\n",
       "      <td>1094000.0</td>\n",
       "      <td>2642000.0</td>\n",
       "      <td>2</td>\n",
       "    </tr>\n",
       "    <tr>\n",
       "      <th>71</th>\n",
       "      <td>16619</td>\n",
       "      <td>0</td>\n",
       "      <td>2642000.0</td>\n",
       "      <td>600000</td>\n",
       "      <td>1094000.0</td>\n",
       "      <td>2642000.0</td>\n",
       "      <td>2</td>\n",
       "    </tr>\n",
       "    <tr>\n",
       "      <th>72</th>\n",
       "      <td>20482</td>\n",
       "      <td>553100</td>\n",
       "      <td>973000.0</td>\n",
       "      <td>450000</td>\n",
       "      <td>1342000.0</td>\n",
       "      <td>1526100.0</td>\n",
       "      <td>2</td>\n",
       "    </tr>\n",
       "    <tr>\n",
       "      <th>73</th>\n",
       "      <td>22696</td>\n",
       "      <td>140300</td>\n",
       "      <td>1997750.0</td>\n",
       "      <td>0</td>\n",
       "      <td>0.0</td>\n",
       "      <td>2138050.0</td>\n",
       "      <td>2</td>\n",
       "    </tr>\n",
       "  </tbody>\n",
       "</table>\n",
       "<p>74 rows × 7 columns</p>\n",
       "</div>"
      ],
      "text/plain": [
       "    index    DEBT   NETWORTH   HOUSES       NFIN      ASSET  LABELS\n",
       "0    3175  214000  2259100.0  1400000  1457000.0  2473100.0       2\n",
       "1    3176  214000  2259130.0  1400000  1456000.0  2473130.0       2\n",
       "2    3177  214000  2259900.0  1400000  1457000.0  2473900.0       2\n",
       "3    3178  215000  2260000.0  1400000  1457000.0  2475000.0       2\n",
       "4    3179  214000  2258100.0  1400000  1457000.0  2472100.0       2\n",
       "..    ...     ...        ...      ...        ...        ...     ...\n",
       "69  16617       0  2642000.0   600000  1094000.0  2642000.0       2\n",
       "70  16618       0  2642000.0   600000  1094000.0  2642000.0       2\n",
       "71  16619       0  2642000.0   600000  1094000.0  2642000.0       2\n",
       "72  20482  553100   973000.0   450000  1342000.0  1526100.0       2\n",
       "73  22696  140300  1997750.0        0        0.0  2138050.0       2\n",
       "\n",
       "[74 rows x 7 columns]"
      ]
     },
     "execution_count": 255,
     "metadata": {},
     "output_type": "execute_result"
    }
   ],
   "source": [
    "label_2 = X[X['LABELS'] == 2].reset_index()\n",
    "label_2 \n"
   ]
  },
  {
   "cell_type": "markdown",
   "id": "6e55681a",
   "metadata": {},
   "source": [
    "*LABELS AND FEATURE VALUES IN EACH CLUSTER.......SHOWING EACH CLUSTER VALUE ACROSS EACH FEATURE*"
   ]
  },
  {
   "cell_type": "code",
   "execution_count": 256,
   "id": "5deffa60",
   "metadata": {},
   "outputs": [
    {
     "data": {
      "text/html": [
       "<div>\n",
       "<style scoped>\n",
       "    .dataframe tbody tr th:only-of-type {\n",
       "        vertical-align: middle;\n",
       "    }\n",
       "\n",
       "    .dataframe tbody tr th {\n",
       "        vertical-align: top;\n",
       "    }\n",
       "\n",
       "    .dataframe thead th {\n",
       "        text-align: right;\n",
       "    }\n",
       "</style>\n",
       "<table border=\"1\" class=\"dataframe\">\n",
       "  <thead>\n",
       "    <tr style=\"text-align: right;\">\n",
       "      <th></th>\n",
       "      <th>DEBT</th>\n",
       "      <th>NETWORTH</th>\n",
       "      <th>HOUSES</th>\n",
       "      <th>NFIN</th>\n",
       "      <th>ASSET</th>\n",
       "    </tr>\n",
       "    <tr>\n",
       "      <th>LABELS</th>\n",
       "      <th></th>\n",
       "      <th></th>\n",
       "      <th></th>\n",
       "      <th></th>\n",
       "      <th></th>\n",
       "    </tr>\n",
       "  </thead>\n",
       "  <tbody>\n",
       "    <tr>\n",
       "      <th>0</th>\n",
       "      <td>43302.166331</td>\n",
       "      <td>4.344652e+04</td>\n",
       "      <td>31850.435949</td>\n",
       "      <td>6.495882e+04</td>\n",
       "      <td>8.674868e+04</td>\n",
       "    </tr>\n",
       "    <tr>\n",
       "      <th>1</th>\n",
       "      <td>292352.486339</td>\n",
       "      <td>3.603760e+05</td>\n",
       "      <td>437232.240437</td>\n",
       "      <td>5.414520e+05</td>\n",
       "      <td>6.527285e+05</td>\n",
       "    </tr>\n",
       "    <tr>\n",
       "      <th>2</th>\n",
       "      <td>409956.621622</td>\n",
       "      <td>1.835190e+06</td>\n",
       "      <td>676351.351351</td>\n",
       "      <td>1.391507e+06</td>\n",
       "      <td>2.245147e+06</td>\n",
       "    </tr>\n",
       "  </tbody>\n",
       "</table>\n",
       "</div>"
      ],
      "text/plain": [
       "                 DEBT      NETWORTH         HOUSES          NFIN         ASSET\n",
       "LABELS                                                                        \n",
       "0        43302.166331  4.344652e+04   31850.435949  6.495882e+04  8.674868e+04\n",
       "1       292352.486339  3.603760e+05  437232.240437  5.414520e+05  6.527285e+05\n",
       "2       409956.621622  1.835190e+06  676351.351351  1.391507e+06  2.245147e+06"
      ]
     },
     "execution_count": 256,
     "metadata": {},
     "output_type": "execute_result"
    }
   ],
   "source": [
    "xgb = X.groupby('LABELS').mean()\n",
    "xgb.head()\n"
   ]
  },
  {
   "cell_type": "markdown",
   "id": "b8b41170",
   "metadata": {},
   "source": [
    "*HERE WE CAN SEE THAT CLUSTER 1 HAVE MORE ASSET, HOUSE VALUE, NON FINANCIAL ASSET VALUE, NETWORTH AND A LITTLE BIT OF DEBT ON AVERAGE WHILE CLUSTER 2 FOLLOWS IT WITH SINIFICANTLY LOW VALUES, CLUSTER 0 HAS THE LOWER FEATURE VALUES ON AVERAGE*"
   ]
  },
  {
   "cell_type": "code",
   "execution_count": 257,
   "id": "5646c1ed",
   "metadata": {},
   "outputs": [
    {
     "data": {
      "application/vnd.plotly.v1+json": {
       "config": {
        "plotlyServerURL": "https://plot.ly"
       },
       "data": [
        {
         "alignmentgroup": "True",
         "hovertemplate": "variable=DEBT<br>LABELS=%{x}<br>value=%{y}<extra></extra>",
         "legendgroup": "DEBT",
         "marker": {
          "color": "#636efa",
          "pattern": {
           "shape": ""
          }
         },
         "name": "DEBT",
         "offsetgroup": "DEBT",
         "orientation": "v",
         "showlegend": true,
         "textposition": "auto",
         "type": "bar",
         "x": [
          0,
          1,
          2
         ],
         "xaxis": "x",
         "y": [
          43302.16633132126,
          292352.48633879784,
          409956.6216216216
         ],
         "yaxis": "y"
        },
        {
         "alignmentgroup": "True",
         "hovertemplate": "variable=NETWORTH<br>LABELS=%{x}<br>value=%{y}<extra></extra>",
         "legendgroup": "NETWORTH",
         "marker": {
          "color": "#EF553B",
          "pattern": {
           "shape": ""
          }
         },
         "name": "NETWORTH",
         "offsetgroup": "NETWORTH",
         "orientation": "v",
         "showlegend": true,
         "textposition": "auto",
         "type": "bar",
         "x": [
          0,
          1,
          2
         ],
         "xaxis": "x",
         "y": [
          43446.51777330651,
          360375.98907103826,
          1835190.2702702703
         ],
         "yaxis": "y"
        },
        {
         "alignmentgroup": "True",
         "hovertemplate": "variable=HOUSES<br>LABELS=%{x}<br>value=%{y}<extra></extra>",
         "legendgroup": "HOUSES",
         "marker": {
          "color": "#00cc96",
          "pattern": {
           "shape": ""
          }
         },
         "name": "HOUSES",
         "offsetgroup": "HOUSES",
         "orientation": "v",
         "showlegend": true,
         "textposition": "auto",
         "type": "bar",
         "x": [
          0,
          1,
          2
         ],
         "xaxis": "x",
         "y": [
          31850.4359490275,
          437232.24043715844,
          676351.3513513514
         ],
         "yaxis": "y"
        },
        {
         "alignmentgroup": "True",
         "hovertemplate": "variable=NFIN<br>LABELS=%{x}<br>value=%{y}<extra></extra>",
         "legendgroup": "NFIN",
         "marker": {
          "color": "#ab63fa",
          "pattern": {
           "shape": ""
          }
         },
         "name": "NFIN",
         "offsetgroup": "NFIN",
         "orientation": "v",
         "showlegend": true,
         "textposition": "auto",
         "type": "bar",
         "x": [
          0,
          1,
          2
         ],
         "xaxis": "x",
         "y": [
          64958.82293762575,
          541451.9945355192,
          1391506.7567567567
         ],
         "yaxis": "y"
        },
        {
         "alignmentgroup": "True",
         "hovertemplate": "variable=ASSET<br>LABELS=%{x}<br>value=%{y}<extra></extra>",
         "legendgroup": "ASSET",
         "marker": {
          "color": "#FFA15A",
          "pattern": {
           "shape": ""
          }
         },
         "name": "ASSET",
         "offsetgroup": "ASSET",
         "orientation": "v",
         "showlegend": true,
         "textposition": "auto",
         "type": "bar",
         "x": [
          0,
          1,
          2
         ],
         "xaxis": "x",
         "y": [
          86748.68410462777,
          652728.475409836,
          2245146.891891892
         ],
         "yaxis": "y"
        }
       ],
       "layout": {
        "barmode": "group",
        "legend": {
         "title": {
          "text": "variable"
         },
         "tracegroupgap": 0
        },
        "template": {
         "data": {
          "bar": [
           {
            "error_x": {
             "color": "#2a3f5f"
            },
            "error_y": {
             "color": "#2a3f5f"
            },
            "marker": {
             "line": {
              "color": "#E5ECF6",
              "width": 0.5
             },
             "pattern": {
              "fillmode": "overlay",
              "size": 10,
              "solidity": 0.2
             }
            },
            "type": "bar"
           }
          ],
          "barpolar": [
           {
            "marker": {
             "line": {
              "color": "#E5ECF6",
              "width": 0.5
             },
             "pattern": {
              "fillmode": "overlay",
              "size": 10,
              "solidity": 0.2
             }
            },
            "type": "barpolar"
           }
          ],
          "carpet": [
           {
            "aaxis": {
             "endlinecolor": "#2a3f5f",
             "gridcolor": "white",
             "linecolor": "white",
             "minorgridcolor": "white",
             "startlinecolor": "#2a3f5f"
            },
            "baxis": {
             "endlinecolor": "#2a3f5f",
             "gridcolor": "white",
             "linecolor": "white",
             "minorgridcolor": "white",
             "startlinecolor": "#2a3f5f"
            },
            "type": "carpet"
           }
          ],
          "choropleth": [
           {
            "colorbar": {
             "outlinewidth": 0,
             "ticks": ""
            },
            "type": "choropleth"
           }
          ],
          "contour": [
           {
            "colorbar": {
             "outlinewidth": 0,
             "ticks": ""
            },
            "colorscale": [
             [
              0,
              "#0d0887"
             ],
             [
              0.1111111111111111,
              "#46039f"
             ],
             [
              0.2222222222222222,
              "#7201a8"
             ],
             [
              0.3333333333333333,
              "#9c179e"
             ],
             [
              0.4444444444444444,
              "#bd3786"
             ],
             [
              0.5555555555555556,
              "#d8576b"
             ],
             [
              0.6666666666666666,
              "#ed7953"
             ],
             [
              0.7777777777777778,
              "#fb9f3a"
             ],
             [
              0.8888888888888888,
              "#fdca26"
             ],
             [
              1,
              "#f0f921"
             ]
            ],
            "type": "contour"
           }
          ],
          "contourcarpet": [
           {
            "colorbar": {
             "outlinewidth": 0,
             "ticks": ""
            },
            "type": "contourcarpet"
           }
          ],
          "heatmap": [
           {
            "colorbar": {
             "outlinewidth": 0,
             "ticks": ""
            },
            "colorscale": [
             [
              0,
              "#0d0887"
             ],
             [
              0.1111111111111111,
              "#46039f"
             ],
             [
              0.2222222222222222,
              "#7201a8"
             ],
             [
              0.3333333333333333,
              "#9c179e"
             ],
             [
              0.4444444444444444,
              "#bd3786"
             ],
             [
              0.5555555555555556,
              "#d8576b"
             ],
             [
              0.6666666666666666,
              "#ed7953"
             ],
             [
              0.7777777777777778,
              "#fb9f3a"
             ],
             [
              0.8888888888888888,
              "#fdca26"
             ],
             [
              1,
              "#f0f921"
             ]
            ],
            "type": "heatmap"
           }
          ],
          "heatmapgl": [
           {
            "colorbar": {
             "outlinewidth": 0,
             "ticks": ""
            },
            "colorscale": [
             [
              0,
              "#0d0887"
             ],
             [
              0.1111111111111111,
              "#46039f"
             ],
             [
              0.2222222222222222,
              "#7201a8"
             ],
             [
              0.3333333333333333,
              "#9c179e"
             ],
             [
              0.4444444444444444,
              "#bd3786"
             ],
             [
              0.5555555555555556,
              "#d8576b"
             ],
             [
              0.6666666666666666,
              "#ed7953"
             ],
             [
              0.7777777777777778,
              "#fb9f3a"
             ],
             [
              0.8888888888888888,
              "#fdca26"
             ],
             [
              1,
              "#f0f921"
             ]
            ],
            "type": "heatmapgl"
           }
          ],
          "histogram": [
           {
            "marker": {
             "pattern": {
              "fillmode": "overlay",
              "size": 10,
              "solidity": 0.2
             }
            },
            "type": "histogram"
           }
          ],
          "histogram2d": [
           {
            "colorbar": {
             "outlinewidth": 0,
             "ticks": ""
            },
            "colorscale": [
             [
              0,
              "#0d0887"
             ],
             [
              0.1111111111111111,
              "#46039f"
             ],
             [
              0.2222222222222222,
              "#7201a8"
             ],
             [
              0.3333333333333333,
              "#9c179e"
             ],
             [
              0.4444444444444444,
              "#bd3786"
             ],
             [
              0.5555555555555556,
              "#d8576b"
             ],
             [
              0.6666666666666666,
              "#ed7953"
             ],
             [
              0.7777777777777778,
              "#fb9f3a"
             ],
             [
              0.8888888888888888,
              "#fdca26"
             ],
             [
              1,
              "#f0f921"
             ]
            ],
            "type": "histogram2d"
           }
          ],
          "histogram2dcontour": [
           {
            "colorbar": {
             "outlinewidth": 0,
             "ticks": ""
            },
            "colorscale": [
             [
              0,
              "#0d0887"
             ],
             [
              0.1111111111111111,
              "#46039f"
             ],
             [
              0.2222222222222222,
              "#7201a8"
             ],
             [
              0.3333333333333333,
              "#9c179e"
             ],
             [
              0.4444444444444444,
              "#bd3786"
             ],
             [
              0.5555555555555556,
              "#d8576b"
             ],
             [
              0.6666666666666666,
              "#ed7953"
             ],
             [
              0.7777777777777778,
              "#fb9f3a"
             ],
             [
              0.8888888888888888,
              "#fdca26"
             ],
             [
              1,
              "#f0f921"
             ]
            ],
            "type": "histogram2dcontour"
           }
          ],
          "mesh3d": [
           {
            "colorbar": {
             "outlinewidth": 0,
             "ticks": ""
            },
            "type": "mesh3d"
           }
          ],
          "parcoords": [
           {
            "line": {
             "colorbar": {
              "outlinewidth": 0,
              "ticks": ""
             }
            },
            "type": "parcoords"
           }
          ],
          "pie": [
           {
            "automargin": true,
            "type": "pie"
           }
          ],
          "scatter": [
           {
            "fillpattern": {
             "fillmode": "overlay",
             "size": 10,
             "solidity": 0.2
            },
            "type": "scatter"
           }
          ],
          "scatter3d": [
           {
            "line": {
             "colorbar": {
              "outlinewidth": 0,
              "ticks": ""
             }
            },
            "marker": {
             "colorbar": {
              "outlinewidth": 0,
              "ticks": ""
             }
            },
            "type": "scatter3d"
           }
          ],
          "scattercarpet": [
           {
            "marker": {
             "colorbar": {
              "outlinewidth": 0,
              "ticks": ""
             }
            },
            "type": "scattercarpet"
           }
          ],
          "scattergeo": [
           {
            "marker": {
             "colorbar": {
              "outlinewidth": 0,
              "ticks": ""
             }
            },
            "type": "scattergeo"
           }
          ],
          "scattergl": [
           {
            "marker": {
             "colorbar": {
              "outlinewidth": 0,
              "ticks": ""
             }
            },
            "type": "scattergl"
           }
          ],
          "scattermapbox": [
           {
            "marker": {
             "colorbar": {
              "outlinewidth": 0,
              "ticks": ""
             }
            },
            "type": "scattermapbox"
           }
          ],
          "scatterpolar": [
           {
            "marker": {
             "colorbar": {
              "outlinewidth": 0,
              "ticks": ""
             }
            },
            "type": "scatterpolar"
           }
          ],
          "scatterpolargl": [
           {
            "marker": {
             "colorbar": {
              "outlinewidth": 0,
              "ticks": ""
             }
            },
            "type": "scatterpolargl"
           }
          ],
          "scatterternary": [
           {
            "marker": {
             "colorbar": {
              "outlinewidth": 0,
              "ticks": ""
             }
            },
            "type": "scatterternary"
           }
          ],
          "surface": [
           {
            "colorbar": {
             "outlinewidth": 0,
             "ticks": ""
            },
            "colorscale": [
             [
              0,
              "#0d0887"
             ],
             [
              0.1111111111111111,
              "#46039f"
             ],
             [
              0.2222222222222222,
              "#7201a8"
             ],
             [
              0.3333333333333333,
              "#9c179e"
             ],
             [
              0.4444444444444444,
              "#bd3786"
             ],
             [
              0.5555555555555556,
              "#d8576b"
             ],
             [
              0.6666666666666666,
              "#ed7953"
             ],
             [
              0.7777777777777778,
              "#fb9f3a"
             ],
             [
              0.8888888888888888,
              "#fdca26"
             ],
             [
              1,
              "#f0f921"
             ]
            ],
            "type": "surface"
           }
          ],
          "table": [
           {
            "cells": {
             "fill": {
              "color": "#EBF0F8"
             },
             "line": {
              "color": "white"
             }
            },
            "header": {
             "fill": {
              "color": "#C8D4E3"
             },
             "line": {
              "color": "white"
             }
            },
            "type": "table"
           }
          ]
         },
         "layout": {
          "annotationdefaults": {
           "arrowcolor": "#2a3f5f",
           "arrowhead": 0,
           "arrowwidth": 1
          },
          "autotypenumbers": "strict",
          "coloraxis": {
           "colorbar": {
            "outlinewidth": 0,
            "ticks": ""
           }
          },
          "colorscale": {
           "diverging": [
            [
             0,
             "#8e0152"
            ],
            [
             0.1,
             "#c51b7d"
            ],
            [
             0.2,
             "#de77ae"
            ],
            [
             0.3,
             "#f1b6da"
            ],
            [
             0.4,
             "#fde0ef"
            ],
            [
             0.5,
             "#f7f7f7"
            ],
            [
             0.6,
             "#e6f5d0"
            ],
            [
             0.7,
             "#b8e186"
            ],
            [
             0.8,
             "#7fbc41"
            ],
            [
             0.9,
             "#4d9221"
            ],
            [
             1,
             "#276419"
            ]
           ],
           "sequential": [
            [
             0,
             "#0d0887"
            ],
            [
             0.1111111111111111,
             "#46039f"
            ],
            [
             0.2222222222222222,
             "#7201a8"
            ],
            [
             0.3333333333333333,
             "#9c179e"
            ],
            [
             0.4444444444444444,
             "#bd3786"
            ],
            [
             0.5555555555555556,
             "#d8576b"
            ],
            [
             0.6666666666666666,
             "#ed7953"
            ],
            [
             0.7777777777777778,
             "#fb9f3a"
            ],
            [
             0.8888888888888888,
             "#fdca26"
            ],
            [
             1,
             "#f0f921"
            ]
           ],
           "sequentialminus": [
            [
             0,
             "#0d0887"
            ],
            [
             0.1111111111111111,
             "#46039f"
            ],
            [
             0.2222222222222222,
             "#7201a8"
            ],
            [
             0.3333333333333333,
             "#9c179e"
            ],
            [
             0.4444444444444444,
             "#bd3786"
            ],
            [
             0.5555555555555556,
             "#d8576b"
            ],
            [
             0.6666666666666666,
             "#ed7953"
            ],
            [
             0.7777777777777778,
             "#fb9f3a"
            ],
            [
             0.8888888888888888,
             "#fdca26"
            ],
            [
             1,
             "#f0f921"
            ]
           ]
          },
          "colorway": [
           "#636efa",
           "#EF553B",
           "#00cc96",
           "#ab63fa",
           "#FFA15A",
           "#19d3f3",
           "#FF6692",
           "#B6E880",
           "#FF97FF",
           "#FECB52"
          ],
          "font": {
           "color": "#2a3f5f"
          },
          "geo": {
           "bgcolor": "white",
           "lakecolor": "white",
           "landcolor": "#E5ECF6",
           "showlakes": true,
           "showland": true,
           "subunitcolor": "white"
          },
          "hoverlabel": {
           "align": "left"
          },
          "hovermode": "closest",
          "mapbox": {
           "style": "light"
          },
          "paper_bgcolor": "white",
          "plot_bgcolor": "#E5ECF6",
          "polar": {
           "angularaxis": {
            "gridcolor": "white",
            "linecolor": "white",
            "ticks": ""
           },
           "bgcolor": "#E5ECF6",
           "radialaxis": {
            "gridcolor": "white",
            "linecolor": "white",
            "ticks": ""
           }
          },
          "scene": {
           "xaxis": {
            "backgroundcolor": "#E5ECF6",
            "gridcolor": "white",
            "gridwidth": 2,
            "linecolor": "white",
            "showbackground": true,
            "ticks": "",
            "zerolinecolor": "white"
           },
           "yaxis": {
            "backgroundcolor": "#E5ECF6",
            "gridcolor": "white",
            "gridwidth": 2,
            "linecolor": "white",
            "showbackground": true,
            "ticks": "",
            "zerolinecolor": "white"
           },
           "zaxis": {
            "backgroundcolor": "#E5ECF6",
            "gridcolor": "white",
            "gridwidth": 2,
            "linecolor": "white",
            "showbackground": true,
            "ticks": "",
            "zerolinecolor": "white"
           }
          },
          "shapedefaults": {
           "line": {
            "color": "#2a3f5f"
           }
          },
          "ternary": {
           "aaxis": {
            "gridcolor": "white",
            "linecolor": "white",
            "ticks": ""
           },
           "baxis": {
            "gridcolor": "white",
            "linecolor": "white",
            "ticks": ""
           },
           "bgcolor": "#E5ECF6",
           "caxis": {
            "gridcolor": "white",
            "linecolor": "white",
            "ticks": ""
           }
          },
          "title": {
           "x": 0.05
          },
          "xaxis": {
           "automargin": true,
           "gridcolor": "white",
           "linecolor": "white",
           "ticks": "",
           "title": {
            "standoff": 15
           },
           "zerolinecolor": "white",
           "zerolinewidth": 2
          },
          "yaxis": {
           "automargin": true,
           "gridcolor": "white",
           "linecolor": "white",
           "ticks": "",
           "title": {
            "standoff": 15
           },
           "zerolinecolor": "white",
           "zerolinewidth": 2
          }
         }
        },
        "title": {
         "text": "XGB: Cluster Means"
        },
        "xaxis": {
         "anchor": "y",
         "domain": [
          0,
          1
         ],
         "title": {
          "text": "Clusters"
         }
        },
        "yaxis": {
         "anchor": "x",
         "domain": [
          0,
          1
         ],
         "title": {
          "text": "Value [$]"
         }
        }
       }
      }
     },
     "metadata": {},
     "output_type": "display_data"
    }
   ],
   "source": [
    "fig = px.bar(xgb, barmode='group', title='XGB: Cluster Means')\n",
    "fig.update_layout(xaxis_title='Clusters', yaxis_title='Value [$]')\n",
    "fig.show()\n"
   ]
  },
  {
   "cell_type": "markdown",
   "id": "26caf89c",
   "metadata": {},
   "source": [
    "*PRINCIPLE COMPONENET ANALYSIS*"
   ]
  },
  {
   "cell_type": "markdown",
   "id": "6530f0fd",
   "metadata": {},
   "source": [
    "*PRINCIPLE COMPONENT ANALYSIS IS USED FOR DIMENSIONALITY REDUCTION....IT REDUCES THE FEATURES AND ALSO RETAINS MORE VALUABLE INFORMATION WHILE DOING SO*"
   ]
  },
  {
   "cell_type": "code",
   "execution_count": 258,
   "id": "8a5e6ffd",
   "metadata": {},
   "outputs": [
    {
     "name": "stdout",
     "output_type": "stream",
     "text": [
      "the shape of pca: (1931, 2)\n"
     ]
    },
    {
     "data": {
      "text/html": [
       "<div>\n",
       "<style scoped>\n",
       "    .dataframe tbody tr th:only-of-type {\n",
       "        vertical-align: middle;\n",
       "    }\n",
       "\n",
       "    .dataframe tbody tr th {\n",
       "        vertical-align: top;\n",
       "    }\n",
       "\n",
       "    .dataframe thead th {\n",
       "        text-align: right;\n",
       "    }\n",
       "</style>\n",
       "<table border=\"1\" class=\"dataframe\">\n",
       "  <thead>\n",
       "    <tr style=\"text-align: right;\">\n",
       "      <th></th>\n",
       "      <th>PC1</th>\n",
       "      <th>PC2</th>\n",
       "    </tr>\n",
       "  </thead>\n",
       "  <tbody>\n",
       "    <tr>\n",
       "      <th>0</th>\n",
       "      <td>-394195.700844</td>\n",
       "      <td>68975.730405</td>\n",
       "    </tr>\n",
       "    <tr>\n",
       "      <th>1</th>\n",
       "      <td>-393324.509016</td>\n",
       "      <td>70392.738325</td>\n",
       "    </tr>\n",
       "    <tr>\n",
       "      <th>2</th>\n",
       "      <td>-394954.569011</td>\n",
       "      <td>70111.950930</td>\n",
       "    </tr>\n",
       "    <tr>\n",
       "      <th>3</th>\n",
       "      <td>-393204.399253</td>\n",
       "      <td>70456.770490</td>\n",
       "    </tr>\n",
       "    <tr>\n",
       "      <th>4</th>\n",
       "      <td>-393715.261791</td>\n",
       "      <td>69231.859065</td>\n",
       "    </tr>\n",
       "  </tbody>\n",
       "</table>\n",
       "</div>"
      ],
      "text/plain": [
       "             PC1           PC2\n",
       "0 -394195.700844  68975.730405\n",
       "1 -393324.509016  70392.738325\n",
       "2 -394954.569011  70111.950930\n",
       "3 -393204.399253  70456.770490\n",
       "4 -393715.261791  69231.859065"
      ]
     },
     "execution_count": 258,
     "metadata": {},
     "output_type": "execute_result"
    }
   ],
   "source": [
    "pca = PCA(n_components=2, random_state=42)\n",
    "X_pca = pca.fit_transform(X)\n",
    "print('the shape of pca:', X_pca.shape)\n",
    "X_pca = pd.DataFrame(X_pca, columns=['PC1', 'PC2'])\n",
    "X_pca.head()\n"
   ]
  },
  {
   "cell_type": "markdown",
   "id": "98b21a93",
   "metadata": {},
   "source": [
    "*WE CAN SEE THAT IN CLUSTER 0 AND 1 THAT THERE ARE MANY DATA POINTS BUT LESSER DATA POINTS IN CLUSTER 2....CLUSTER 1 AND 0 ARE THE CUSTOMERS THAT EARNED LITTLE AND ALSO DON'T HAVE A LOT OF ASSET OR INCOME WHILE THE 2 HAS MORE INCOME AND ASSET*"
   ]
  },
  {
   "cell_type": "code",
   "execution_count": 259,
   "id": "316daf77",
   "metadata": {},
   "outputs": [
    {
     "data": {
      "application/vnd.plotly.v1+json": {
       "config": {
        "plotlyServerURL": "https://plot.ly"
       },
       "data": [
        {
         "hovertemplate": "color=0<br>PC1=%{x}<br>PC2=%{y}<extra></extra>",
         "legendgroup": "0",
         "marker": {
          "color": "#636efa",
          "symbol": "circle"
         },
         "mode": "markers",
         "name": "0",
         "showlegend": true,
         "type": "scattergl",
         "x": [
          -394195.70084352104,
          -393324.50901614333,
          -394954.5690113748,
          -393204.3992529986,
          -393715.2617909421,
          -218277.98222673894,
          -224596.14093066164,
          -223337.87310156002,
          -225945.9690939303,
          -225593.71456654044,
          -398661.5886211777,
          -397832.83125547896,
          -395349.9919419199,
          -396971.4737443739,
          -394389.113836762,
          -401802.0059548037,
          -394780.7369989941,
          -400660.9639581417,
          -400485.9469823041,
          -396911.8259691094,
          -394853.24671838863,
          -396349.2089215473,
          -397641.57700908824,
          -391709.2080555269,
          -390091.1590366099,
          -350804.6601660885,
          -350804.6601660885,
          -350804.6601660885,
          -350967.66616561165,
          -350804.6601660885,
          137523.18510589557,
          137523.18510589557,
          137523.18510589557,
          139153.24510112702,
          135893.1251106641,
          -430994.0530464964,
          -429040.28917250264,
          -427868.03084810637,
          -429431.0419473014,
          -432166.3113708927,
          -443257.03156985017,
          -441635.5497673961,
          -442656.4827541264,
          -442236.0985831198,
          -438392.5861624881,
          -170750.35416843995,
          -170156.66866015122,
          -169393.11384490438,
          -169633.33337119388,
          -170468.95404432758,
          -286960.4664011856,
          -286458.4932821045,
          -285105.21249371336,
          -284864.8779559822,
          -285252.5449758548,
          -25815.595280890993,
          3690.218744914746,
          -4463.972544763004,
          10493.311296009226,
          32457.633118085563,
          -439126.0135741859,
          -437738.4385509281,
          -437223.36439657863,
          -441159.6451052747,
          -438031.40159938013,
          -349005.5956868779,
          -347375.53569164645,
          -347375.53569164645,
          -347375.53569164645,
          -349005.5956868779,
          -316721.7653870576,
          -316721.7653870576,
          -316721.7653870576,
          -316721.7653870576,
          -318351.82538228907,
          -456861.02059337083,
          -457650.3122465891,
          -453735.5148380717,
          -463020.93128486234,
          -462311.8084288144,
          -395568.3137668699,
          -400470.5047288787,
          -406501.72671123495,
          -403881.6197425502,
          -406175.7147121887,
          -409392.07820769574,
          -412157.17471143196,
          -412031.43442204996,
          -413188.10652970395,
          -413639.8588181322,
          -377507.9033197819,
          -377507.9033197819,
          -377497.0934410988,
          -375710.8907537792,
          -377304.91782006726,
          -384883.5585445923,
          -385460.3956152058,
          -386295.0853790069,
          -385755.92502691044,
          -383783.4452869985,
          -399991.0287292088,
          -407978.3227058428,
          -400154.0347287319,
          -405859.2447120419,
          -406185.25671108824,
          -387625.39738836134,
          -384965.8262136222,
          -382680.307177122,
          -373594.86744020437,
          -375820.32933549304,
          -406463.4251919708,
          -352483.1772560498,
          -392958.42468160274,
          -415771.92430355784,
          -352675.3528770814,
          -165352.45685167774,
          -202330.5267765489,
          -200309.7140065187,
          -164314.29631935433,
          -198221.8523404521,
          -413508.4175956877,
          -413508.4175956877,
          -413508.4175956877,
          -413508.4175956877,
          -413508.4175956877,
          -362641.0770071646,
          -360401.8877437929,
          -354996.9484022795,
          -362083.42442781926,
          -344024.06371972966,
          -406319.7400231426,
          -406319.7400231426,
          -406319.7400231426,
          -406319.7400231426,
          -406319.7400231426,
          -389425.19553850824,
          -390672.6062075074,
          -391075.36995862063,
          -391043.2445574252,
          -391067.2665100541,
          -426996.7205302241,
          -422794.4629984715,
          -431863.5422050562,
          -412583.5489528551,
          -423696.07831121376,
          -332954.94974794425,
          -338611.92533885065,
          -342383.2423994549,
          -323526.6570964337,
          -327297.9741570379,
          -400886.94845311315,
          -400847.87317563326,
          -400723.94245359,
          -400723.94245359,
          -400723.94245359,
          -285180.93522667605,
          -259400.26268034647,
          -275241.4767835123,
          -274611.2965715807,
          -271770.7686629677,
          -407718.25187624025,
          -407877.3503480154,
          -407714.3443484922,
          -407714.3443484922,
          -407881.2578757634,
          -395790.38814298285,
          -395712.2375880231,
          -395829.46342046274,
          -395790.38814298285,
          -395907.6139754225,
          -342480.07891550974,
          -344116.1443988984,
          -340716.6420573239,
          -344116.1443988984,
          -348588.55166850355,
          -121603.27153851208,
          -118595.47808830207,
          -152593.17460816877,
          -114395.82006133295,
          -131524.65480993042,
          -423111.1979710054,
          -421644.1439752971,
          -425556.2879638525,
          -426208.3119619451,
          -426045.30596242193,
          -414293.9322056802,
          -414293.9322056802,
          -414293.9322056802,
          -414293.9322056802,
          -414293.9322056802,
          -386641.3244039632,
          -386641.3244039632,
          -385011.2644087318,
          -386641.3244039632,
          -386641.3244039632,
          -25522.12254475843,
          -26242.78112362686,
          -25312.326503833465,
          -26002.561597337422,
          -25239.006782090524,
          118815.49147651688,
          110590.86280290311,
          118940.86760893272,
          128588.72393799195,
          112854.34496603074,
          -233534.5473064419,
          -246227.92297762155,
          -217265.36866240174,
          -253610.03413716858,
          -180561.21063482005,
          -124384.5705820368,
          -124384.5705820368,
          -124221.56458251365,
          -122754.51058680535,
          -124221.56458251365,
          -218475.29965582193,
          -218475.29965582193,
          -220535.18770333202,
          -220144.43492853327,
          -218866.0524306207,
          -386307.5653466451,
          -410473.64969136706,
          -410417.50233754265,
          -396079.3523977475,
          -410468.5020224875,
          -366155.7372843674,
          -366110.6565187303,
          -365986.725796687,
          -365953.6560073644,
          -366038.51145192777,
          -413679.13835913275,
          -413679.13835913275,
          -413679.13835913275,
          -413679.13835913275,
          -413679.13835913275,
          -327691.62855233555,
          -328082.3813271343,
          -328082.3813271343,
          -329712.4413223657,
          -328082.3813271343,
          -365928.35188413283,
          -362707.3071711498,
          -364337.3671663812,
          -364337.3671663812,
          -364341.27469412924,
          650517.3850559057,
          597524.9575564456,
          465127.9656419971,
          699858.4757557653,
          390840.0771369745,
          -406263.5932661427,
          -406263.5932661427,
          -406263.5932661427,
          -406263.5932661427,
          -406263.5932661427,
          -307078.5185462063,
          -307094.81914615864,
          -305219.7885275857,
          -304829.0357527869,
          -306459.09574801836,
          -386654.44165156595,
          -393128.3578850675,
          -386774.5514147107,
          -387014.77094100014,
          -392515.7980930293,
          -239817.931627911,
          -86974.31748068373,
          -250491.7399873783,
          -152171.6027624354,
          -78349.98751681356,
          -376823.14727952844,
          -377327.6082847364,
          -362280.09223779786,
          -375390.41057420813,
          -386445.6489202734,
          -360091.5914106684,
          -360091.5914106684,
          -359505.4622484703,
          -361995.17834825895,
          -361409.04918606085,
          -381313.8982590592,
          -381313.8982590592,
          -379683.8382638277,
          -381313.8982590592,
          -379683.8382638277,
          -394418.6928242174,
          -392800.64380530047,
          -394418.6928242174,
          -394418.6928242174,
          -394418.6928242174,
          -323853.82711458224,
          -323853.82711458224,
          -325483.88710981363,
          -323463.07433978346,
          -325483.88710981363,
          -408647.3319460773,
          -408659.3429223918,
          -408647.3319460773,
          -408647.3319460773,
          -408647.3319460773,
          -331627.5622966902,
          -333350.9845895636,
          -337771.9696813394,
          -338420.89271677827,
          -338998.8041507582,
          -399015.4617094848,
          -398852.4557099617,
          -398852.4557099617,
          -398864.46668627614,
          -398852.4557099617,
          -76691.93284056528,
          -88098.44527943735,
          -101615.93226354377,
          -89223.28037896636,
          -87116.5017545505,
          -413750.9158239491,
          -413750.9158239491,
          -413750.9158239491,
          -413750.9158239491,
          -413750.9158239491,
          -417478.5673202901,
          -417478.5673202901,
          -417478.5673202901,
          -417478.5673202901,
          -417478.5673202901,
          -426208.1672025689,
          -426208.1672025689,
          -426208.1672025689,
          -426208.1672025689,
          -426208.1672025689,
          19192.71407059161,
          17030.738333986257,
          18952.494544302113,
          20582.554539533507,
          20462.44477638876,
          -163541.46774130868,
          -158098.76068643792,
          100756.17150045844,
          -48596.416714770836,
          47058.52390949038,
          -259361.52324126786,
          -263336.0998852919,
          -263336.0998852919,
          -260924.53434046288,
          -264117.6054348893,
          -378643.2493915569,
          -378643.2493915569,
          -377017.0969240734,
          -376626.3441492747,
          -378647.15691930486,
          -413027.66170744604,
          -413015.65073113155,
          -413015.65073113155,
          -413027.66170744604,
          -413015.65073113155,
          -341936.14391247794,
          -341936.14391247794,
          -341897.06863499805,
          -341936.14391247794,
          -340306.0839172465,
          -415525.82704333914,
          -414904.5301314091,
          -414982.6806863689,
          -414666.17093878187,
          -414904.5301314091,
          -396430.2278920966,
          -395190.92067166395,
          -396820.98066689534,
          -395190.92067166395,
          -396426.32036434865,
          -334967.5249795866,
          -335111.6566953603,
          -335334.71757645585,
          -335171.7115769327,
          -335334.71757645585,
          -400289.32974340644,
          -401656.9644552021,
          -401969.5666750411,
          -399660.2177759805,
          -399820.42641364795,
          -361572.1257244197,
          -361524.08181916183,
          -343509.3450374147,
          -353572.82077147125,
          -340532.34080961975,
          -49600.739606638206,
          56520.46774235449,
          40697.180591843324,
          66795.98201357719,
          -59246.81039775099,
          -379741.27148258657,
          -406105.3644928573,
          -390719.3038340159,
          -406225.47425600205,
          -384593.7059136341,
          37401.69579904649,
          33036.36638022377,
          32517.286114062066,
          35174.40498269361,
          31785.95750086772,
          -316983.33028906106,
          -305705.02352976985,
          -328621.6531891489,
          -322332.10403474723,
          -325393.1092377665,
          -371737.2666176818,
          -374345.3626100521,
          -375975.42260528356,
          -370596.2246210198,
          -357392.7386596452,
          -406347.0389968572,
          -405695.0149987646,
          -405042.99100067205,
          -403901.94900401006,
          -406021.0269978109,
          -75762.68295925413,
          -80438.59635570535,
          -89518.19595864037,
          -71542.26856550592,
          -70184.1389235906,
          -355468.1184170151,
          -355441.0541158497,
          -355480.1293933296,
          -355631.1244165383,
          -355480.1293933296,
          -396072.85398099344,
          -396084.86495730793,
          -396072.85398099344,
          -396066.84849283623,
          -394454.8049620765,
          -392050.3102013276,
          -402939.341781502,
          -388929.61936115107,
          -396940.4901870219,
          -396812.162695659,
          -376807.77207714855,
          -376644.7660776254,
          -376807.77207714855,
          -376644.7660776254,
          -375177.7120819171,
          -405588.3384074349,
          -405588.3384074349,
          -405588.3384074349,
          -405588.3384074349,
          -405588.3384074349,
          -361668.6728060658,
          -364744.72062406363,
          -362112.6026790644,
          -360368.53233762865,
          -362138.8165208858,
          -404502.62281591044,
          -398548.37933029904,
          -405938.1721122371,
          -400614.10883855727,
          -402620.10030090576,
          -429167.6847303517,
          -431007.581956105,
          -426300.7374110542,
          -440306.99033308035,
          -424209.560189685,
          -399990.5384904941,
          -392841.0388341834,
          -398384.5004478916,
          -399023.2588526005,
          -397615.7979637652,
          -403517.21307252685,
          -403397.1033093821,
          -403830.3636359147,
          -403722.26484908443,
          -403718.4438901859,
          -407260.1338576023,
          -405473.073351005,
          -407755.157344329,
          -408564.18185378745,
          -407586.1458566486,
          -398846.52943072014,
          -398846.52943072014,
          -398846.52943072014,
          -398846.52943072014,
          -398846.52943072014,
          -366399.5241586647,
          -366946.57804338296,
          -368537.5627611345,
          -368232.7755967915,
          -365735.2444415068,
          -361582.9941876787,
          -382971.34172810626,
          -373362.560676527,
          -386570.72709470056,
          -386574.63462244853,
          -38540.83663901873,
          -38501.7613615389,
          -38540.83663901873,
          -38534.831150861515,
          -38522.82017454703,
          326434.1505490655,
          328064.21054429695,
          328064.21054429695,
          326434.1505490655,
          326434.1505490655,
          -174279.2806696298,
          -141682.5917203424,
          -143988.63442165108,
          -119595.18329086824,
          -106050.62329810037,
          -298459.56725149427,
          -334511.37047866615,
          -340480.82570695976,
          -331052.20930009754,
          -340528.86961221765,
          -351017.4241598383,
          -352653.48964322696,
          -351023.4296479955,
          -352647.4841550697,
          -352647.4841550697,
          -395911.48290468403,
          -395911.48290468403,
          -395911.48290468403,
          -395911.48290468403,
          -395911.48290468403,
          -32982.98509281594,
          -46996.83692176425,
          27293.315321432718,
          50702.74056808383,
          -19939.540068791073,
          -339672.22015332273,
          -339672.22015332273,
          -338042.16015809134,
          -339672.22015332273,
          -339672.22015332273,
          -344461.62461304315,
          -346091.6846082746,
          -346091.6846082746,
          -346091.6846082746,
          -344461.62461304315,
          -412357.93096454063,
          -411397.0528593827,
          -412478.0407276854,
          -412718.2602539748,
          -412718.2602539748,
          -400143.4618427403,
          -398122.6490727101,
          -398122.6490727101,
          -399752.7090679415,
          -398122.6490727101,
          -383467.1486042112,
          -384343.0557440811,
          -382783.3312483134,
          -384218.0148561455,
          -383076.3958294125,
          -414039.467648567,
          -414039.467648567,
          -414039.467648567,
          -414039.467648567,
          -414039.467648567,
          -3124.377224164782,
          2820.615782237961,
          16455.303327281377,
          406.02699947950896,
          20229.172225692542,
          -382614.5625527556,
          -382614.5625527556,
          -382614.5625527556,
          -382614.5625527556,
          -382614.5625527556,
          -119505.73131995118,
          -117712.66532519658,
          -117875.67132471967,
          -122602.84531089087,
          -118853.70732185856,
          -399105.30131041683,
          -404484.49929468054,
          -399594.31930898625,
          -395519.1693209077,
          -398616.2833118474,
          -10205.290703198873,
          -18609.81078049465,
          -9371.631429937668,
          -14416.599686936883,
          198.47223225270864,
          -474743.55470472417,
          -475726.27659604314,
          -475549.08220695064,
          -475285.3025027316,
          -476519.7931219551,
          -91291.4718499239,
          -91252.396572444,
          -91252.396572444,
          -91011.24001796113,
          -91089.39057292091,
          -341205.60738844034,
          -339966.30016800767,
          -340781.33016562334,
          -350333.94336173637,
          -347725.8473693661,
          -402179.0321147325,
          -402179.0321147325,
          -402179.0321147325,
          -402179.0321147325,
          -402179.0321147325,
          -35590.51679206954,
          -35753.52279159264,
          -35590.51679206954,
          -35590.51679206954,
          -35753.52279159264,
          -409355.1868859221,
          -410796.50404365896,
          -410436.1747542248,
          -409835.62593850103,
          -410075.84546479053,
          -340526.598884681,
          -340526.598884681,
          -340526.598884681,
          -340526.598884681,
          -340526.598884681,
          -413583.050548617,
          -413583.050548617,
          -413583.050548617,
          -413583.050548617,
          -413583.050548617,
          -177090.68170429426,
          -177354.5327482121,
          -176433.12035553463,
          -177327.94545089675,
          -176992.09988879086,
          -350141.0879666123,
          -350141.0879666123,
          -350141.0879666123,
          -350141.0879666123,
          -349978.08196708915,
          -365097.6905558753,
          -363076.87778584514,
          -363467.63056064385,
          -363076.87778584514,
          -363076.87778584514,
          -287694.86523543636,
          -301280.4474162862,
          -280251.0104276581,
          -302414.8286829473,
          -316278.57430443616,
          -404683.4538003945,
          -404520.4478008714,
          -404520.4478008714,
          -404520.4478008714,
          -404683.4538003945,
          78082.6137817481,
          74049.49283512722,
          84859.37151815393,
          78082.6137817481,
          93696.88299056451,
          277916.4823343986,
          269311.47562435555,
          273420.9444092481,
          269749.0184405561,
          -417105.43496538466,
          -417105.43496538466,
          -416444.8312680886,
          -416376.77447059675,
          -416722.738113803,
          -386159.9227863351,
          -387361.0204177825,
          -386159.9227863351,
          -386159.9227863351,
          -387361.0204177825,
          -243474.75192910488,
          -244172.31135153014,
          -242530.2403799842,
          -244767.57640760523,
          -242881.9178773031,
          -365190.14251756005,
          -366940.31227593624,
          -367331.06505073496,
          -365701.00505550357,
          -366940.31227593624,
          -290911.1921883523,
          -323915.15584409423,
          -336466.61780737626,
          -317557.92186269164,
          -307777.56189130305,
          -365014.92975443596,
          -366657.0007259819,
          -366644.9897496674,
          -366653.09319823387,
          -365417.69350554916,
          -406264.34673354105,
          -406264.34673354105,
          -406427.35273306415,
          -406264.34673354105,
          -406264.34673354105,
          -312577.1244896123,
          -312748.2339377019,
          -312816.88224120234,
          -310955.1679429473,
          -312812.9747134544,
          175000.59416653257,
          170968.33890840627,
          168604.35323449684,
          175000.59416653257,
          164143.13561258657,
          -356327.2801229005,
          -358557.12579657417,
          -354957.265685769,
          -358497.3593080723,
          -353384.1161816434,
          -408044.6216599424,
          -408005.5463824625,
          -408005.5463824625,
          -408044.6216599424,
          -408044.6216599424,
          -377751.0564332261,
          -377751.0564332261,
          -377751.0564332261,
          -377751.0564332261,
          -377751.0564332261,
          -177384.92025512736,
          -175478.607804663,
          -176784.37143940365,
          -175545.06421897098,
          -175785.28374526044,
          -411104.70612200507,
          -411756.7301200977,
          -413060.77811628283,
          -405562.5021382182,
          -406377.5321358339,
          -59582.4419054953,
          -102920.25617889594,
          -54306.64894466486,
          -109887.9221936827,
          -107866.5174512071,
          -50200.44039785402,
          -50200.44039785402,
          -48531.30512514274,
          -48531.30512514274,
          -48531.30512514274,
          -414080.3841769519,
          -414080.3841769519,
          -414080.3841769519,
          -414080.3841769519,
          -414080.3841769519,
          -176090.0784277415,
          -175625.08238180104,
          -177383.83183938073,
          -174532.0835371839,
          -174580.1274424418,
          -341836.8318788744,
          -327280.38205792784,
          -319799.11526674224,
          -340543.9007279169,
          -323534.3103407459,
          -402345.2595945793,
          -409028.5055750282,
          -409680.52957312076,
          -407235.43958027364,
          -404953.3555869496,
          -414754.420881399,
          -416154.4259810709,
          -416193.5012585508,
          -414402.7433840802,
          -415184.2489336777,
          -413643.10543018935,
          -413655.11640650383,
          -413655.11640650383,
          -413655.11640650383,
          -413655.11640650383,
          -264774.0799253555,
          -178279.4203501497,
          -178302.86551663763,
          -220473.02839483638,
          -178275.5128224017,
          -396825.2801574932,
          -395195.22016226174,
          -395195.22016226174,
          -395195.22016226174,
          -395195.22016226174,
          -439880.8991529967,
          -440697.645542381,
          -439256.32838464406,
          -439776.7078939144,
          -440769.7114002678,
          -394828.47830059694,
          -403793.80827436986,
          -402730.9168326676,
          -407053.9282648327,
          -403669.8775523266,
          -396753.96688525274,
          -397723.42393640114,
          -397306.47028929245,
          -399789.3103560646,
          -399214.49988473835,
          -413655.11640650383,
          -413655.11640650383,
          -413655.11640650383,
          -413655.11640650383,
          -413655.11640650383,
          -387979.6961596314,
          -389605.8486271149,
          -387894.7541462186,
          -389644.9239045948,
          -388018.7714371113,
          -413619.87556671706,
          -413619.87556671706,
          -413619.87556671706,
          -413619.87556671706,
          -413619.87556671706,
          454104.514587589,
          460624.7545685148,
          458994.69457328337,
          458994.69457328337,
          454104.514587589,
          -434406.06285234867,
          -434402.15532460064,
          -434406.06285234867,
          -434282.0455614559,
          -434406.06285234867,
          -14308.552405279363,
          -14351.535210507223,
          -14390.610487987113,
          -12682.39993779594,
          -14703.212707826111,
          -413919.35788542224,
          -413919.35788542224,
          -413919.35788542224,
          -413919.35788542224,
          -413919.35788542224,
          -16372.268630422303,
          -16372.268630422303,
          -16372.268630422303,
          -16372.268630422303,
          -16372.268630422303,
          -362126.10371128924,
          -372244.4866580386,
          -363931.1806823583,
          -366539.27667472855,
          -354313.8267104928,
          -389747.84503045504,
          -389747.84503045504,
          -389914.75855772616,
          -389910.8510299782,
          -389910.8510299782,
          -417827.8898759158,
          -417788.81459843594,
          -417788.81459843594,
          -417951.82059795904,
          -417951.82059795904,
          -394230.7360501752,
          -394230.7360501752,
          -394230.7360501752,
          -394230.7360501752,
          -394067.7300506521,
          88204.69069183624,
          301524.75436994893,
          200403.28845644096,
          419446.74258832127,
          318053.4042319002,
          -349162.4831522011,
          -350792.54314743256,
          -349162.4831522011,
          -350792.54314743256,
          -349162.4831522011,
          -141869.66651347803,
          -141791.5159585183,
          -140363.5372402899,
          -141993.5972355213,
          -141400.76318371954,
          58133.623728935025,
          58133.623728935025,
          58133.623728935025,
          58133.623728935025,
          57970.617729411926,
          -279237.43829004857,
          -279404.3518173197,
          -279237.43829004857,
          -277770.38429434027,
          -277607.3782948172,
          -282642.04365254287,
          -281011.9836573114,
          -281011.9836573114,
          -282642.04365254287,
          -282251.2908777441,
          -419485.9178578915,
          -417210.5387541711,
          -417653.77658565703,
          -412587.18082123226,
          -415658.62931389944,
          -366828.3110838872,
          -364145.2324974431,
          -366042.4507077799,
          -369477.5876740804,
          -368403.46386642574,
          -399257.3968743298,
          -397790.34287862154,
          -396975.3128810058,
          -399420.40287385293,
          -398768.37887576036,
          -394765.5364754673,
          -394765.5364754673,
          -394765.5364754673,
          -394765.5364754673,
          -394602.53047594416,
          10410.249401227804,
          26056.25039119029,
          19463.085979886935,
          9718.761197080836,
          15677.9165683373,
          -405266.19292435143,
          -401517.0549353191,
          -403473.1269295968,
          -402658.0969319811,
          -390921.6649663148,
          -405688.33516458335,
          -405851.3411641065,
          -405851.3411641065,
          -405851.3411641065,
          -405851.3411641065,
          -427781.49275493354,
          -427781.49275493354,
          -427777.58522718557,
          -427781.49275493354,
          -427777.58522718557,
          -448689.30343358003,
          -448689.30343358003,
          -448689.30343358003,
          -448689.30343358003,
          -448677.29245726555,
          -387163.2761901004,
          -389136.50908921123,
          -391538.704352106,
          -379527.7280376319,
          -395141.9972464483,
          -257262.81150571833,
          -253774.48311592307,
          -254084.19451501704,
          -255714.25451024846,
          -257262.81150571833,
          -339312.24129696656,
          -342591.6980990913,
          -342678.7299597666,
          -340956.1657301008,
          -338901.8285120524,
          -465155.8691092074,
          -464675.6900071068,
          -465003.63394486724,
          -464893.0411530494,
          -464736.89846096124,
          -418976.34492124914,
          -418976.34492124914,
          -419139.3509207723,
          -419139.3509207723,
          -419139.3509207723,
          42401.05573711742,
          43015.33041449805,
          47039.007479846885,
          45717.80008525471,
          44667.69747701596,
          -405372.1290177944,
          -405209.12301827123,
          -405209.12301827123,
          -405209.12301827123,
          -405209.12301827123,
          -360496.7681525408,
          -369048.00650230533,
          -369914.4251134405,
          -368403.7960532827,
          -366547.44421763974,
          2924.4654013345134,
          3111.738340167387,
          -363902.92435853765,
          -368072.64220251364,
          -378176.70605266455,
          -361546.3967334306,
          -379410.00778494,
          -95310.07474184607,
          -94919.32196704735,
          -95310.07474184607,
          -94919.32196704735,
          -96549.38196227874,
          -218038.97167636058,
          -310054.3332200825,
          -317087.851488509,
          -287229.55969818495,
          -321751.66031029646,
          -417307.37130335096,
          -417307.37130335096,
          -417307.37130335096,
          -417307.37130335096,
          -417307.37130335096,
          -387336.8326156551,
          -387336.8326156551,
          -387336.8326156551,
          -387336.8326156551,
          -387336.8326156551,
          -362009.4752737483,
          -358749.35528328543,
          -358749.35528328543,
          -358749.35528328543,
          -358749.35528328543,
          -409063.0116494297,
          -409063.0116494297,
          -409063.0116494297,
          -409102.0869269095,
          -409063.0116494297,
          111658.97704997455,
          113289.037045206,
          114430.07904186792,
          -396330.5700707979,
          -396005.13510182267,
          -395705.36563111993,
          -396093.898074134,
          -396049.2280729429,
          -8739.55785317428,
          -8739.55785317428,
          -8727.546876859851,
          -8727.546876859851,
          -8739.55785317428,
          -299540.0822179727,
          -290983.63658806845,
          -289646.35329014866,
          -287462.4910713593,
          -285043.42384883127,
          -406152.4805072499,
          -406589.0134491322,
          -406315.48650677304,
          -406315.48650677304,
          -406589.0134491322,
          -284368.9673575041,
          -285558.05401263706,
          -281618.4537814895,
          -282206.99162089877,
          -284008.6380680699,
          46542.07055644685,
          59867.17911958083,
          -236089.80591066024,
          -265877.02717055613,
          -248100.7822251344,
          -272122.7348540827,
          -265396.58811797714,
          -283412.04969812965,
          -283412.04969812965,
          -283418.05518628686,
          -283412.04969812965,
          -283418.05518628686,
          -418516.4546458473,
          -418684.60831424996,
          -418744.66319582233,
          -417267.313109142,
          -418204.169261671,
          -373030.5843238064,
          -373030.5843238064,
          -373030.5843238064,
          -373030.5843238064,
          -373030.5843238064,
          -389646.38112214394,
          -390037.1338969427,
          -389685.4563996238,
          -387977.24584943266,
          -387742.7941845534,
          -381460.44380102603,
          -381460.44380102603,
          -379830.3838057946,
          -381421.36852354615,
          -379830.3838057946,
          -414128.13968913927,
          -414128.13968913927,
          -414124.2321613913,
          -414128.13968913927,
          -414124.2321613913,
          -367886.6171883365,
          -364638.5081741881,
          -366268.56816941954,
          -366301.6379587422,
          -364632.5026860309,
          64498.97791559616,
          64891.82865080418,
          64873.43009044265,
          64478.7697878959,
          64667.98940327659,
          -387324.4592447648,
          -388958.42676774424,
          -387328.36677251285,
          -388954.51923999627,
          -388958.42676774424,
          -460381.54564206797,
          -460303.3950871082,
          -460772.2984168667,
          -460498.7714745076,
          -459912.6423123095,
          -133266.15986568423,
          -132831.60663179547,
          -132852.58623588795,
          -134030.85004844144,
          -133735.06319544272,
          -366923.14835825097,
          -366021.5330455087,
          -366412.2858203075,
          -365750.8900338547,
          -366532.3955834522,
          -266334.17438481504,
          -266322.1634085006,
          -266497.18038433825,
          -266322.1634085006,
          -266330.26685706706,
          -412592.47560390644,
          -412598.48109206365,
          -412592.47560390644,
          -412586.47011574917,
          -412592.47560390644,
          139642.68708350597,
          138135.18427892757,
          146777.3876907854,
          130030.52666905563,
          138290.6197003525,
          58653.65387718461,
          44072.803375624004,
          50687.42080100125,
          41121.53598580038,
          50249.87798480078,
          -350548.85369435523,
          -366808.27952647884,
          -366960.99199595425,
          -357802.1536654645,
          -359020.412201745,
          -355748.9900910971,
          -355625.0593690538,
          -356015.8121438526,
          -355625.0593690538,
          -356015.8121438526,
          -407289.64727236266,
          -407466.92798637465,
          -407403.83075626584,
          -407340.73352615704,
          -407478.93896268914,
          -404834.6482577974,
          -394406.1718160642,
          -403220.5067666285,
          -396696.35925795475,
          -405637.66727909865,
          -389888.83158297476,
          -391252.93521394534,
          -391077.9182381077,
          -393492.12447731703,
          -391252.93521394534,
          -414160.36950086843,
          -414160.36950086843,
          -414160.36950086843,
          -414160.36950086843,
          -414160.36950086843,
          -409029.17789972795,
          -409029.17789972795,
          -409029.17789972795,
          -409029.17789972795,
          -409029.17789972795,
          -413966.2006930487,
          -413954.1897167342,
          -413665.92628518684,
          -413906.14581147634,
          -413786.0360483316,
          -400815.91916843323,
          -400750.09642545064,
          -401416.94323765096,
          -400906.39753537014,
          -401014.65474003175,
          -386694.1560488254,
          -386694.1560488254,
          -386694.1560488254,
          -386733.23132630525,
          -388324.2160440568,
          -358031.31926391023,
          -356401.25926867884,
          -356010.50649388006,
          -356010.50649388006,
          -356401.25926867884,
          -99418.99423589598,
          -99821.75798700924,
          -49745.02898276795,
          -111428.76945273869,
          -155882.59389023896,
          -403521.28969990293,
          -404010.30769847234,
          -404010.30769847234,
          -401565.2177056252,
          -396023.0137218383,
          -407874.72612385865,
          -407874.72612385865,
          -407711.7201243355,
          -407874.72612385865,
          -407711.7201243355,
          -335307.10442017426,
          -337702.8498547254,
          -335282.549087794,
          -330696.1240650622,
          -325650.6751708289,
          -397224.2094709133,
          -396285.65191183647,
          -394382.81587380567,
          -394112.6196730535,
          -395453.8110080044,
          -274120.3107269325,
          -296412.68276659644,
          -299811.7890635926,
          -257509.1304840147,
          -299403.41586890054,
          -415294.6776774747,
          -417347.5717105207,
          -417209.3662739886,
          -415586.45871105255,
          -415604.55438443995,
          -399072.15410560684,
          -400702.2141008383,
          -399072.15410560684,
          -400311.4613260395,
          -400702.2141008383,
          261062.04748504265,
          267599.4513836536,
          278838.29243046435,
          266398.35375220625,
          277208.2324352329,
          -368550.95531852794,
          -389904.74125605973,
          -374093.1593023148,
          -331059.57542820496,
          -383221.4952756109,
          -4480.809856172418,
          224914.5518632073,
          224914.5518632073,
          224914.5518632073,
          224914.5518632073,
          224914.5518632073,
          -413978.99439868494,
          -413982.9019264329,
          -413978.99439868494,
          -413982.9019264329,
          -413982.9019264329,
          -19424.61095500033,
          -19424.61095500033,
          -19424.61095500033,
          -19424.61095500033,
          -19424.61095500033,
          -265035.18413053424,
          -295058.7173889716,
          -275030.8104291643,
          -296829.4922988034,
          -236623.86596904858,
          -32081.55174011417,
          31314.650546383928,
          -123647.64090277645,
          43977.25158504862,
          32929.06600833614,
          -467448.3897187549,
          -451753.7086494515,
          -484365.5325614334,
          -461083.02457798354,
          -455361.59860948526,
          -384717.9521244135,
          -384551.0385971424,
          -384554.9461248904,
          -384566.6687081343,
          -384706.2295411696,
          59915.350084369886,
          64642.52407054108,
          59915.350084369886,
          85344.28600998025,
          64479.51807101787,
          -416148.33153484884,
          -420055.8592828364,
          -420055.8592828364,
          -418453.7729061615,
          -421228.11760723265,
          -412201.7882724524,
          -413186.6883302393,
          -413967.40179068013,
          -413931.36886173673,
          -413811.259098592,
          -404115.14340302185,
          -407567.44127415546,
          -405877.8011415626,
          -406838.6792467205,
          -406114.11314010405,
          -385968.67997414275,
          -361676.08433354046,
          -386088.7897372875,
          -386088.7897372875,
          -386088.7897372875,
          -369.1555471684551,
          -1999.2155423998483,
          -369.1555471684551,
          -1999.2155423998483,
          -369.1555471684551,
          -279541.51601659146,
          -279940.08384688623,
          -279928.36126364226,
          -277712.1721062127,
          -278302.2087961588,
          348380.6547480516,
          317001.1416439622,
          293976.1151133761,
          292514.20878654724,
          303624.3543453054,
          -413957.5768278159,
          -413957.5768278159,
          -413957.5768278159,
          -414120.58282733907,
          -413957.5768278159,
          -391641.81977840106,
          -389347.4800660117,
          -390586.7872864444,
          -391251.0670036023,
          -391251.0670036023,
          -239529.88410171584,
          -239517.87312540138,
          -239529.88410171584,
          -239537.98755028236,
          -239537.98755028236,
          -292791.94124852354,
          -294216.58505025995,
          -326218.02128451446,
          -341741.3313564787,
          -304709.80377417174,
          -883.2461052756407,
          4406.988323528669,
          24588.139489741297,
          10410.525058975792,
          -9346.14830127178,
          -18922.4931083633,
          -18922.4931083633,
          -18922.4931083633,
          -17520.179888407467,
          -17292.433113131847,
          4619.721004431427,
          -19537.30650084169,
          -3530.578971725772,
          817.8532159610768,
          -5539.380765441514,
          -371629.2712209703,
          -368626.5271423518,
          -375503.20712696656,
          -376503.1605096044,
          -370668.3931158124,
          186439.62908576842,
          186619.79373048543,
          187288.9756205589,
          187312.99757318787,
          187361.0414784458,
          417819.4544594704,
          419657.13383558503,
          417579.2349331809,
          413655.07996831107,
          417987.6081278731,
          -409694.00581342756,
          -429025.92388855066,
          -412265.3360358706,
          -406637.1346389043,
          -411949.7207880729,
          -415790.78752135945,
          -415790.78752135945,
          -415790.78752135945,
          -415790.78752135945,
          -415790.78752135945,
          -375287.65129574336,
          -375287.65129574336,
          -375014.1243533842,
          -376069.15684534085,
          -376069.15684534085,
          -392387.40111781657,
          -390757.3411225851,
          -390757.3411225851,
          -389127.28112735366,
          -389127.28112735366,
          -356885.02087148925,
          -354572.87461057294,
          -355237.1543277308,
          -355823.28348992893,
          -355159.00377277104,
          -404983.86073656345,
          -405146.86673608655,
          -405146.86673608655,
          -404983.86073656345,
          -405146.86673608655,
          -64598.45233874733,
          -61316.12903043779,
          -72530.73366716207,
          -59634.98278141202,
          -59974.64930241642,
          -335930.1966340726,
          -339942.25876768527,
          -339110.53265278804,
          -333534.006859335,
          -331087.5965192977,
          -414041.0680317509,
          -414131.1503541095,
          -414131.1503541095,
          -414101.1229133233,
          -413993.02412649296,
          -412621.578275644,
          -409573.7066322137,
          -410745.96495660994,
          -409730.0077421332,
          -410785.0402340898,
          -373099.6754049416,
          -371536.66430574656,
          -372155.16385582095,
          -371536.66430574656,
          -371764.4110810222,
          -419430.6548431584,
          -421931.4726018704,
          -418336.5470737218,
          -419586.9559530779,
          -422322.22537666914,
          -468946.73987659864,
          -469942.23738793965,
          -466843.4054988053,
          -468012.3777290573,
          -463940.65675845055,
          -414851.1082904585,
          -414855.01581820654,
          -414851.1082904585,
          -414855.01581820654,
          -414851.1082904585,
          -389449.6665616781,
          -390038.20440108737,
          -390002.17147214396,
          -389197.4360590742,
          -389317.54582221893,
          -413686.01514536235,
          -413770.0919795637,
          -413746.0700269347,
          -413698.02612167684,
          -413788.1084440354,
          -371233.03056394955,
          -371272.1058414294,
          -371662.85861622816,
          -370881.35306663066,
          -371148.08855053666,
          -420602.8145127944,
          -420602.8145127944,
          -420602.8145127944,
          -420602.8145127944,
          -420602.8145127944,
          -160715.2085394553,
          -169928.4842127578,
          -162481.6788977838,
          -166925.74013413925,
          -173102.814743316,
          -179946.9854225939,
          -179946.9854225939,
          -179934.9744462794,
          -179946.9854225939,
          -179934.9744462794,
          -340782.6575281969,
          -339152.59753296553,
          -340782.6575281969,
          -339152.59753296553,
          -339152.59753296553,
          -356368.4389201656,
          -358456.1171129785,
          -379310.60477844265,
          -369521.65908214625,
          -373589.9472692159,
          -375267.77682751627,
          -374667.2280117925,
          -375387.886590661,
          -374186.7889592136,
          -374667.2280117925,
          -379235.1129159361,
          -379235.1129159361,
          -380865.17291116755,
          -380865.17291116755,
          -379235.1129159361,
          309509.2381066647,
          215823.62285376637,
          606180.353074176,
          -90456.27316532441,
          -397609.0784037928,
          -397609.0784037928,
          -397609.0784037928,
          -397609.0784037928,
          -397609.0784037928,
          -372975.67409826134,
          -375954.39622425096,
          -372901.8956146712,
          -382258.43637187703,
          -366023.03897001455,
          -227947.7462369958,
          -250575.64860062127,
          -226050.0767303792,
          -250563.63762430678,
          -250563.63762430678,
          -570557.1085185381,
          -576511.8881099767,
          -567877.5356707204,
          -571169.8306955564,
          -580741.5066065378
         ],
         "xaxis": "x",
         "y": [
          68975.73040487431,
          70392.73832495953,
          70111.95093000555,
          70456.7704898921,
          69231.85906460455,
          37921.054157106126,
          36942.07124282111,
          37486.88619739539,
          37037.62636546902,
          36715.55484283097,
          70090.86051459415,
          70532.68245262883,
          71268.09821860398,
          70403.66399201442,
          71780.35553806445,
          79634.08799420488,
          80847.87700900025,
          79830.63917067266,
          79865.12112666131,
          80476.45017906681,
          38488.39332094101,
          29482.146633055127,
          25935.476687057628,
          47785.03222852075,
          48059.41640698148,
          8155.202965760662,
          8155.202965760662,
          8155.202965760662,
          8127.124226265252,
          8155.202965760662,
          143846.07369258796,
          143846.07369258796,
          143846.07369258796,
          144126.86108754197,
          143565.28629763398,
          26444.273734234404,
          32248.670036009316,
          35731.30781707426,
          31087.790775654335,
          22961.63595316946,
          -12766.219650731495,
          -11901.785424141926,
          -12446.058826068693,
          -12221.946248804728,
          -10172.916970962833,
          -94789.6805641743,
          -94414.35666459457,
          -94066.1171004364,
          -94194.1814303015,
          -94580.84029341927,
          53197.54288581309,
          54703.48431602794,
          58223.805661328166,
          59306.16307604623,
          57668.9788971237,
          114358.20084324453,
          118588.0569946308,
          105552.82307631515,
          120406.01572546305,
          119611.14226411567,
          -56144.2284887483,
          -47167.187587984314,
          -51252.96627027885,
          -54203.972070330594,
          -49238.02302507433,
          72991.7990406346,
          73272.58643558859,
          73272.58643558859,
          73272.58643558859,
          72991.7990406346,
          101428.49896530736,
          101428.49896530736,
          101428.49896530736,
          101428.49896530736,
          101147.71157035336,
          -270912.5736078024,
          -270745.1358482285,
          -269644.0308145732,
          -271843.6266928207,
          -270322.5072505296,
          80486.83101185554,
          79638.06561050034,
          78599.15224917061,
          79054.81529759023,
          78655.30972816142,
          64899.251486425266,
          64425.11452325013,
          64357.121313670505,
          64114.134966788515,
          64125.97069737735,
          59453.0552925708,
          59453.0552925708,
          59458.81818741473,
          59822.84739678104,
          59561.26965130683,
          63641.66855356524,
          66475.23918460925,
          64039.39670572745,
          61520.80553718425,
          66895.33209080582,
          61529.39173116534,
          60153.53349589084,
          61501.31299166994,
          60518.55710933101,
          60462.39963034022,
          83362.69709191234,
          83604.11105715751,
          85822.5266293965,
          87430.88946657594,
          86479.75314797783,
          -24868.04738399692,
          -15511.220679227044,
          -22383.631573731647,
          -25712.996262354995,
          -15613.67214311914,
          120289.67630205948,
          133604.2433246917,
          135045.90998000067,
          132497.7733760563,
          132124.84698884367,
          76345.31505823524,
          76345.31505823524,
          76345.31505823524,
          76345.31505823524,
          76345.31505823524,
          99746.63127284644,
          100999.19583200224,
          103880.64325396743,
          100102.74552294641,
          109671.61683739319,
          78477.56569085225,
          78477.56569085225,
          78477.56569085225,
          78477.56569085225,
          78477.56569085225,
          67465.77032299957,
          68351.06776451085,
          67183.78528766261,
          67191.38614453883,
          67178.57971155233,
          -6621.917940383602,
          -8191.8910650406615,
          -14931.868966097245,
          1061.9418515235593,
          -10577.681750683201,
          70219.41622206029,
          70700.20103774082,
          71020.7242481945,
          69418.10819592606,
          69738.63140637975,
          74003.1231222463,
          74119.2110482818,
          74031.20186174169,
          74031.20186174169,
          74031.20186174169,
          15234.647070149149,
          19134.466825118987,
          16935.841386764878,
          16319.235528336649,
          18562.24718962898,
          78132.07651442874,
          78115.6065675369,
          78143.6853070323,
          78143.6853070323,
          78103.99777493335,
          70193.12714393206,
          70425.30299600305,
          70077.03921789656,
          70193.12714393206,
          69844.86336582557,
          63756.31352669152,
          63472.324523490905,
          66237.20951540652,
          63472.324523490905,
          43465.59639212598,
          -132263.81997491932,
          -133406.07653448777,
          -152595.21742481634,
          -126785.38863820366,
          -138315.09657780803,
          18681.736411888633,
          18934.44506734721,
          18260.555319457657,
          18148.24036147607,
          18176.319100971465,
          75212.1237367455,
          75212.1237367455,
          75212.1237367455,
          75212.1237367455,
          75212.1237367455,
          64065.65638401951,
          64065.65638401951,
          64346.443778973495,
          64065.65638401951,
          64065.65638401951,
          -126551.50167595323,
          -126935.69466554855,
          -127392.2201116454,
          -126807.63033568345,
          -126459.39077152523,
          -115342.27451204277,
          -125159.49060571937,
          -114992.60679696153,
          -109753.94567632124,
          -118142.15928248655,
          49943.925268870385,
          34363.32967825915,
          58919.69883569385,
          40417.84738840407,
          78489.55920251021,
          -56457.45154912917,
          -56457.45154912917,
          -56429.37280963377,
          -56176.66415417519,
          -56429.37280963377,
          -8754.332420055289,
          -8754.332420055289,
          -10312.087001399748,
          -9151.207741044767,
          -9915.211680410284,
          83353.55962796068,
          70470.28804352968,
          70490.69533339242,
          78202.90769386051,
          70531.85433493987,
          91781.78084921477,
          91901.0703834969,
          91813.0611969568,
          91925.94751474567,
          92130.04462732127,
          77302.12141996292,
          77302.12141996292,
          77302.12141996292,
          77302.12141996292,
          77302.12141996292,
          75126.96216344324,
          73966.08290308825,
          73966.08290308825,
          73685.29550813427,
          73966.08290308825,
          56861.40778011337,
          57306.894643985834,
          57026.107249031855,
          57026.107249031855,
          57014.49845642831,
          644639.9091554278,
          616388.9179871825,
          545806.262582022,
          670944.3225097234,
          506202.3685712339,
          81179.24530495322,
          81179.24530495322,
          81179.24530495322,
          81179.24530495322,
          81179.24530495322,
          15043.935879319957,
          15041.128005370425,
          14270.543224001463,
          15431.422484356452,
          15150.635089402465,
          91709.35852978883,
          88258.02483992388,
          91645.32636485629,
          91517.26203499116,
          88584.58888107992,
          88798.98769986434,
          167046.8084231751,
          84814.47176868677,
          137759.68573919873,
          163633.35382118914,
          53423.21373223788,
          53154.27863952113,
          55650.57619991741,
          53539.983371889575,
          51705.001810599206,
          41216.99219196783,
          41216.99219196783,
          42958.3110825003,
          40123.58931476536,
          41864.90820529784,
          65041.02951441918,
          65041.02951441918,
          65321.816909373156,
          65041.02951441918,
          65321.816909373156,
          80511.48974707928,
          80785.87392554,
          80511.48974707928,
          80511.48974707928,
          80511.48974707928,
          67215.63452611821,
          67215.63452611821,
          66934.84713116424,
          68376.5137864732,
          66934.84713116424,
          63332.336777195254,
          63325.933560702,
          63332.336777195254,
          63332.336777195254,
          63332.336777195254,
          60216.89935000855,
          59219.54472020492,
          42711.59954025586,
          39449.13699348399,
          42586.9552146624,
          79884.37104946567,
          79912.44978896106,
          79912.44978896106,
          79906.0465724678,
          79912.44978896106,
          -41648.1093061632,
          -43602.01227823751,
          -45926.144439862284,
          -43808.97460692588,
          -43421.93104866159,
          77235.278959686,
          77235.278959686,
          77235.278959686,
          77235.278959686,
          77235.278959686,
          65750.9577648524,
          65750.9577648524,
          65750.9577648524,
          65750.9577648524,
          65750.9577648524,
          30710.309688931076,
          30710.309688931076,
          30710.309688931076,
          30710.309688931076,
          30710.309688931076,
          -90355.05045112014,
          -91507.6294199062,
          -90483.11478098524,
          -90202.32738603126,
          -90266.35955096381,
          -93078.91090804937,
          -86485.89904975852,
          48244.957385407004,
          -34249.71164836807,
          17323.945759447706,
          41452.66401900135,
          34206.60106191748,
          34206.60106191748,
          36809.146977581426,
          31884.842541207516,
          62873.6243930542,
          62873.6243930542,
          63142.80299540463,
          64303.68225575961,
          62862.01560045065,
          77363.6634974248,
          77370.06671391806,
          77370.06671391806,
          77363.6634974248,
          77370.06671391806,
          69163.8066113237,
          69163.8066113237,
          69279.8945373592,
          69163.8066113237,
          69444.59400627768,
          71259.51366084983,
          73105.31168481425,
          72873.13583274325,
          73813.44803363079,
          73105.31168481425,
          69165.73841186614,
          68285.64654646514,
          68004.85915151116,
          68285.64654646514,
          69177.34720446968,
          66009.15287248853,
          65932.31427456945,
          65872.21945260778,
          65900.29819210318,
          65872.21945260778,
          72223.66465931744,
          68160.587248075,
          67231.88383979101,
          74092.68026848896,
          73616.71977174342,
          86316.86826743418,
          86342.4811334072,
          89475.96499335377,
          87699.12971920194,
          89945.42887883377,
          48202.108331622,
          80522.04785072822,
          92838.1535148366,
          90843.92334018585,
          31774.05064249844,
          92865.5185961449,
          78810.45839344806,
          87012.97872130896,
          78746.4262285155,
          90278.6191328695,
          -12458.16114718678,
          -20865.10336462564,
          -26969.15190162405,
          -19075.17293121018,
          -24579.916997761582,
          46211.54124161742,
          52224.161528784774,
          43967.38223752491,
          46665.47999421813,
          47117.4087565737,
          54468.6692802811,
          54019.40944835474,
          53738.62205340076,
          54665.22045674889,
          56939.59835587612,
          69708.20373148793,
          69820.51868946952,
          69932.83364745112,
          70129.3848239189,
          69764.36121047873,
          -140354.63281669817,
          -151611.01149635704,
          -169215.82286295568,
          -119910.70739709713,
          -138714.2233696346,
          23148.765762618532,
          23258.450472160774,
          23142.362546125274,
          23120.687023123137,
          23142.362546125274,
          80027.34097427396,
          80020.9377577807,
          80027.34097427396,
          80030.54258252057,
          80301.72515273468,
          74008.29650923856,
          72679.38185372898,
          65031.79652396612,
          73165.9343243766,
          78109.10360102005,
          82701.22431794615,
          82729.30305744155,
          82701.22431794615,
          82729.30305744155,
          82982.01171290013,
          78500.55510334179,
          78500.55510334179,
          78500.55510334179,
          78500.55510334179,
          78500.55510334179,
          87202.02857982769,
          86748.11082992212,
          87210.177094835,
          87415.04970318734,
          87069.03250291783,
          53617.34030757884,
          56315.347521948395,
          52280.49110204025,
          55595.10417483804,
          54144.657130734624,
          31990.240996315973,
          25675.010416632496,
          31899.291902729754,
          -7954.795938934985,
          36062.33069039362,
          65650.69925781412,
          69826.53935574337,
          65918.68021978159,
          67118.93290984539,
          66328.48607534997,
          62796.9098294725,
          62860.94199440505,
          62715.695684600025,
          62773.32463303932,
          62621.28328156666,
          78312.4789764226,
          78618.14350262536,
          78225.04114968979,
          78087.84906045943,
          78256.32149743181,
          79725.09645234286,
          79725.09645234286,
          79725.09645234286,
          79725.09645234286,
          79725.09645234286,
          4085.719526093395,
          2460.488561596416,
          2295.7890926779364,
          3201.274915754824,
          6059.214268696858,
          74021.5271785193,
          64817.1576950301,
          69939.73088963487,
          62907.801539656866,
          62896.19274705331,
          -149083.7068944631,
          -148967.6189684276,
          -149083.7068944631,
          -149080.5052862165,
          -149074.1020697232,
          207553.5514654447,
          207834.33886039874,
          207834.33886039874,
          207553.5514654447,
          207553.5514654447,
          -31872.080607209326,
          -34308.383153869145,
          -34372.23412590627,
          -36519.66715878779,
          -36880.28857053208,
          133903.85392139613,
          114742.96430005191,
          111560.5657029037,
          116587.09065010963,
          111534.95283693066,
          -40657.54732288506,
          -40941.53632608567,
          -40660.748931131675,
          -40938.33471783904,
          -40938.33471783904,
          81186.21280574436,
          81186.21280574436,
          81186.21280574436,
          81186.21280574436,
          81186.21280574436,
          -13335.30798413331,
          -21361.141252823174,
          18588.55066254909,
          23924.209979597035,
          -7524.744541646316,
          74566.84988723915,
          74566.84988723915,
          74847.63728219314,
          74566.84988723915,
          74566.84988723915,
          99497.42938282905,
          99216.64198787507,
          99216.64198787507,
          99216.64198787507,
          99497.42938282905,
          78006.47523422107,
          78518.73255368155,
          77942.44306928852,
          77814.3787394234,
          77814.3787394234,
          63647.364711115086,
          65089.031366424046,
          65089.031366424046,
          64808.24397147007,
          65089.031366424046,
          62766.707698225066,
          64726.417275756205,
          64798.246403846286,
          65097.8986390698,
          63927.586958580054,
          77110.02492516524,
          77110.02492516524,
          77110.02492516524,
          77110.02492516524,
          77110.02492516524,
          -113773.09097903188,
          -93830.27347236768,
          -108978.73541960887,
          -120163.80488397407,
          -120576.64616081475,
          83084.60115105196,
          83084.60115105196,
          83084.60115105196,
          83084.60115105196,
          83084.60115105196,
          55300.299251488526,
          55609.165385937915,
          55581.08664644252,
          54766.80320107598,
          55412.61420947012,
          75855.46178511193,
          74928.86338176379,
          75771.22556662574,
          76473.19405401069,
          75939.69800359813,
          50348.11965242181,
          41527.466604964,
          45553.18946430948,
          49561.88565166303,
          49913.280457996334,
          -126561.72482141781,
          -127802.90295728807,
          -128896.28977511429,
          -127744.27960477491,
          -130131.06469449132,
          52304.00038895442,
          52420.08831498992,
          52420.08831498992,
          52680.34290655631,
          52448.16705448531,
          64869.022258812896,
          63988.930393411894,
          63848.536695934905,
          63296.61284707061,
          63745.87267899698,
          78362.88258401603,
          78362.88258401603,
          78362.88258401603,
          78362.88258401603,
          78362.88258401603,
          12406.102050540947,
          12378.023311045537,
          12406.102050540947,
          12406.102050540947,
          12378.023311045537,
          79607.27935753507,
          78838.89337834435,
          79030.98987314203,
          79351.15069780483,
          79223.08636793972,
          49061.73716896915,
          49061.73716896915,
          49061.73716896915,
          49061.73716896915,
          49061.73716896915,
          77353.34715190897,
          77353.34715190897,
          77353.34715190897,
          77353.34715190897,
          77353.34715190897,
          -101618.70978000776,
          -101266.4087712863,
          -101363.41114943441,
          -101813.54597739335,
          -100623.11650809446,
          103351.80325184789,
          103351.80325184789,
          103351.80325184789,
          103351.80325184789,
          103379.88199134328,
          50498.15397639083,
          51939.82063169978,
          50778.9413713448,
          51939.82063169978,
          51939.82063169978,
          87166.13735197198,
          84038.6951609944,
          94085.18417805186,
          83567.29982461175,
          84701.88641684545,
          68219.38069360047,
          68247.45943309586,
          68247.45943309586,
          68247.45943309586,
          68219.38069360047,
          85538.59246804191,
          82340.66033367465,
          88103.55517760503,
          85538.59246804191,
          93862.77390927468,
          189250.08990329475,
          184603.82060271327,
          186265.23688668816,
          184895.90268788068,
          67855.00692479167,
          67855.00692479167,
          68207.18383192075,
          69434.17033010052,
          69135.42472817584,
          85306.62065146049,
          84666.29900213488,
          85306.62065146049,
          85306.62065146049,
          84666.29900213488,
          -41378.63592237473,
          -39315.98927361659,
          -39028.79866216934,
          -39913.32839126198,
          -40073.58999648882,
          48636.62630892605,
          48291.806749039504,
          47130.92748868452,
          47411.7148836385,
          48291.806749039504,
          21173.907185975462,
          14390.87681004763,
          12228.81386890199,
          15485.947650368144,
          17170.672020092024,
          38604.23582981765,
          38317.045218370404,
          38323.44843486367,
          38328.65401097395,
          37436.9533529694,
          73198.19885979542,
          73198.19885979542,
          73170.12012030002,
          73198.19885979542,
          73198.19885979542,
          33970.734339973234,
          33947.86117658812,
          32831.53060262039,
          34256.7273110375,
          32843.13939522394,
          -1645.3494087945146,
          -3206.7801023997017,
          -6007.836915777472,
          -1645.3494087945146,
          -7209.733355011034,
          55857.52228763965,
          54649.7096511802,
          55980.62455102816,
          54710.14889496387,
          56847.86907296208,
          63073.46808970007,
          63189.55601573557,
          63189.55601573557,
          63073.46808970007,
          63073.46808970007,
          84310.45039794475,
          84310.45039794475,
          84310.45039794475,
          84310.45039794475,
          84310.45039794475,
          108433.04476443106,
          108861.10613872993,
          108753.20558909385,
          107873.11372369285,
          107745.04939382774,
          55917.528966005906,
          55805.21400802431,
          55580.58409206114,
          56872.20610884944,
          56731.812411372455,
          -54338.923916853746,
          -80595.89360327124,
          -50702.38263912134,
          -80214.4286588891,
          -85845.25498979744,
          -160529.03232100682,
          -160529.03232100682,
          -160132.15700001735,
          -160132.15700001735,
          -160132.15700001735,
          76897.69904422334,
          76897.69904422334,
          76897.69904422334,
          76897.69904422334,
          76897.69904422334,
          -34212.721286896456,
          -34141.2915013968,
          -34725.97301043081,
          -33558.5988005105,
          -33584.21166648352,
          104166.42657849146,
          110311.5672891265,
          112232.38695341349,
          106811.79765950021,
          112540.38342253739,
          76719.43413682858,
          75568.20581751726,
          75455.89085953566,
          75877.07195196663,
          76270.1743049022,
          39184.692639383495,
          34569.25433745896,
          34453.166411423466,
          40229.483973702976,
          37907.725452993014,
          77321.33106944269,
          77314.92785294943,
          77314.92785294943,
          77314.92785294943,
          77314.92785294943,
          148179.6665629132,
          194329.26048477032,
          194259.60772914902,
          171913.14160408615,
          194340.8692773739,
          62334.76581319167,
          62615.55320814565,
          62615.55320814565,
          62615.55320814565,
          62615.55320814565,
          -1945.5799004877044,
          -2380.998622029132,
          -1612.6126428384014,
          -1899.5597446519678,
          -2419.4179209886643,
          79018.2604554183,
          77473.92978317142,
          77438.3051075682,
          76912.35499326346,
          77385.92059663132,
          80854.71701754356,
          80514.35213932712,
          81383.67783963685,
          80236.50768327016,
          80248.83705088204,
          77314.92785294943,
          77314.92785294943,
          77314.92785294943,
          77314.92785294943,
          77314.92785294943,
          10534.726900133755,
          10265.54829778333,
          10494.279931634373,
          10149.460371747831,
          10418.638974098256,
          75428.58805378087,
          75428.58805378087,
          75428.58805378087,
          75428.58805378087,
          75428.58805378087,
          212944.90861087764,
          214068.0581906936,
          213787.2707957396,
          213787.2707957396,
          212944.90861087764,
          13089.739383944405,
          13101.348176547952,
          13089.739383944405,
          13165.380341480515,
          13089.739383944405,
          -191371.17485238187,
          -191498.87157102092,
          -191614.95949705644,
          -191101.99625003152,
          -192543.66290534043,
          77174.0570900978,
          77174.0570900978,
          77174.0570900978,
          77174.0570900978,
          77174.0570900978,
          -59891.09638791367,
          -59891.09638791367,
          -59891.09638791367,
          -59891.09638791367,
          -59891.09638791367,
          92015.67302239638,
          90268.38795718846,
          91700.40367145375,
          91251.14383952739,
          93357.04930168223,
          59860.86468495492,
          59860.86468495492,
          59821.17715285598,
          59832.78594545952,
          59832.78594545952,
          40325.300327061064,
          40441.38825309656,
          40441.38825309656,
          40413.309513601154,
          40413.309513601154,
          81412.37683732646,
          81412.37683732646,
          81412.37683732646,
          81412.37683732646,
          81440.45557682186,
          140804.73809287787,
          178468.8980230025,
          165965.99093699316,
          201121.42042331758,
          186669.14372386702,
          61579.66605635499,
          61298.87866140101,
          61579.66605635499,
          61298.87866140101,
          61579.66605635499,
          -41547.9168664607,
          -41315.7410143897,
          -41179.120284966615,
          -41459.907679920594,
          -40154.86175403472,
          -172706.3546717707,
          -172706.3546717707,
          -172706.3546717707,
          -172706.3546717707,
          -172734.43341126613,
          92904.0547197172,
          92864.36718761825,
          92904.0547197172,
          93156.76337517578,
          93184.84211467118,
          115089.06313784696,
          115369.85053280093,
          115369.85053280093,
          115089.06313784696,
          116249.94239820194,
          18734.754208545128,
          19564.129526127297,
          19159.70826903,
          19157.60326409415,
          19612.741069010277,
          75871.39171086004,
          76242.98179706815,
          75937.41268394033,
          75341.35593804372,
          75561.05410696215,
          79873.03608592767,
          80125.74474138624,
          80266.13843886323,
          79844.95734643226,
          79957.27230441385,
          80413.06248627677,
          80413.06248627677,
          80413.06248627677,
          80413.06248627677,
          80441.14122577217,
          -9954.925345435651,
          -7907.781085169845,
          -9422.739671173273,
          -9852.991220242795,
          -9264.251548264132,
          77985.43470216118,
          78631.24571055533,
          78294.30083661055,
          78434.69453408754,
          80456.3637777562,
          73211.16854905662,
          73183.08980956122,
          73183.08980956122,
          73183.08980956122,
          73183.08980956122,
          15697.402038617627,
          15697.402038617627,
          15709.010831221174,
          15697.402038617627,
          15709.010831221174,
          -27235.886004160115,
          -27235.886004160115,
          -27235.886004160115,
          -27235.886004160115,
          -27229.482787666857,
          36163.052677655396,
          34522.875124632585,
          33242.23182598139,
          39645.44831923735,
          31321.2668780046,
          -18078.043558480495,
          -17477.158533278955,
          -17530.508138320234,
          -17811.295533274213,
          -18078.043558480495,
          -19615.534883440516,
          -19528.964797828623,
          -19095.261055369396,
          -16729.525208079474,
          -17469.223376003472,
          -78908.37674757892,
          -77833.18198575453,
          -78836.74372577011,
          -77834.74723736358,
          -77751.50542295123,
          736.9461905890348,
          736.9461905890348,
          708.8674510936398,
          708.8674510936398,
          708.8674510936398,
          148878.54545013094,
          148676.62573456834,
          150821.7032598091,
          150117.34944555094,
          149498.70331922747,
          76853.74658148429,
          76881.82532097968,
          76881.82532097968,
          76881.82532097968,
          76881.82532097968,
          92084.9377880544,
          87469.00132222136,
          87700.10363550179,
          88381.60747577892,
          89504.61304621701,
          -222897.2862374339,
          -222311.6410311461,
          50886.466792338775,
          56731.794382899374,
          49523.46110635456,
          57858.14557096192,
          50406.75458000219,
          -18162.54941832031,
          -17001.67015796533,
          -18162.54941832031,
          -17001.67015796533,
          -17282.45755291931,
          67710.7823354004,
          30919.65988286237,
          6809.673171133021,
          49668.406445836896,
          10229.226854312903,
          65937.48107231372,
          65937.48107231372,
          65937.48107231372,
          65937.48107231372,
          65937.48107231372,
          79578.84528503576,
          79578.84528503576,
          79578.84528503576,
          79578.84528503576,
          79578.84528503576,
          66161.52110046106,
          66723.09589036902,
          66723.09589036902,
          66723.09589036902,
          66723.09589036902,
          61782.8490002571,
          61782.8490002571,
          61782.8490002571,
          61666.7610742216,
          61782.8490002571,
          -120245.44334185221,
          -119964.65594689823,
          -119768.10477043044,
          78251.53961548071,
          79674.55995142905,
          80108.94643204869,
          79867.04827140109,
          79087.3726829363,
          133933.16535755177,
          133933.16535755177,
          133939.56857404503,
          133939.56857404503,
          133933.16535755177,
          45375.40412150316,
          45907.61886946915,
          43567.55273312522,
          53147.722919525855,
          45354.64314713865,
          71798.26234685925,
          70957.56812511536,
          71770.18360736386,
          71770.18360736386,
          70957.56812511536,
          146239.15018635662,
          145605.23175352428,
          147705.48676331225,
          147391.7291551427,
          146431.2466811543,
          -199630.9406937012,
          -191977.12055328395,
          83372.6006052875,
          67492.62370201272,
          76969.38411203153,
          64162.95112551961,
          67748.75236174295,
          137223.6602625755,
          137223.6602625755,
          137220.45865432883,
          137223.6602625755,
          137220.45865432883,
          60530.08419312068,
          60440.439162215094,
          60408.42307974881,
          61196.018708419295,
          60696.567821945326,
          87208.024369524,
          87208.024369524,
          87208.024369524,
          87208.024369524,
          87208.024369524,
          65461.77734618647,
          64300.89808583149,
          65345.68942015097,
          65858.65266717595,
          66555.18022338893,
          16270.222918864223,
          16270.222918864223,
          16551.010313818202,
          16386.310844899723,
          16551.010313818202,
          76843.66301693293,
          76843.66301693293,
          76855.27180953647,
          76843.66301693293,
          76855.27180953647,
          72939.83193989395,
          73495.00351330866,
          73214.21611835469,
          73101.32980056581,
          73498.20512155528,
          -127947.56512179151,
          -126795.09304579346,
          -126789.49373538607,
          -127961.98178834461,
          -127916.28477404949,
          59300.528290240814,
          59008.13210268329,
          59288.91949763727,
          59019.740895286835,
          59008.13210268329,
          -60569.61503128633,
          -60337.43917921533,
          -61730.4942916413,
          -60917.878809392816,
          -59176.55991886034,
          -47294.480237405776,
          -46205.506709282825,
          -46121.434865713614,
          -49607.274255025186,
          -48687.53534983177,
          51242.05698968367,
          53627.847675326186,
          52466.968414971205,
          54724.69477074861,
          52402.93625003865,
          -67290.1150041764,
          -67283.71178768315,
          -67318.1937436718,
          -67283.71178768315,
          -67278.50621157287,
          67591.33220406974,
          67588.13059582311,
          67591.33220406974,
          67594.53381231637,
          67591.33220406974,
          -10796.030940359968,
          7534.979510904828,
          9562.42987177003,
          -17380.85083080946,
          6362.829774284706,
          -178086.2844885841,
          -186438.2305669221,
          -182264.84515609225,
          -187423.37177613424,
          -182556.92724125966,
          100761.34968703394,
          94493.16392101694,
          93600.00722740224,
          98754.43212955631,
          96810.87780115267,
          90042.84552536756,
          89954.83633882746,
          88793.95707847248,
          89954.83633882746,
          88793.95707847248,
          73166.94831921314,
          72786.66845864037,
          72915.56281766239,
          73044.45717668439,
          72780.26524214711,
          73905.60638493355,
          75691.03692003548,
          74168.38177079073,
          75303.1401432102,
          73771.61590394982,
          86926.31690262497,
          86257.91651380397,
          86292.39846979264,
          85005.35195464818,
          86257.91651380397,
          75140.44331158436,
          75140.44331158436,
          75140.44331158436,
          75140.44331158436,
          75140.44331158436,
          78016.41927495974,
          78016.41927495974,
          78016.41927495974,
          78016.41927495974,
          78016.41927495974,
          77149.08454577411,
          77155.48776226737,
          77309.16495810551,
          77181.10062824038,
          77245.13279317295,
          61202.897840397665,
          60666.450696516076,
          59739.40734654587,
          60202.098992374085,
          59763.36015420511,
          57981.46038171284,
          57981.46038171284,
          57981.46038171284,
          57865.37245567734,
          57700.67298675886,
          50028.74719838818,
          50309.534593342156,
          51470.413853697144,
          51470.413853697144,
          50309.534593342156,
          63534.00672504645,
          62366.7242481982,
          89427.66009302429,
          57131.430553439815,
          33432.48599025016,
          79658.66618277945,
          79574.42996429326,
          79574.42996429326,
          79995.61105672423,
          80950.28819956776,
          77340.42452213433,
          77340.42452213433,
          77368.50326162974,
          77340.42452213433,
          77368.50326162974,
          68035.98241592731,
          69537.8325713695,
          68565.1257214023,
          68673.24442073333,
          69808.71597219129,
          63169.91106154749,
          60986.40911462609,
          67049.42416360191,
          67793.58453061206,
          68400.27094963817,
          102402.13143265378,
          90517.76162117072,
          88705.65135357928,
          111257.77984282677,
          88923.36071434998,
          72678.2290426012,
          66725.72873232453,
          66989.9206668618,
          71284.34390101834,
          71084.18413141363,
          28552.09555262889,
          28271.30815767491,
          28552.09555262889,
          29432.1874180299,
          28271.30815767491,
          141742.09493576715,
          145815.49475622724,
          151218.85534578597,
          145175.17310690164,
          150938.06795083196,
          64219.738541594204,
          60541.42366769707,
          63265.06139875067,
          70677.84862553574,
          61692.65198700839,
          -25332.088330237602,
          8161.380517027574,
          8161.380517027574,
          8161.380517027574,
          8161.380517027574,
          8161.380517027574,
          76704.08479526707,
          76692.47600266352,
          76704.08479526707,
          76692.47600266352,
          76692.47600266352,
          -124719.82073634748,
          -124719.82073634748,
          -124719.82073634748,
          -124719.82073634748,
          -124719.82073634748,
          80171.528439184,
          64175.09599864764,
          73899.6847768278,
          62327.80434037486,
          78828.41554004198,
          -131807.3776463298,
          -139840.17182034586,
          -138772.20267127908,
          -148319.71607636148,
          -156436.64555157302,
          -158481.46699557744,
          -124369.04043139388,
          -216400.1039741169,
          -152670.90918762225,
          -125963.79776301775,
          72457.53548860611,
          72497.22302070506,
          72485.6142281015,
          72450.78785029086,
          72492.36186641676,
          90140.52547910388,
          90954.80892447042,
          90140.52547910388,
          94520.80884038597,
          90926.73018497504,
          70841.91724089766,
          59233.12463734784,
          59233.12463734784,
          63992.72960480327,
          55750.48685628289,
          78089.7170486334,
          77564.65329618641,
          77148.44422412477,
          77167.65387360455,
          77231.68603853711,
          65781.12328867169,
          63881.83386369704,
          64773.078596642576,
          64260.8212771821,
          64656.623059381,
          26962.15228896369,
          40865.43237089804,
          26898.120124031127,
          26898.120124031127,
          26898.120124031127,
          -77769.96479159243,
          -78050.75218654638,
          -77769.96479159243,
          -78050.75218654638,
          -77769.96479159243,
          94203.3540308435,
          93019.25718528143,
          93054.08356309208,
          95076.18984857854,
          93323.26216544252,
          65621.0627649107,
          60068.3929000144,
          56028.51469027331,
          55837.37232622491,
          57642.803678571385,
          49927.916451301215,
          49927.916451301215,
          49927.916451301215,
          49899.83771180581,
          49927.916451301215,
          67731.95413931724,
          69986.23627687468,
          70866.32814227568,
          68892.83339967222,
          68892.83339967222,
          -155390.00439689745,
          -155383.6011804042,
          -155390.00439689745,
          -155384.79882078717,
          -155384.79882078717,
          98558.89164688745,
          92672.35496564403,
          82609.8814714091,
          78002.09274580689,
          88958.69386839487,
          69081.92621447312,
          68184.80756493294,
          71763.55288758302,
          69332.31134408696,
          66749.28583141924,
          142675.33406599972,
          142675.33406599972,
          142675.33406599972,
          141823.32094009413,
          142956.1214609537,
          -102974.62912352128,
          -108229.38860230528,
          -104378.56609829118,
          -104718.75869678638,
          -105813.8295371069,
          34503.96200728502,
          36104.76613059901,
          31486.149963885815,
          30857.80471838983,
          35016.2193267455,
          37103.74322570513,
          37199.791473103964,
          36968.32154859748,
          36981.127981583995,
          37006.740847557,
          220212.22798766848,
          221191.92011113663,
          220084.16365780338,
          219403.87069342058,
          220301.8730185741,
          51632.41728143475,
          5162.253489835013,
          53642.988753786776,
          52629.08204305016,
          52475.9903729768,
          67222.27451674937,
          67222.27451674937,
          67222.27451674937,
          67222.27451674937,
          67222.27451674937,
          68965.70994113662,
          68965.70994113662,
          69778.32542338512,
          66643.95142042666,
          66643.95142042666,
          9620.968281054913,
          9901.755676008892,
          9901.755676008892,
          10182.54307096287,
          10182.54307096287,
          86216.89360052157,
          92629.80827196936,
          90656.3135293659,
          88914.99463883342,
          90888.48938143688,
          47749.87268567649,
          47721.79394618109,
          47721.79394618109,
          47749.87268567649,
          47721.79394618109,
          25183.370359167704,
          34934.75614614955,
          1617.521373961572,
          35338.03468363228,
          34299.646565806055,
          41036.40086009373,
          37944.951827022065,
          38752.700049498686,
          42313.842550498295,
          42077.27394266951,
          76871.03084202255,
          76823.00671832313,
          76823.00671832313,
          76839.01475955626,
          76896.64370799556,
          59002.96267624742,
          68057.82090701628,
          64575.18312595134,
          67593.4692028743,
          64459.09519991584,
          69059.30725574709,
          73702.82429716701,
          71409.14451595244,
          73702.82429716701,
          72570.02377630743,
          61090.53145391581,
          53660.90418764393,
          64340.993382909764,
          60626.17974977382,
          52500.02492728895,
          -105981.7643885567,
          -107445.99010486064,
          -105793.96024960063,
          -106426.68104205,
          -104255.99065083622,
          73791.06047758058,
          73779.45168497703,
          73791.06047758058,
          73779.45168497703,
          73791.06047758058,
          65865.01399042619,
          65551.25638225664,
          65570.4660317364,
          65999.48153678456,
          65935.449371852,
          75202.81541820313,
          75157.99290275034,
          75170.79933573685,
          75196.41220170987,
          75148.38807801045,
          65704.923457075,
          65588.8355310395,
          64427.95627068451,
          66749.71479139448,
          65664.4764885756,
          53511.92284073096,
          53511.92284073096,
          53511.92284073096,
          53511.92284073096,
          53511.92284073096,
          183418.23793584804,
          179100.61627619326,
          183070.61050201196,
          180701.42039950727,
          176820.1170738449,
          102728.63811500464,
          102728.63811500464,
          102735.0413314979,
          102728.63811500464,
          102735.0413314979,
          43630.63619788763,
          43911.42359284161,
          43630.63619788763,
          43911.42359284161,
          43911.42359284161,
          98443.72294334143,
          97918.9729999944,
          86212.93911957322,
          91431.56056157683,
          89850.92021849188,
          40625.9307389322,
          40946.091563595,
          40561.89857399964,
          41202.22022332524,
          40946.091563595,
          83135.6189531378,
          83135.6189531378,
          82854.83155818383,
          82854.83155818383,
          83135.6189531378,
          329199.10954281397,
          279254.02089541743,
          487358.55692623626,
          115972.0003173904,
          45044.68949933833,
          45044.68949933833,
          45044.68949933833,
          45044.68949933833,
          45044.68949933833,
          88825.49172214622,
          87237.49403181874,
          87100.16409321253,
          87464.86552005603,
          90179.15709571936,
          62095.93499420619,
          64019.07425692832,
          61942.07660547261,
          64025.477473421575,
          64025.477473421575,
          -412714.3575411962,
          -410202.1277372236,
          -412190.7758492464,
          -405487.1789029973,
          -421011.01648480666
         ],
         "yaxis": "y"
        },
        {
         "hovertemplate": "color=1<br>PC1=%{x}<br>PC2=%{y}<extra></extra>",
         "legendgroup": "1",
         "marker": {
          "color": "#EF553B",
          "symbol": "circle"
         },
         "mode": "markers",
         "name": "1",
         "showlegend": true,
         "type": "scattergl",
         "x": [
          621377.4197618479,
          625558.839902469,
          619628.357909725,
          620747.6579182262,
          617959.5110300842,
          791258.631623602,
          793249.0209082677,
          791902.0766757042,
          792888.6916188335,
          793051.6976183567,
          441050.6438472785,
          448865.69934325357,
          405882.89411539043,
          446197.4788156987,
          418777.7356837494,
          383432.3745283542,
          386089.49339698575,
          382572.718423797,
          386870.9989465833,
          387261.75172138197,
          497735.1873524653,
          497739.0948802132,
          497735.1873524653,
          497735.1873524653,
          497735.1873524653,
          694926.5739056088,
          700691.8425365565,
          696779.6970415749,
          694857.9408312591,
          697448.8789316486,
          1316353.8611148086,
          1286425.4979783024,
          1291087.9311887212,
          1293108.7439587514,
          1282464.4521898902,
          192674.62325628806,
          196156.3619185639,
          198721.43121145671,
          196374.8953233107,
          196678.86022697197,
          1149724.6647484426,
          1171606.820137173,
          1160287.0006443234,
          1137220.5759548824,
          1153644.2034727447,
          989101.833837653,
          989101.833837653,
          989101.833837653,
          989101.833837653,
          990731.8938328845,
          1423095.181643015,
          1375651.825200842,
          1297580.47915676,
          1061685.0785156416,
          1071978.748452482,
          1060865.432277458,
          1069835.3784917986,
          1066966.0112761345,
          587361.7163294994,
          580841.4763485736,
          580841.4763485736,
          587400.7916069792,
          580841.4763485736,
          98067.95457808295,
          11638.415695642238,
          83673.589948098,
          5001.035381623486,
          35618.278592823015,
          1390041.8069069772,
          1390041.8069069772,
          1390041.8069069772,
          1391671.8669022087,
          1390041.8069069772,
          497436.1965074696,
          486416.5293156482,
          484395.7165456181,
          489676.6493061112,
          481135.5965551552,
          926854.8076640696,
          929085.4164750248,
          931058.6493741355,
          929497.222453254,
          929617.3322163986,
          1625915.7884552018,
          1673249.9840502946,
          1244499.4749055016,
          1217286.0353604401,
          1223119.9370657373,
          1246489.864190167,
          1231767.840012159,
          1295434.5645709927,
          1047305.6029457769,
          1239279.9886162328,
          1612081.3909047875,
          204708.6427189706,
          404367.34563197236,
          1602072.822383424,
          589793.5543683879,
          492474.59872881864,
          493028.3575031405,
          492637.60472834186,
          491235.29150838597,
          489540.4907374022,
          804517.2376225195,
          595363.8576905897,
          737283.2935028758,
          588356.6137946101,
          797099.5217706105,
          248300.3362216539,
          253725.86699189834,
          252714.71028272476,
          223520.3260874828,
          219434.1399322871,
          428052.34400593076,
          428021.92052056623,
          429522.5004707188,
          426121.21751368075,
          426069.74082488584,
          435687.87638539454,
          439883.13764304394,
          438694.050987911,
          438694.050987911,
          438682.0400115966,
          173131.37834107847,
          172278.59902275092,
          172422.73073852452,
          172434.74171483907,
          172458.76366746792,
          389534.9739040996,
          358296.02064915205,
          347600.49627858953,
          395663.0875788364,
          357883.9991454004,
          645667.589157617,
          645667.589157617,
          645667.589157617,
          645667.589157617,
          645667.589157617,
          521148.7832964926,
          527123.7898421078,
          532898.7131166419,
          535092.9681529957,
          521476.40055305365,
          303046.23344014,
          303003.3372037616,
          307687.6179664066,
          307687.6179664066,
          306486.5203349592,
          1316094.4465657459,
          1315656.8034579712,
          1315695.878735451,
          1314417.4962375385,
          1315617.7281804914,
          1075814.750226233,
          1035231.3784046064,
          1103935.8559655626,
          1132475.6332501958,
          1119508.961900456,
          459954.41806018125,
          454901.2320749639,
          453597.18407877866,
          459628.40606113506,
          452456.14208211674,
          454357.99836029,
          454357.99836029,
          453580.4003384405,
          454194.9923607669,
          454214.52999950683,
          205065.4476619715,
          198545.2076810457,
          198545.2076810457,
          181592.58373063878,
          195285.0876905829,
          691895.4819286454,
          599449.6012359136,
          596112.2400078822,
          599813.2897095471,
          599097.9237385949,
          602396.2096891464,
          686168.7025620935,
          714883.2745870049,
          621382.1094621567,
          570143.317144953,
          726304.7840894111,
          -9689.618318728928,
          -44550.442583025666,
          -34021.87342385278,
          -51031.65349401062,
          -26594.672821321874,
          302799.4267974948,
          302408.67402269604,
          304038.7340179275,
          304820.23956752504,
          303971.68512189115,
          1638878.1589653776,
          1591606.419103666,
          1692833.1448075378,
          575349.0591978363,
          576979.1191930675,
          576983.0267208156,
          576979.1191930675,
          576983.0267208156,
          478133.00293817563,
          487335.98960070865,
          486437.73448714375,
          506015.63039901486,
          493341.4777579457,
          141408.00194216002,
          155205.25209348992,
          152241.65764490218,
          148221.65961226734,
          149175.18417127553,
          92836.37547829625,
          92836.37547829625,
          92956.48524144094,
          91206.31548306474,
          92596.15595200675,
          432156.66257355997,
          446175.1785325504,
          432808.6865716526,
          449435.2985230132,
          421235.26060550945,
          697938.4702161294,
          698748.8150727779,
          693944.4245469884,
          688329.68916455,
          697547.7174413307,
          1268300.0657213242,
          1401373.085867394,
          340921.3646869463,
          342160.671907379,
          341702.87023654376,
          340921.3646869463,
          340530.61191214755,
          248988.27374838496,
          254525.86149160395,
          251009.0865184152,
          248273.81709482387,
          253286.55427117128,
          597405.0688790502,
          563173.80897919,
          531550.6450717002,
          559913.688988727,
          639786.6287550675,
          421849.7865753336,
          421849.7865753336,
          421849.7865753336,
          420219.7265801022,
          423479.8465705651,
          561021.8972637092,
          559391.8372684775,
          559391.8372684775,
          561021.8972637092,
          559391.8372684775,
          18581.364519928058,
          14026.899389310624,
          47140.9388844964,
          391300.9343916155,
          391137.9283920924,
          391463.9403911387,
          392807.0636648037,
          391340.00966909545,
          853146.0526227772,
          851680.1526872108,
          852950.6762353778,
          852911.600957898,
          853146.0526227772,
          127861.31177914533,
          132360.7389900409,
          522090.72276650596,
          526002.8667550613,
          533012.1247345565,
          519156.6147750894,
          528447.9567479084,
          68096.06859382131,
          55770.04528553091,
          78411.94184850843,
          170260.8572713994,
          170260.8572713994,
          170260.8572713994,
          170260.8572713994,
          170260.8572713994,
          368856.22036097565,
          374149.741335852,
          374736.85147784854,
          374375.4985913714,
          374309.3303262039,
          1452964.5667269914,
          1412393.3270439575,
          1432254.6696626574,
          1448666.2862042051,
          1418187.5697699022,
          1402120.4377842431,
          1052858.954039324,
          1306232.5375361182,
          1274651.670194423,
          717363.6704698324,
          986969.4968349861,
          1040761.6866194715,
          1041407.5126379826,
          1042468.3178699485,
          1026325.6332293951,
          424805.6211992825,
          426865.5092467926,
          426865.5092467926,
          418028.8634628767,
          426474.7564719938,
          442393.50859688147,
          442947.26737120334,
          442784.26137168024,
          444186.574591636,
          442784.26137168024,
          1012854.5136177032,
          1014875.3263877332,
          1016505.3863829647,
          1012854.5136177032,
          1014914.4016652133,
          146679.74802221108,
          140923.8620839272,
          148259.35470318358,
          150764.52680054546,
          151337.24766853935,
          191292.12549883832,
          191292.12549883832,
          192922.18549406977,
          192922.18549406977,
          191292.12549883832,
          82525.55765416741,
          92798.61842290458,
          87413.86659632705,
          68752.65732012194,
          77646.54765424307,
          3421.750735302863,
          3421.750735302863,
          3421.750735302863,
          3421.750735302863,
          3421.750735302863,
          629439.0990887729,
          651087.6806976169,
          733628.8409915122,
          1013351.7524137944,
          604798.1317358394,
          598277.8917549136,
          588171.5197844787,
          585726.4297916316,
          599907.9517501451,
          323105.9869083127,
          323105.9869083127,
          323105.9869083127,
          323496.7396831115,
          323496.7396831115,
          155593.09571874567,
          104498.40247697273,
          148968.32940107217,
          91713.34574267949,
          152124.33224107377,
          1483469.4540364232,
          1480652.126530124,
          1478158.0136610158,
          1458449.2654729881,
          1478702.2701838783,
          754347.7895091586,
          911436.9891157041,
          813732.8653896316,
          1043571.3247172639,
          1147504.411637277
         ],
         "xaxis": "x",
         "y": [
          -474980.37161440554,
          -472513.0581916098,
          -476100.9637956129,
          -474801.72196834174,
          -476526.2622779199,
          -302623.45542582293,
          -302150.5715360713,
          -302339.2480265973,
          -302342.668030869,
          -302314.58929137356,
          -301738.24170996284,
          -278520.65650286316,
          -406217.3751419112,
          -291009.54097181396,
          -367908.3595501968,
          -401488.5485773873,
          -393594.5696069734,
          -404042.48295016825,
          -391272.81108626345,
          -390111.9318259085,
          -59262.68914894706,
          -59251.08035634352,
          -59262.68914894706,
          -59262.68914894706,
          -59262.68914894706,
          -577206.4683395112,
          -574132.9244227483,
          -575630.3229514209,
          -576654.8375903418,
          -575861.7928759274,
          -504014.23166643153,
          -508075.9979522207,
          -508366.43628821825,
          -506924.76963290933,
          -508758.3113219588,
          -272787.73428064695,
          -270713.93232786754,
          -267199.1529508115,
          -271345.43331507413,
          -268307.82813452283,
          59044.749625013494,
          124053.98820489248,
          90394.89287109126,
          21896.613293654045,
          70659.94544505654,
          214143.33391948347,
          214143.33391948347,
          214143.33391948347,
          214143.33391948347,
          214424.12131443742,
          930160.9603498641,
          904868.2552015029,
          863247.3479953392,
          -367013.4078932861,
          -345556.00641698844,
          -356218.89873510285,
          -365609.4709185162,
          -365010.1664480692,
          -101773.58582204547,
          -102896.73540186138,
          -102896.73540186138,
          -101657.49789600998,
          -102896.73540186138,
          -584760.749350267,
          -570569.1230377004,
          -594461.4732255241,
          -587792.4336392563,
          -546725.8044598014,
          -331953.70917475224,
          -331953.70917475224,
          -331953.70917475224,
          -331672.9217797983,
          -331953.70917475224,
          41010.014797422315,
          40205.38229309946,
          38763.71563779047,
          40766.9570830074,
          38202.140847882525,
          -652765.3808799413,
          -652164.4326603244,
          -650524.2551073018,
          -651356.6732514249,
          -651292.6410864923,
          411877.0119069978,
          365831.60737288266,
          325905.60481589084,
          311985.9662903017,
          314507.87945789524,
          326378.4887056425,
          319118.19533303956,
          36496.35107818586,
          -355679.0601229036,
          60591.4469977292,
          81441.36972732551,
          -162167.095708179,
          -130268.25234518973,
          79634.98424422975,
          -94740.39123868484,
          -418124.5972925265,
          -416935.63929267606,
          -418096.5185530311,
          -417244.50542712543,
          -418630.01460344356,
          -212239.49531150836,
          -197797.20432448335,
          -212550.76753251272,
          -195419.0922079857,
          -212954.92468784,
          -58153.168056636656,
          -54613.701078639206,
          -57387.998552118326,
          -70315.91196794114,
          -72976.30154806653,
          -324859.3509711263,
          -325828.1337366836,
          -326933.2811236749,
          -327205.7682270599,
          -327821.43114116177,
          -382520.1560253954,
          -380930.6465922948,
          -381564.5650251271,
          -381564.5650251271,
          -381570.96824162034,
          -214953.49221608666,
          -215408.12058710778,
          -215331.28198918875,
          -215324.8787726955,
          -215312.07233970898,
          -57979.697167095335,
          -154892.58260334877,
          -182105.76883853832,
          -39317.619814875565,
          -152010.91725584894,
          -246651.86202553904,
          -246651.86202553904,
          -246651.86202553904,
          -246651.86202553904,
          -246651.86202553904,
          -131727.53486132255,
          -128867.71658355136,
          -129591.25262208785,
          -130520.48924904504,
          -132818.07758826972,
          -95154.8230925956,
          -95118.86966715845,
          -92621.61523478864,
          -92621.61523478864,
          -93261.93688411421,
          -796173.2830323995,
          -797473.4678039971,
          -797357.3798779615,
          -796593.375938596,
          -797589.5557300325,
          57306.81052130861,
          36377.121405052705,
          60534.15866840379,
          65749.36632065607,
          78247.91514775179,
          -138978.46201793797,
          -139848.9029422953,
          -140073.53285825846,
          -139034.61949692876,
          -140270.08403472626,
          -121974.162983592,
          -121974.162983592,
          -124284.3127116984,
          -122002.24172308743,
          -121944.1977600697,
          -344910.873542117,
          -346034.0231219329,
          -346034.0231219329,
          -348954.2120294543,
          -346595.59791184095,
          257503.75005440274,
          -248433.79557513556,
          -253816.04849915818,
          -247382.6010243228,
          -249478.586909455,
          -244212.42191146786,
          -3210.4140185406286,
          -6510.475467052616,
          3092.499820038356,
          7363.405682172335,
          -5028.130811798663,
          -833933.6754297339,
          -808445.2753186894,
          -789748.0759889972,
          -791919.7648568543,
          -820987.2835619141,
          -201516.48178613954,
          -202677.3610464945,
          -202396.5736515405,
          -200074.81513083057,
          -198033.84400507458,
          -318168.2556804507,
          -326311.0901341162,
          -308874.192907474,
          -411701.53005023015,
          -411420.7426552762,
          -411409.13386267266,
          -411420.7426552762,
          -411409.13386267266,
          136084.70498461818,
          143737.93094074144,
          140159.13948247675,
          153066.90870883316,
          146939.53918736946,
          -210892.85233210673,
          -208340.82366180903,
          -209682.8334765822,
          -208559.57560478244,
          -212113.4627370538,
          -332635.04759488715,
          -332635.04759488715,
          -332571.0154299546,
          -332915.83498984115,
          -332763.1119247523,
          -385581.84781037306,
          -383167.0762137689,
          -385469.53285239154,
          -382605.50142386096,
          -387463.1233565647,
          -403089.91413485823,
          -403610.47174588765,
          -406171.75834319,
          -408212.487329463,
          -404250.7933952132,
          -78985.84184561415,
          -44033.96578034498,
          -228315.0248648565,
          -229195.11673025752,
          -225993.2663441465,
          -228315.0248648565,
          -229475.90412521147,
          -169910.95899798034,
          -158021.3789994765,
          -168469.29234267137,
          -176595.4471651562,
          -157141.28713407554,
          33047.68510424649,
          27151.14981021289,
          21703.874348105724,
          26589.575020304917,
          40348.15737304993,
          -422418.47133076965,
          -422418.47133076965,
          -422418.47133076965,
          -422699.25872572366,
          -422137.6839358157,
          -83583.44060555943,
          -83864.22800051344,
          -83864.22800051344,
          -83583.44060555943,
          -83864.22800051344,
          -237483.03067567572,
          -232795.38073722343,
          -234750.61608721403,
          -364132.4576488228,
          -364160.53638831817,
          -364104.37890932744,
          -363763.6610673287,
          -364016.36972278735,
          -934272.4408469581,
          -937258.8752163319,
          -934852.8804771354,
          -934968.9684031709,
          -934272.4408469581,
          -116360.92635096675,
          -116679.44342645981,
          -297764.9628325463,
          -297091.0730846568,
          -295883.6872863546,
          -298270.3801434635,
          -296669.89199222584,
          -222273.17036465387,
          -217834.9813571098,
          -191625.95789128233,
          -204696.5444750351,
          -204696.5444750351,
          -204696.5444750351,
          -204696.5444750351,
          -204696.5444750351,
          15504.13199238199,
          17703.982965692318,
          17858.994144636665,
          17371.057244061478,
          17664.65820202978,
          -127656.83312902042,
          -252751.00585240452,
          -189183.4339278345,
          -140426.5049929252,
          -230975.08730061387,
          -162678.54850800586,
          -131744.1309102245,
          -169400.6411235275,
          -85750.07550775223,
          -124211.40034601428,
          -354082.08165625285,
          -241302.67792243953,
          -247166.7243493218,
          -270801.14425916615,
          -237088.25720449415,
          -475910.38976017234,
          -474352.6351788279,
          -474352.6351788279,
          -478475.35246973543,
          -475513.51443918294,
          -157624.60195115942,
          -156435.64395130903,
          -156463.72269080445,
          -157315.73581671005,
          -156463.72269080445,
          -481099.7374289982,
          -479658.0707736892,
          -479377.2833787353,
          -481099.7374289982,
          -479541.9828476537,
          -141661.26902722032,
          -165495.69710951007,
          -136048.48361290823,
          -128254.56082562047,
          -129158.99121837154,
          -201107.58323773777,
          -201107.58323773777,
          -200826.79584278376,
          -200826.79584278376,
          -201107.58323773777,
          -302180.7555126676,
          -295084.68757545936,
          -299955.75628964213,
          -305749.4579182811,
          -301579.5409396196,
          -306352.834418413,
          -306352.834418413,
          -306352.834418413,
          -306352.834418413,
          -306352.834418413,
          -488676.4340000303,
          -488228.0482517396,
          -461980.5814300438,
          -424732.36731160106,
          -324275.04320959776,
          -325398.1927894137,
          -327139.07463812834,
          -327560.2557305593,
          -325117.40539445967,
          -381530.93246328,
          -381530.93246328,
          -381530.93246328,
          -380370.053202925,
          -380370.053202925,
          -163259.64972329297,
          -190498.93268560385,
          -168506.0181231071,
          -197972.0909612215,
          -166537.74057220685,
          -175349.79263943608,
          -183719.73210659547,
          -191585.63233751396,
          -249652.46851864824,
          -189512.51961576683,
          324693.2501434808,
          312384.2732408693,
          368823.3416681506,
          408414.36435666174,
          425223.8783733615
         ],
         "yaxis": "y"
        },
        {
         "hovertemplate": "color=2<br>PC1=%{x}<br>PC2=%{y}<extra></extra>",
         "legendgroup": "2",
         "marker": {
          "color": "#00cc96",
          "symbol": "circle"
         },
         "mode": "markers",
         "name": "2",
         "showlegend": true,
         "type": "scattergl",
         "x": [
          3455610.104010635,
          3455217.1745757945,
          3456570.982115793,
          3457501.4367355863,
          3454409.0063791876,
          3868641.7171575814,
          3868804.7231571046,
          3868641.7171575814,
          3870271.7771528135,
          3868641.7171575814,
          2636083.6796423863,
          2406794.1417990746,
          2687929.9697752506,
          2729631.808209768,
          2693304.551518947,
          2693798.1857580836,
          2717573.9804856232,
          2871586.3562099203,
          2869241.839561128,
          2870804.8506603227,
          2868002.532340695,
          2868002.532340695,
          2129376.742222246,
          1934352.961892316,
          1954335.5097443827,
          1914140.4764462581,
          2200197.961712627,
          2050174.3044917367,
          2026152.3518627884,
          1967298.567921865,
          1831574.5355683074,
          1972218.3156758596,
          2480438.9264584617,
          2480438.9264584617,
          2480438.9264584617,
          2478808.8664632305,
          2480438.9264584617,
          2717491.250460406,
          2692582.548861099,
          2676284.257029068,
          2693431.1033067326,
          2699694.688304933,
          2461105.3023328013,
          2555650.8905259194,
          2529314.252251815,
          2778542.0107771535,
          2449591.793009071,
          2543561.456319451,
          2543561.456319451,
          2440616.3118130234,
          2441535.547545659,
          2441558.315634432,
          2440578.102224038,
          2439701.3009530813,
          1722037.1032577788,
          1912095.1743409124,
          2986304.7111984277,
          4638374.649171795,
          4602341.720228372,
          4602341.720228372,
          4509428.240243138,
          4554297.814970476,
          3536768.8219885994,
          3614717.6560348105,
          3544672.6109179957,
          3971206.262459162,
          3461252.554756135,
          3383534.481654119,
          3381904.4216588875,
          3381904.4216588875,
          3381904.4216588875,
          3381904.4216588875,
          1893517.1009433602,
          2099144.7089645667
         ],
         "xaxis": "x",
         "y": [
          270951.3252826867,
          271330.06918653805,
          271463.5826021473,
          271007.0571560504,
          270311.00363336125,
          1046615.1329799414,
          1046643.2117194367,
          1046615.1329799414,
          1046895.9203748952,
          1046615.1329799414,
          1576821.7940032608,
          1454584.3911470044,
          -1168069.2032258364,
          -1095271.6287810528,
          -1156207.7019668282,
          -1167058.368604002,
          -1108284.3583593727,
          -385458.6124071229,
          -392423.8879692528,
          -387780.37092783285,
          -391543.7961038518,
          -391543.7961038518,
          690353.4005872075,
          517515.63734112744,
          551216.7698322344,
          89735.62649419102,
          306094.2476541499,
          315799.76066250494,
          302993.327675993,
          271617.56685903884,
          199261.22048524645,
          262809.58892938384,
          634532.7004717141,
          634532.7004717141,
          634532.7004717141,
          634251.9130767601,
          634532.7004717141,
          414372.27000546746,
          413362.30946726876,
          405086.9840898988,
          411321.33834151283,
          402558.14936804184,
          -884871.6575018015,
          -831610.4147021647,
          -845062.6184237461,
          -712195.876188685,
          -886611.1931734085,
          -162331.25148151512,
          -162331.25148151512,
          -113189.3424403119,
          -111746.7216542537,
          -112628.32526242778,
          -111668.9289255854,
          -112136.36372959307,
          14483.001411176818,
          63625.16594630127,
          248664.05922097404,
          524138.1937872028,
          504928.544307435,
          504928.544307435,
          455983.31156373565,
          479315.67833441135,
          531536.9015293459,
          579251.2743127827,
          542273.6420085559,
          591631.4619510239,
          509820.2469864187,
          1111160.735446256,
          1110879.9480513018,
          1110879.9480513018,
          1110879.9480513018,
          1110879.9480513018,
          -268744.44439050916,
          1283278.3670369063
         ],
         "yaxis": "y"
        }
       ],
       "layout": {
        "legend": {
         "title": {
          "text": "color"
         },
         "tracegroupgap": 0
        },
        "template": {
         "data": {
          "bar": [
           {
            "error_x": {
             "color": "#2a3f5f"
            },
            "error_y": {
             "color": "#2a3f5f"
            },
            "marker": {
             "line": {
              "color": "#E5ECF6",
              "width": 0.5
             },
             "pattern": {
              "fillmode": "overlay",
              "size": 10,
              "solidity": 0.2
             }
            },
            "type": "bar"
           }
          ],
          "barpolar": [
           {
            "marker": {
             "line": {
              "color": "#E5ECF6",
              "width": 0.5
             },
             "pattern": {
              "fillmode": "overlay",
              "size": 10,
              "solidity": 0.2
             }
            },
            "type": "barpolar"
           }
          ],
          "carpet": [
           {
            "aaxis": {
             "endlinecolor": "#2a3f5f",
             "gridcolor": "white",
             "linecolor": "white",
             "minorgridcolor": "white",
             "startlinecolor": "#2a3f5f"
            },
            "baxis": {
             "endlinecolor": "#2a3f5f",
             "gridcolor": "white",
             "linecolor": "white",
             "minorgridcolor": "white",
             "startlinecolor": "#2a3f5f"
            },
            "type": "carpet"
           }
          ],
          "choropleth": [
           {
            "colorbar": {
             "outlinewidth": 0,
             "ticks": ""
            },
            "type": "choropleth"
           }
          ],
          "contour": [
           {
            "colorbar": {
             "outlinewidth": 0,
             "ticks": ""
            },
            "colorscale": [
             [
              0,
              "#0d0887"
             ],
             [
              0.1111111111111111,
              "#46039f"
             ],
             [
              0.2222222222222222,
              "#7201a8"
             ],
             [
              0.3333333333333333,
              "#9c179e"
             ],
             [
              0.4444444444444444,
              "#bd3786"
             ],
             [
              0.5555555555555556,
              "#d8576b"
             ],
             [
              0.6666666666666666,
              "#ed7953"
             ],
             [
              0.7777777777777778,
              "#fb9f3a"
             ],
             [
              0.8888888888888888,
              "#fdca26"
             ],
             [
              1,
              "#f0f921"
             ]
            ],
            "type": "contour"
           }
          ],
          "contourcarpet": [
           {
            "colorbar": {
             "outlinewidth": 0,
             "ticks": ""
            },
            "type": "contourcarpet"
           }
          ],
          "heatmap": [
           {
            "colorbar": {
             "outlinewidth": 0,
             "ticks": ""
            },
            "colorscale": [
             [
              0,
              "#0d0887"
             ],
             [
              0.1111111111111111,
              "#46039f"
             ],
             [
              0.2222222222222222,
              "#7201a8"
             ],
             [
              0.3333333333333333,
              "#9c179e"
             ],
             [
              0.4444444444444444,
              "#bd3786"
             ],
             [
              0.5555555555555556,
              "#d8576b"
             ],
             [
              0.6666666666666666,
              "#ed7953"
             ],
             [
              0.7777777777777778,
              "#fb9f3a"
             ],
             [
              0.8888888888888888,
              "#fdca26"
             ],
             [
              1,
              "#f0f921"
             ]
            ],
            "type": "heatmap"
           }
          ],
          "heatmapgl": [
           {
            "colorbar": {
             "outlinewidth": 0,
             "ticks": ""
            },
            "colorscale": [
             [
              0,
              "#0d0887"
             ],
             [
              0.1111111111111111,
              "#46039f"
             ],
             [
              0.2222222222222222,
              "#7201a8"
             ],
             [
              0.3333333333333333,
              "#9c179e"
             ],
             [
              0.4444444444444444,
              "#bd3786"
             ],
             [
              0.5555555555555556,
              "#d8576b"
             ],
             [
              0.6666666666666666,
              "#ed7953"
             ],
             [
              0.7777777777777778,
              "#fb9f3a"
             ],
             [
              0.8888888888888888,
              "#fdca26"
             ],
             [
              1,
              "#f0f921"
             ]
            ],
            "type": "heatmapgl"
           }
          ],
          "histogram": [
           {
            "marker": {
             "pattern": {
              "fillmode": "overlay",
              "size": 10,
              "solidity": 0.2
             }
            },
            "type": "histogram"
           }
          ],
          "histogram2d": [
           {
            "colorbar": {
             "outlinewidth": 0,
             "ticks": ""
            },
            "colorscale": [
             [
              0,
              "#0d0887"
             ],
             [
              0.1111111111111111,
              "#46039f"
             ],
             [
              0.2222222222222222,
              "#7201a8"
             ],
             [
              0.3333333333333333,
              "#9c179e"
             ],
             [
              0.4444444444444444,
              "#bd3786"
             ],
             [
              0.5555555555555556,
              "#d8576b"
             ],
             [
              0.6666666666666666,
              "#ed7953"
             ],
             [
              0.7777777777777778,
              "#fb9f3a"
             ],
             [
              0.8888888888888888,
              "#fdca26"
             ],
             [
              1,
              "#f0f921"
             ]
            ],
            "type": "histogram2d"
           }
          ],
          "histogram2dcontour": [
           {
            "colorbar": {
             "outlinewidth": 0,
             "ticks": ""
            },
            "colorscale": [
             [
              0,
              "#0d0887"
             ],
             [
              0.1111111111111111,
              "#46039f"
             ],
             [
              0.2222222222222222,
              "#7201a8"
             ],
             [
              0.3333333333333333,
              "#9c179e"
             ],
             [
              0.4444444444444444,
              "#bd3786"
             ],
             [
              0.5555555555555556,
              "#d8576b"
             ],
             [
              0.6666666666666666,
              "#ed7953"
             ],
             [
              0.7777777777777778,
              "#fb9f3a"
             ],
             [
              0.8888888888888888,
              "#fdca26"
             ],
             [
              1,
              "#f0f921"
             ]
            ],
            "type": "histogram2dcontour"
           }
          ],
          "mesh3d": [
           {
            "colorbar": {
             "outlinewidth": 0,
             "ticks": ""
            },
            "type": "mesh3d"
           }
          ],
          "parcoords": [
           {
            "line": {
             "colorbar": {
              "outlinewidth": 0,
              "ticks": ""
             }
            },
            "type": "parcoords"
           }
          ],
          "pie": [
           {
            "automargin": true,
            "type": "pie"
           }
          ],
          "scatter": [
           {
            "fillpattern": {
             "fillmode": "overlay",
             "size": 10,
             "solidity": 0.2
            },
            "type": "scatter"
           }
          ],
          "scatter3d": [
           {
            "line": {
             "colorbar": {
              "outlinewidth": 0,
              "ticks": ""
             }
            },
            "marker": {
             "colorbar": {
              "outlinewidth": 0,
              "ticks": ""
             }
            },
            "type": "scatter3d"
           }
          ],
          "scattercarpet": [
           {
            "marker": {
             "colorbar": {
              "outlinewidth": 0,
              "ticks": ""
             }
            },
            "type": "scattercarpet"
           }
          ],
          "scattergeo": [
           {
            "marker": {
             "colorbar": {
              "outlinewidth": 0,
              "ticks": ""
             }
            },
            "type": "scattergeo"
           }
          ],
          "scattergl": [
           {
            "marker": {
             "colorbar": {
              "outlinewidth": 0,
              "ticks": ""
             }
            },
            "type": "scattergl"
           }
          ],
          "scattermapbox": [
           {
            "marker": {
             "colorbar": {
              "outlinewidth": 0,
              "ticks": ""
             }
            },
            "type": "scattermapbox"
           }
          ],
          "scatterpolar": [
           {
            "marker": {
             "colorbar": {
              "outlinewidth": 0,
              "ticks": ""
             }
            },
            "type": "scatterpolar"
           }
          ],
          "scatterpolargl": [
           {
            "marker": {
             "colorbar": {
              "outlinewidth": 0,
              "ticks": ""
             }
            },
            "type": "scatterpolargl"
           }
          ],
          "scatterternary": [
           {
            "marker": {
             "colorbar": {
              "outlinewidth": 0,
              "ticks": ""
             }
            },
            "type": "scatterternary"
           }
          ],
          "surface": [
           {
            "colorbar": {
             "outlinewidth": 0,
             "ticks": ""
            },
            "colorscale": [
             [
              0,
              "#0d0887"
             ],
             [
              0.1111111111111111,
              "#46039f"
             ],
             [
              0.2222222222222222,
              "#7201a8"
             ],
             [
              0.3333333333333333,
              "#9c179e"
             ],
             [
              0.4444444444444444,
              "#bd3786"
             ],
             [
              0.5555555555555556,
              "#d8576b"
             ],
             [
              0.6666666666666666,
              "#ed7953"
             ],
             [
              0.7777777777777778,
              "#fb9f3a"
             ],
             [
              0.8888888888888888,
              "#fdca26"
             ],
             [
              1,
              "#f0f921"
             ]
            ],
            "type": "surface"
           }
          ],
          "table": [
           {
            "cells": {
             "fill": {
              "color": "#EBF0F8"
             },
             "line": {
              "color": "white"
             }
            },
            "header": {
             "fill": {
              "color": "#C8D4E3"
             },
             "line": {
              "color": "white"
             }
            },
            "type": "table"
           }
          ]
         },
         "layout": {
          "annotationdefaults": {
           "arrowcolor": "#2a3f5f",
           "arrowhead": 0,
           "arrowwidth": 1
          },
          "autotypenumbers": "strict",
          "coloraxis": {
           "colorbar": {
            "outlinewidth": 0,
            "ticks": ""
           }
          },
          "colorscale": {
           "diverging": [
            [
             0,
             "#8e0152"
            ],
            [
             0.1,
             "#c51b7d"
            ],
            [
             0.2,
             "#de77ae"
            ],
            [
             0.3,
             "#f1b6da"
            ],
            [
             0.4,
             "#fde0ef"
            ],
            [
             0.5,
             "#f7f7f7"
            ],
            [
             0.6,
             "#e6f5d0"
            ],
            [
             0.7,
             "#b8e186"
            ],
            [
             0.8,
             "#7fbc41"
            ],
            [
             0.9,
             "#4d9221"
            ],
            [
             1,
             "#276419"
            ]
           ],
           "sequential": [
            [
             0,
             "#0d0887"
            ],
            [
             0.1111111111111111,
             "#46039f"
            ],
            [
             0.2222222222222222,
             "#7201a8"
            ],
            [
             0.3333333333333333,
             "#9c179e"
            ],
            [
             0.4444444444444444,
             "#bd3786"
            ],
            [
             0.5555555555555556,
             "#d8576b"
            ],
            [
             0.6666666666666666,
             "#ed7953"
            ],
            [
             0.7777777777777778,
             "#fb9f3a"
            ],
            [
             0.8888888888888888,
             "#fdca26"
            ],
            [
             1,
             "#f0f921"
            ]
           ],
           "sequentialminus": [
            [
             0,
             "#0d0887"
            ],
            [
             0.1111111111111111,
             "#46039f"
            ],
            [
             0.2222222222222222,
             "#7201a8"
            ],
            [
             0.3333333333333333,
             "#9c179e"
            ],
            [
             0.4444444444444444,
             "#bd3786"
            ],
            [
             0.5555555555555556,
             "#d8576b"
            ],
            [
             0.6666666666666666,
             "#ed7953"
            ],
            [
             0.7777777777777778,
             "#fb9f3a"
            ],
            [
             0.8888888888888888,
             "#fdca26"
            ],
            [
             1,
             "#f0f921"
            ]
           ]
          },
          "colorway": [
           "#636efa",
           "#EF553B",
           "#00cc96",
           "#ab63fa",
           "#FFA15A",
           "#19d3f3",
           "#FF6692",
           "#B6E880",
           "#FF97FF",
           "#FECB52"
          ],
          "font": {
           "color": "#2a3f5f"
          },
          "geo": {
           "bgcolor": "white",
           "lakecolor": "white",
           "landcolor": "#E5ECF6",
           "showlakes": true,
           "showland": true,
           "subunitcolor": "white"
          },
          "hoverlabel": {
           "align": "left"
          },
          "hovermode": "closest",
          "mapbox": {
           "style": "light"
          },
          "paper_bgcolor": "white",
          "plot_bgcolor": "#E5ECF6",
          "polar": {
           "angularaxis": {
            "gridcolor": "white",
            "linecolor": "white",
            "ticks": ""
           },
           "bgcolor": "#E5ECF6",
           "radialaxis": {
            "gridcolor": "white",
            "linecolor": "white",
            "ticks": ""
           }
          },
          "scene": {
           "xaxis": {
            "backgroundcolor": "#E5ECF6",
            "gridcolor": "white",
            "gridwidth": 2,
            "linecolor": "white",
            "showbackground": true,
            "ticks": "",
            "zerolinecolor": "white"
           },
           "yaxis": {
            "backgroundcolor": "#E5ECF6",
            "gridcolor": "white",
            "gridwidth": 2,
            "linecolor": "white",
            "showbackground": true,
            "ticks": "",
            "zerolinecolor": "white"
           },
           "zaxis": {
            "backgroundcolor": "#E5ECF6",
            "gridcolor": "white",
            "gridwidth": 2,
            "linecolor": "white",
            "showbackground": true,
            "ticks": "",
            "zerolinecolor": "white"
           }
          },
          "shapedefaults": {
           "line": {
            "color": "#2a3f5f"
           }
          },
          "ternary": {
           "aaxis": {
            "gridcolor": "white",
            "linecolor": "white",
            "ticks": ""
           },
           "baxis": {
            "gridcolor": "white",
            "linecolor": "white",
            "ticks": ""
           },
           "bgcolor": "#E5ECF6",
           "caxis": {
            "gridcolor": "white",
            "linecolor": "white",
            "ticks": ""
           }
          },
          "title": {
           "x": 0.05
          },
          "xaxis": {
           "automargin": true,
           "gridcolor": "white",
           "linecolor": "white",
           "ticks": "",
           "title": {
            "standoff": 15
           },
           "zerolinecolor": "white",
           "zerolinewidth": 2
          },
          "yaxis": {
           "automargin": true,
           "gridcolor": "white",
           "linecolor": "white",
           "ticks": "",
           "title": {
            "standoff": 15
           },
           "zerolinecolor": "white",
           "zerolinewidth": 2
          }
         }
        },
        "title": {
         "text": "PCA: Clusters"
        },
        "xaxis": {
         "anchor": "y",
         "domain": [
          0,
          1
         ],
         "title": {
          "text": "PC1"
         }
        },
        "yaxis": {
         "anchor": "x",
         "domain": [
          0,
          1
         ],
         "title": {
          "text": "PC2"
         }
        }
       }
      }
     },
     "metadata": {},
     "output_type": "display_data"
    }
   ],
   "source": [
    "fig = px.scatter(data_frame=X_pca, x='PC1', y='PC2', color=X['LABELS'].astype(str), title='PCA: Clusters')\n",
    "fig.show()\n"
   ]
  }
 ],
 "metadata": {
  "kernelspec": {
   "display_name": "Python 3",
   "language": "python",
   "name": "python3"
  },
  "language_info": {
   "codemirror_mode": {
    "name": "ipython",
    "version": 3
   },
   "file_extension": ".py",
   "mimetype": "text/x-python",
   "name": "python",
   "nbconvert_exporter": "python",
   "pygments_lexer": "ipython3",
   "version": "3.12.5"
  }
 },
 "nbformat": 4,
 "nbformat_minor": 5
}
